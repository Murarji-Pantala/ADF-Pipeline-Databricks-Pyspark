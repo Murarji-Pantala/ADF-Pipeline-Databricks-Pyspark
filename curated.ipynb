{
 "cells": [
  {
   "cell_type": "code",
   "execution_count": 0,
   "metadata": {
    "application/vnd.databricks.v1+cell": {
     "cellMetadata": {
      "byteLimit": 2048000,
      "rowLimit": 10000
     },
     "inputWidgets": {},
     "nuid": "ee6cd2af-304c-4de1-9d73-85cced668138",
     "showTitle": false,
     "tableResultSettingsMap": {},
     "title": ""
    }
   },
   "outputs": [
    {
     "output_type": "execute_result",
     "data": {
      "text/plain": [
       "[SecretMetadata(key='SecretIngestion'),\n",
       " SecretMetadata(key='service-credential'),\n",
       " SecretMetadata(key='service-credential-project')]"
      ]
     },
     "execution_count": 1,
     "metadata": {},
     "output_type": "execute_result"
    }
   ],
   "source": [
    "dbutils.secrets.list('blob-scope')"
   ]
  },
  {
   "cell_type": "code",
   "execution_count": 0,
   "metadata": {
    "application/vnd.databricks.v1+cell": {
     "cellMetadata": {
      "byteLimit": 2048000,
      "rowLimit": 10000
     },
     "inputWidgets": {},
     "nuid": "4fc581a8-509c-426f-8ded-b4ceef8ec4cc",
     "showTitle": false,
     "tableResultSettingsMap": {},
     "title": ""
    }
   },
   "outputs": [
    {
     "output_type": "execute_result",
     "data": {
      "text/plain": [
       "[SecretScope(name='blob-scope'), SecretScope(name='blob-scope-rawstorage123')]"
      ]
     },
     "execution_count": 4,
     "metadata": {},
     "output_type": "execute_result"
    }
   ],
   "source": [
    "dbutils.secrets.listScopes()"
   ]
  },
  {
   "cell_type": "code",
   "execution_count": 0,
   "metadata": {
    "application/vnd.databricks.v1+cell": {
     "cellMetadata": {
      "byteLimit": 2048000,
      "rowLimit": 10000
     },
     "inputWidgets": {},
     "nuid": "99197bb3-44cd-4b37-80de-8f343fd8ef2f",
     "showTitle": false,
     "tableResultSettingsMap": {},
     "title": ""
    }
   },
   "outputs": [
    {
     "output_type": "execute_result",
     "data": {
      "text/plain": [
       "'[REDACTED]'"
      ]
     },
     "execution_count": 5,
     "metadata": {},
     "output_type": "execute_result"
    }
   ],
   "source": [
    "dbutils.secrets.get('blob-scope','service-credential-project')"
   ]
  },
  {
   "cell_type": "code",
   "execution_count": 0,
   "metadata": {
    "application/vnd.databricks.v1+cell": {
     "cellMetadata": {
      "byteLimit": 2048000,
      "rowLimit": 10000
     },
     "inputWidgets": {},
     "nuid": "76a970b0-7656-4be8-9576-a179ba261ccf",
     "showTitle": false,
     "tableResultSettingsMap": {},
     "title": ""
    }
   },
   "outputs": [],
   "source": [
    "application_id=\"257f1bbb-d8da-46ed-9dc1-a417530e9324\"\n",
    "directory_id=\"654ad10e-3170-4844-bb2d-b2c7a9ae5a8d\"\n",
    "service_credential = dbutils.secrets.get('blob-scope-rawstorage123','service-credential-project')\n",
    "\n",
    "spark.conf.set(\"fs.azure.account.auth.type.rawstorage123.dfs.core.windows.net\", \"OAuth\")\n",
    "spark.conf.set(\"fs.azure.account.oauth.provider.type.rawstorage123.dfs.core.windows.net\", \"org.apache.hadoop.fs.azurebfs.oauth2.ClientCredsTokenProvider\")\n",
    "spark.conf.set(\"fs.azure.account.oauth2.client.id.rawstorage123.dfs.core.windows.net\", application_id)\n",
    "spark.conf.set(\"fs.azure.account.oauth2.client.secret.rawstorage123.dfs.core.windows.net\", service_credential)\n",
    "spark.conf.set(\"fs.azure.account.oauth2.client.endpoint.rawstorage123.dfs.core.windows.net\", f\"https://login.microsoftonline.com/{directory_id}/oauth2/token\")"
   ]
  },
  {
   "cell_type": "code",
   "execution_count": 0,
   "metadata": {
    "application/vnd.databricks.v1+cell": {
     "cellMetadata": {
      "byteLimit": 2048000,
      "rowLimit": 10000
     },
     "inputWidgets": {},
     "nuid": "6f2057dc-0238-4336-a46a-9c65d5d2a743",
     "showTitle": false,
     "tableResultSettingsMap": {},
     "title": ""
    }
   },
   "outputs": [
    {
     "output_type": "display_data",
     "data": {
      "text/html": [
       "<style scoped>\n",
       "  .table-result-container {\n",
       "    max-height: 300px;\n",
       "    overflow: auto;\n",
       "  }\n",
       "  table, th, td {\n",
       "    border: 1px solid black;\n",
       "    border-collapse: collapse;\n",
       "  }\n",
       "  th, td {\n",
       "    padding: 5px;\n",
       "  }\n",
       "  th {\n",
       "    text-align: left;\n",
       "  }\n",
       "</style><div class='table-result-container'><table class='table-result'><thead style='background-color: white'><tr><th>path</th><th>name</th><th>size</th><th>modificationTime</th></tr></thead><tbody><tr><td>abfss://raw@rawstorage123.dfs.core.windows.net/ingestion/</td><td>ingestion/</td><td>0</td><td>0</td></tr></tbody></table></div>"
      ]
     },
     "metadata": {
      "application/vnd.databricks.v1+output": {
       "addedWidgets": {},
       "aggData": [],
       "aggError": "",
       "aggOverflow": false,
       "aggSchema": [],
       "aggSeriesLimitReached": false,
       "aggType": "",
       "arguments": {},
       "columnCustomDisplayInfos": {},
       "data": [
        [
         "abfss://raw@rawstorage123.dfs.core.windows.net/ingestion/",
         "ingestion/",
         0,
         0
        ]
       ],
       "datasetInfos": [],
       "dbfsResultPath": null,
       "isJsonSchema": true,
       "metadata": {},
       "overflow": false,
       "plotOptions": {
        "customPlotOptions": {},
        "displayType": "table",
        "pivotAggregation": null,
        "pivotColumns": null,
        "xColumns": null,
        "yColumns": null
       },
       "removedWidgets": [],
       "schema": [
        {
         "metadata": "{}",
         "name": "path",
         "type": "\"string\""
        },
        {
         "metadata": "{}",
         "name": "name",
         "type": "\"string\""
        },
        {
         "metadata": "{}",
         "name": "size",
         "type": "\"long\""
        },
        {
         "metadata": "{}",
         "name": "modificationTime",
         "type": "\"long\""
        }
       ],
       "type": "table"
      }
     },
     "output_type": "display_data"
    }
   ],
   "source": [
    "display(dbutils.fs.ls(\"abfss://raw@rawstorage123.dfs.core.windows.net/\"))"
   ]
  },
  {
   "cell_type": "code",
   "execution_count": 0,
   "metadata": {
    "application/vnd.databricks.v1+cell": {
     "cellMetadata": {
      "byteLimit": 2048000,
      "rowLimit": 10000
     },
     "inputWidgets": {},
     "nuid": "6d2177b1-aef9-4e3c-805b-e8e1054bcfea",
     "showTitle": false,
     "tableResultSettingsMap": {},
     "title": ""
    }
   },
   "outputs": [
    {
     "output_type": "display_data",
     "data": {
      "text/html": [
       "<style scoped>\n",
       "  .table-result-container {\n",
       "    max-height: 300px;\n",
       "    overflow: auto;\n",
       "  }\n",
       "  table, th, td {\n",
       "    border: 1px solid black;\n",
       "    border-collapse: collapse;\n",
       "  }\n",
       "  th, td {\n",
       "    padding: 5px;\n",
       "  }\n",
       "  th {\n",
       "    text-align: left;\n",
       "  }\n",
       "</style><div class='table-result-container'><table class='table-result'><thead style='background-color: white'><tr><th>Transaction ID</th><th>Customer Name</th><th>Product</th><th>Quantity</th><th>Price Per Unit</th><th>Transaction Date</th><th>Region</th></tr></thead><tbody><tr><td>c36c12af-d6ef-485d-b81a-4dfd5016acba</td><td>Darlene House</td><td>Laptop </td><td>10.0</td><td>372.0</td><td>2024-03-01</td><td>SOUTH</td></tr><tr><td>6e0af861-fe73-43ff-8611-4eb004720893</td><td>Stuart Barron</td><td>Laptop</td><td>null</td><td>$481</td><td>04-21-2024</td><td>North</td></tr><tr><td>a359713b-cad7-4e1a-8e9d-312ac06e65d8</td><td>Maureen Lyons</td><td>Tablet </td><td>-2.0</td><td>490.0</td><td>2024-06-03</td><td>east </td></tr><tr><td>fed09892-d3e8-492e-a064-2e727579b5ac</td><td>John Lee</td><td>laptop</td><td>null</td><td>345</td><td>04-03-2024</td><td>South</td></tr><tr><td>998d01e2-7be6-4456-9513-954309839c04</td><td>Daniel Walls</td><td>LapTop</td><td>7.0</td><td>223</td><td>09/06/2024</td><td>south </td></tr><tr><td>0c0c249a-20f3-422d-9699-532eee6d8874</td><td>Nicholas Cruz</td><td>Laptop</td><td>-1.0</td><td>$384</td><td>10-10-2024</td><td>North</td></tr><tr><td>8ec976ad-bd94-4694-983f-8f31d3dd5fbd</td><td>Andrea Morales</td><td>laptop</td><td>3.0</td><td>$361</td><td>24/06/2024</td><td>east </td></tr><tr><td>c8576bd0-0b3c-4d63-b963-67bbcf1674a8</td><td>Ethan Thomas</td><td>Laptop</td><td>null</td><td>340.0</td><td>29/09/2024</td><td>SOUTH</td></tr><tr><td>b01682d6-8b67-4156-bfee-5142b19ffae7</td><td>Ann Thomas</td><td>Laptop </td><td>-1.0</td><td>379.0</td><td>26/07/2024</td><td>east </td></tr><tr><td>dfd452cd-0a75-43d9-91f6-b7f2002af969</td><td>Paul Smith</td><td>Tablet </td><td>null</td><td>127.0</td><td>25/03/2024</td><td>WEST</td></tr><tr><td>e56b692d-0096-4e4c-9145-bcc22a8481b8</td><td>Todd Sandoval</td><td>laptop</td><td>null</td><td>246.0</td><td>2024-06-08</td><td>north </td></tr><tr><td>778154ce-86c4-460b-b3e4-20a065837331</td><td>Colton Cole</td><td>LapTop</td><td>null</td><td>419</td><td>06-02-2024</td><td>EAST</td></tr><tr><td>450bb9ce-5f67-4c9f-9569-9847a97641dd</td><td>Erica Nichols</td><td>Laptop </td><td>null</td><td>63.0</td><td>2024-11-30</td><td>north </td></tr><tr><td>ae8ea305-06b2-428e-8bf9-c2c606d07170</td><td>Lisa Fowler</td><td>Laptop </td><td>9.0</td><td>295</td><td>11-11-2024</td><td>NORTH</td></tr><tr><td>34be067d-e014-43a4-a40b-80a88483cf91</td><td>Christy Garcia</td><td>LapTop</td><td>3.0</td><td>$103</td><td>2024-10-12</td><td>north </td></tr><tr><td>f116a929-0210-4c4a-818d-6486816b892b</td><td>Monica Lawson</td><td>TABLET</td><td>-1.0</td><td>496.0</td><td>12/06/2024</td><td>North</td></tr><tr><td>c0869c82-9d9d-4374-b14a-ca8430def93e</td><td>Brandon Parker</td><td>LapTop</td><td>-4.0</td><td>140</td><td>03-21-2024</td><td>NORTH</td></tr><tr><td>a4522c8a-9978-4f6d-946e-61d02b744326</td><td>Katherine Wright</td><td>Tablet </td><td>null</td><td>364</td><td>02-29-2024</td><td>north </td></tr><tr><td>6f15509e-ab1a-4d7a-98a4-45ec378a0192</td><td>Erin Snyder</td><td>Laptop</td><td>-1.0</td><td>248.0</td><td>05-16-2024</td><td>West</td></tr><tr><td>bb9f3d4f-f4ce-4412-aaf5-fe5420ace73b</td><td>Jessica Huffman</td><td>laptop</td><td>2.0</td><td>105</td><td>01/03/2024</td><td>West</td></tr><tr><td>ab7e6e8d-3de8-4c6f-a1a8-ce7c900bfbbd</td><td>Johnathan Cain</td><td>Laptop </td><td>-4.0</td><td>326</td><td>2024-10-04</td><td>SOUTH</td></tr><tr><td>97e5b7d3-01c6-404a-b7f0-425346a2a4f0</td><td>Linda Summers</td><td>TABLET</td><td>9.0</td><td>$352</td><td>2024-08-12</td><td>east </td></tr><tr><td>d8212ec3-6e8b-4116-aaf9-525c7ab2bdf4</td><td>Brenda Wolfe</td><td>Laptop</td><td>null</td><td>$271</td><td>04/08/2024</td><td>North</td></tr><tr><td>6b3482ab-2487-410d-b453-d8370415f78a</td><td>Jacob Kelly</td><td>TABLET</td><td>null</td><td>$327</td><td>30/09/2024</td><td>East</td></tr><tr><td>8c876e75-efde-4036-a8d4-8af30a45bd3f</td><td>Andrea Taylor</td><td>Laptop </td><td>-1.0</td><td>121.0</td><td>24/09/2024</td><td>south </td></tr><tr><td>2a092da0-c13f-4f0e-8e04-464839f0b5d1</td><td>Stephen Smith</td><td>Laptop </td><td>8.0</td><td>460</td><td>11-09-2024</td><td>east </td></tr><tr><td>323ce06c-96b9-4a0f-8d6f-120cb214e828</td><td>Gerald Park</td><td>TABLET</td><td>-2.0</td><td>291.0</td><td>20/02/2024</td><td>west </td></tr><tr><td>6c8fd853-a203-4a61-b5c0-2c499ed9edb8</td><td>Christopher Nelson</td><td>Tablet </td><td>8.0</td><td>$130</td><td>05-13-2024</td><td>West</td></tr><tr><td>0141fa3c-b04a-4b31-836a-0eef021aad2f</td><td>Thomas Clayton</td><td>Laptop </td><td>-3.0</td><td>329.0</td><td>11-02-2024</td><td>north </td></tr><tr><td>4828255e-25ec-41ac-8390-90ac920c32ea</td><td>Danny Lee</td><td>Tablet</td><td>null</td><td>468</td><td>2024-11-05</td><td>east </td></tr><tr><td>6dd4873c-d1f7-4910-8833-fbf33b627a45</td><td>Mark Jones</td><td>LapTop</td><td>6.0</td><td>349.0</td><td>22/05/2024</td><td>east </td></tr><tr><td>a82f02c8-6048-4dcb-9693-520bcbbfa4e8</td><td>Vincent Steele Jr.</td><td>Tablet</td><td>7.0</td><td>193</td><td>03-12-2024</td><td>East</td></tr><tr><td>30d33ebd-3e79-47a3-b246-ab3a92fd376b</td><td>Chase Washington</td><td>Laptop</td><td>3.0</td><td>415</td><td>04-05-2024</td><td>SOUTH</td></tr><tr><td>003b7acc-d4d4-4385-99cf-5b1a7137bd3e</td><td>Brandon Johnson</td><td>Laptop</td><td>null</td><td>319</td><td>23/11/2024</td><td>west </td></tr><tr><td>4895baa8-c634-4250-9c12-ed836fdee69f</td><td>Mary Logan DVM</td><td>laptop</td><td>7.0</td><td>488</td><td>2024-06-20</td><td>North</td></tr><tr><td>c3ffeecf-3041-4389-8f36-e2754d47d314</td><td>Nicole Dawson</td><td>TABLET</td><td>0.0</td><td>$246</td><td>06-27-2024</td><td>east </td></tr><tr><td>fee3e6f8-d80b-4a69-b559-d2c8929c8df4</td><td>Jeffrey Horton</td><td>Tablet</td><td>3.0</td><td>287.0</td><td>2024-10-09</td><td>North</td></tr><tr><td>ea3864be-7b7d-4ad4-b59a-7e1ba2dfe785</td><td>Ryan Simpson</td><td>Tablet</td><td>null</td><td>92.0</td><td>08-28-2024</td><td>north </td></tr><tr><td>f4ecb27e-1eeb-41a6-a6a0-c2f5e5fafb0a</td><td>Michael Jones</td><td>Tablet </td><td>8.0</td><td>229</td><td>2024-04-15</td><td>South</td></tr><tr><td>101fa00f-a49e-455b-8e31-1550563078e0</td><td>Paul Hodges</td><td>Laptop </td><td>null</td><td>371</td><td>2024-07-05</td><td>EAST</td></tr><tr><td>87847a11-1711-4f5f-a91e-0454a9ad80f0</td><td>Christopher Curtis</td><td>LapTop</td><td>-4.0</td><td>389.0</td><td>2024-10-15</td><td>EAST</td></tr><tr><td>7ca82747-caef-416f-a07e-abd09b595196</td><td>Cathy Thomas</td><td>Laptop</td><td>null</td><td>410.0</td><td>01-18-2024</td><td>north </td></tr><tr><td>9ac77cbe-382f-4a56-9f58-c812f4d24c26</td><td>Amanda Thomas</td><td>laptop</td><td>-1.0</td><td>73</td><td>12/04/2024</td><td>NORTH</td></tr><tr><td>782d80bc-f5c0-42fd-b72c-850795d949af</td><td>Mario Ford</td><td>Laptop</td><td>null</td><td>499</td><td>13/03/2024</td><td>East</td></tr><tr><td>80512132-f226-4347-accf-ad7878a16fed</td><td>Edward Bond</td><td>TABLET</td><td>null</td><td>186</td><td>17/01/2024</td><td>East</td></tr><tr><td>41b98e56-276e-4b12-a532-7ed77c39aa8d</td><td>Daniel Martinez</td><td>laptop</td><td>-5.0</td><td>$332</td><td>02-12-2024</td><td>West</td></tr><tr><td>dcf93957-7886-4f7f-b412-c125d1a662a0</td><td>Sara Ramirez</td><td>LapTop</td><td>null</td><td>$127</td><td>2024-02-19</td><td>EAST</td></tr><tr><td>9ced51b7-a0e0-4219-91bb-b6f9f839870d</td><td>Kenneth Ellis</td><td>LapTop</td><td>-1.0</td><td>$393</td><td>05-17-2024</td><td>west </td></tr><tr><td>bdac9f79-a06c-4e7c-b249-6cc8351d0353</td><td>Mariah Anderson</td><td>Tablet</td><td>-5.0</td><td>255</td><td>06-18-2024</td><td>WEST</td></tr><tr><td>c6f8e471-9fa9-47f8-b7ae-32d24bb45634</td><td>Dalton Austin</td><td>laptop</td><td>null</td><td>$153</td><td>23/01/2024</td><td>south </td></tr><tr><td>e0f9d657-b898-4b5a-9481-4a3577ce644a</td><td>Scott Moore</td><td>Laptop </td><td>3.0</td><td>$409</td><td>04/11/2024</td><td>WEST</td></tr><tr><td>5449f262-7965-408a-a9e1-a0caa375d52e</td><td>Stephen Williamson</td><td>Laptop </td><td>1.0</td><td>118.0</td><td>2024-08-12</td><td>EAST</td></tr><tr><td>3a40ec1e-51a4-4fa8-a126-fb86458235fd</td><td>Kelly Beard</td><td>LapTop</td><td>-1.0</td><td>67</td><td>04-01-2024</td><td>North</td></tr><tr><td>7340fc8a-92c4-4490-90a6-52af72ef58e7</td><td>Glen Alvarado</td><td>laptop</td><td>6.0</td><td>$61</td><td>04/03/2024</td><td>west </td></tr><tr><td>9ca5dd2b-5a4e-4143-bcc2-ce2ecb34e9f1</td><td>George Gray</td><td>Laptop </td><td>null</td><td>$130</td><td>30/04/2024</td><td>North</td></tr><tr><td>03138bf0-8b70-478c-bafe-166c3268162b</td><td>Mrs. Mary Blankenship</td><td>Laptop</td><td>8.0</td><td>307</td><td>26/02/2024</td><td>North</td></tr><tr><td>4829e024-e9e8-4a5b-82de-f9ae5a6f86de</td><td>Sierra Waters</td><td>Laptop </td><td>null</td><td>273</td><td>04-15-2024</td><td>East</td></tr><tr><td>0931c839-d9a6-4b51-9715-30a7520a9dbf</td><td>Derek Hernandez</td><td>LapTop</td><td>10.0</td><td>$327</td><td>01-31-2024</td><td>NORTH</td></tr><tr><td>7e7ce8e5-feb4-4947-9869-2547ba405574</td><td>Dr. Daniel King DDS</td><td>Laptop</td><td>-5.0</td><td>107</td><td>28/08/2024</td><td>west </td></tr><tr><td>bbed0c20-8fe6-4c08-ba10-0464b7567847</td><td>Carl Moore</td><td>TABLET</td><td>null</td><td>$173</td><td>02/08/2024</td><td>south </td></tr><tr><td>85c68336-9177-4074-939e-a51dec3cb714</td><td>Ryan Harrington</td><td>TABLET</td><td>null</td><td>131</td><td>28/07/2024</td><td>EAST</td></tr><tr><td>0121d08b-b639-4519-9360-8e919b0a739c</td><td>Gina Banks</td><td>Laptop</td><td>-4.0</td><td>147.0</td><td>06/06/2024</td><td>west </td></tr><tr><td>5cbca593-e412-4dec-8bed-a2f83774e4f1</td><td>William Travis</td><td>LapTop</td><td>1.0</td><td>$166</td><td>2024-02-26</td><td>West</td></tr><tr><td>76e73fcc-4337-4b24-91ca-428d4fa5eb19</td><td>Keith Carter</td><td>Laptop </td><td>-5.0</td><td>426.0</td><td>03-31-2024</td><td>east </td></tr><tr><td>9c4ab30a-6374-4b75-b9df-4bfec710c7a6</td><td>Linda Mckinney</td><td>Laptop</td><td>null</td><td>66.0</td><td>22/01/2024</td><td>west </td></tr><tr><td>0723cbd9-33d7-4f94-b01b-3289688cec5c</td><td>Betty Anderson</td><td>TABLET</td><td>null</td><td>254.0</td><td>25/01/2024</td><td>north </td></tr><tr><td>8a279289-0087-4d74-a8a4-ccd7e8b08add</td><td>John Burke</td><td>Tablet</td><td>null</td><td>249.0</td><td>2024-04-27</td><td>North</td></tr><tr><td>bca3b088-9e29-4ab2-a13a-798f54d708c2</td><td>Brandon Short</td><td>Tablet</td><td>-3.0</td><td>400.0</td><td>23/01/2024</td><td>south </td></tr><tr><td>94cc574b-0ddd-421f-9662-f47ee1e311ff</td><td>Bryan Hopkins</td><td>LapTop</td><td>null</td><td>96.0</td><td>08-02-2024</td><td>west </td></tr><tr><td>d186ae10-b1f0-48f2-a3a9-c9106ebd4eb2</td><td>Kim Cooper</td><td>Tablet</td><td>4.0</td><td>$89</td><td>11-18-2024</td><td>west </td></tr><tr><td>7815230e-61da-40ae-abc4-89cf8e8038f5</td><td>Cynthia Rich</td><td>Laptop </td><td>null</td><td>269.0</td><td>2024-04-05</td><td>EAST</td></tr><tr><td>fab86cca-0598-4bca-b229-979d5dfd758e</td><td>Ryan Dunn</td><td>Tablet </td><td>6.0</td><td>126.0</td><td>07-15-2024</td><td>East</td></tr><tr><td>df293035-020d-4df4-9783-109b63ca633b</td><td>Amber Brady</td><td>Laptop </td><td>3.0</td><td>320</td><td>12/06/2024</td><td>north </td></tr><tr><td>1899a1e0-d8da-45b8-8342-651917a172bc</td><td>Kyle Byrd</td><td>Tablet </td><td>-3.0</td><td>$471</td><td>2024-03-31</td><td>WEST</td></tr><tr><td>b20e3522-43f7-4ff8-afab-69121d7f18c6</td><td>Dawn Johnston</td><td>Laptop</td><td>null</td><td>$188</td><td>07-20-2024</td><td>EAST</td></tr><tr><td>48dd31eb-5282-46a8-a8b2-b447be194134</td><td>Steven Clark</td><td>Laptop </td><td>null</td><td>$162</td><td>10/05/2024</td><td>South</td></tr><tr><td>3e6ea67d-781d-49f1-98e8-3afd1e7ee078</td><td>Kelsey Murphy</td><td>LapTop</td><td>null</td><td>293</td><td>21/04/2024</td><td>east </td></tr><tr><td>14c19ad4-50e9-404b-b1d5-1142be1ad5ff</td><td>Vanessa Mendoza</td><td>TABLET</td><td>3.0</td><td>$360</td><td>2024-10-14</td><td>East</td></tr><tr><td>49f9dc43-f703-4de4-a87f-96915db513ed</td><td>Mia Benton</td><td>LapTop</td><td>-3.0</td><td>200</td><td>22/05/2024</td><td>East</td></tr><tr><td>004ce647-0b78-406d-a1ed-0172aebbbcf5</td><td>Mr. Jason Good</td><td>Laptop </td><td>0.0</td><td>298</td><td>07/08/2024</td><td>SOUTH</td></tr><tr><td>c9ee33b3-9650-48da-be63-5433b922a2eb</td><td>Corey Garner</td><td>LapTop</td><td>7.0</td><td>478</td><td>2024-08-16</td><td>North</td></tr><tr><td>ba0c1ac1-fb71-44b0-a76b-d6b322641f0d</td><td>Brian Cherry</td><td>Laptop </td><td>0.0</td><td>475</td><td>09-15-2024</td><td>south </td></tr><tr><td>5a96d15b-3432-420d-913d-d24d04325be3</td><td>Brett Thompson</td><td>Laptop</td><td>2.0</td><td>304.0</td><td>2024-09-14</td><td>south </td></tr><tr><td>5c46e5bb-198a-4f4d-a22d-6cf066f93ecd</td><td>Chelsey Romero</td><td>TABLET</td><td>1.0</td><td>$293</td><td>04-07-2024</td><td>south </td></tr><tr><td>25d7711d-2932-41e1-8679-6d9578666866</td><td>Sara Peters</td><td>TABLET</td><td>null</td><td>479.0</td><td>2024-07-23</td><td>West</td></tr><tr><td>076be842-4974-4b14-9263-84e4268aa6bd</td><td>Stephanie Oneill</td><td>Laptop</td><td>-4.0</td><td>260.0</td><td>04-07-2024</td><td>EAST</td></tr><tr><td>f236da6d-84b7-485e-bc62-c491829140ee</td><td>Eric Spears</td><td>laptop</td><td>null</td><td>309.0</td><td>12/08/2024</td><td>South</td></tr><tr><td>5eedd5c2-7b89-455e-bc7c-d77af2f9ba8f</td><td>Courtney Dodson</td><td>Tablet </td><td>-5.0</td><td>468.0</td><td>01-08-2024</td><td>north </td></tr><tr><td>a84f24a8-ff1e-4fd1-88ac-ffecd292cf80</td><td>Raymond Smith</td><td>LapTop</td><td>-4.0</td><td>300.0</td><td>14/07/2024</td><td>East</td></tr><tr><td>99022f4f-30f0-4530-8585-266c45fbb4ad</td><td>Michelle Obrien</td><td>Laptop</td><td>null</td><td>373.0</td><td>15/01/2024</td><td>north </td></tr><tr><td>b32c4ed2-5830-4085-b60e-41a042bb9a82</td><td>John Johnson</td><td>laptop</td><td>4.0</td><td>173.0</td><td>2024-10-03</td><td>NORTH</td></tr><tr><td>e434087a-6f97-4cef-8871-2974eb6b5476</td><td>Marisa Patton</td><td>TABLET</td><td>-1.0</td><td>407</td><td>2024-04-28</td><td>NORTH</td></tr><tr><td>7baec9cf-9e41-4aa1-9a73-1ea9260c92c7</td><td>Justin Mcdowell</td><td>Laptop</td><td>0.0</td><td>$251</td><td>25/03/2024</td><td>South</td></tr><tr><td>4c41f044-2f2a-42c2-ae42-36206f3db711</td><td>David Beck</td><td>Laptop </td><td>10.0</td><td>$493</td><td>2024-05-01</td><td>east </td></tr><tr><td>a1c624cd-d425-4fb6-815b-78ae389a69e2</td><td>Sandra Davis</td><td>Laptop </td><td>10.0</td><td>379</td><td>29/05/2024</td><td>west </td></tr><tr><td>4c52508a-694b-4a01-a4a3-0d85f036cb5f</td><td>Lauren Johnson</td><td>Tablet</td><td>null</td><td>344</td><td>05-31-2024</td><td>West</td></tr><tr><td>1bc46a84-7564-4380-ab1d-832d7a371ef4</td><td>Jordan Coleman</td><td>LapTop</td><td>null</td><td>346</td><td>06-05-2024</td><td>NORTH</td></tr><tr><td>e6eb5efe-e0d7-4f8a-928f-94a17c1bb735</td><td>Cynthia Poole</td><td>laptop</td><td>1.0</td><td>$110</td><td>10/07/2024</td><td>EAST</td></tr><tr><td>7c46af09-ff18-456d-8d04-7cc1582639ba</td><td>Brady Sosa</td><td>LapTop</td><td>-2.0</td><td>304</td><td>14/04/2024</td><td>north </td></tr><tr><td>48c80378-9576-42bb-8c58-79a9b13e01bd</td><td>Michael Kelly</td><td>Tablet </td><td>null</td><td>154</td><td>2024-03-11</td><td>north </td></tr></tbody></table></div>"
      ]
     },
     "metadata": {
      "application/vnd.databricks.v1+output": {
       "addedWidgets": {},
       "aggData": [],
       "aggError": "",
       "aggOverflow": false,
       "aggSchema": [],
       "aggSeriesLimitReached": false,
       "aggType": "",
       "arguments": {},
       "columnCustomDisplayInfos": {},
       "data": [
        [
         "c36c12af-d6ef-485d-b81a-4dfd5016acba",
         "Darlene House",
         "Laptop ",
         10.0,
         "372.0",
         "2024-03-01",
         "SOUTH"
        ],
        [
         "6e0af861-fe73-43ff-8611-4eb004720893",
         "Stuart Barron",
         "Laptop",
         null,
         "$481",
         "04-21-2024",
         "North"
        ],
        [
         "a359713b-cad7-4e1a-8e9d-312ac06e65d8",
         "Maureen Lyons",
         "Tablet ",
         -2.0,
         "490.0",
         "2024-06-03",
         "east "
        ],
        [
         "fed09892-d3e8-492e-a064-2e727579b5ac",
         "John Lee",
         "laptop",
         null,
         "345",
         "04-03-2024",
         "South"
        ],
        [
         "998d01e2-7be6-4456-9513-954309839c04",
         "Daniel Walls",
         "LapTop",
         7.0,
         "223",
         "09/06/2024",
         "south "
        ],
        [
         "0c0c249a-20f3-422d-9699-532eee6d8874",
         "Nicholas Cruz",
         "Laptop",
         -1.0,
         "$384",
         "10-10-2024",
         "North"
        ],
        [
         "8ec976ad-bd94-4694-983f-8f31d3dd5fbd",
         "Andrea Morales",
         "laptop",
         3.0,
         "$361",
         "24/06/2024",
         "east "
        ],
        [
         "c8576bd0-0b3c-4d63-b963-67bbcf1674a8",
         "Ethan Thomas",
         "Laptop",
         null,
         "340.0",
         "29/09/2024",
         "SOUTH"
        ],
        [
         "b01682d6-8b67-4156-bfee-5142b19ffae7",
         "Ann Thomas",
         "Laptop ",
         -1.0,
         "379.0",
         "26/07/2024",
         "east "
        ],
        [
         "dfd452cd-0a75-43d9-91f6-b7f2002af969",
         "Paul Smith",
         "Tablet ",
         null,
         "127.0",
         "25/03/2024",
         "WEST"
        ],
        [
         "e56b692d-0096-4e4c-9145-bcc22a8481b8",
         "Todd Sandoval",
         "laptop",
         null,
         "246.0",
         "2024-06-08",
         "north "
        ],
        [
         "778154ce-86c4-460b-b3e4-20a065837331",
         "Colton Cole",
         "LapTop",
         null,
         "419",
         "06-02-2024",
         "EAST"
        ],
        [
         "450bb9ce-5f67-4c9f-9569-9847a97641dd",
         "Erica Nichols",
         "Laptop ",
         null,
         "63.0",
         "2024-11-30",
         "north "
        ],
        [
         "ae8ea305-06b2-428e-8bf9-c2c606d07170",
         "Lisa Fowler",
         "Laptop ",
         9.0,
         "295",
         "11-11-2024",
         "NORTH"
        ],
        [
         "34be067d-e014-43a4-a40b-80a88483cf91",
         "Christy Garcia",
         "LapTop",
         3.0,
         "$103",
         "2024-10-12",
         "north "
        ],
        [
         "f116a929-0210-4c4a-818d-6486816b892b",
         "Monica Lawson",
         "TABLET",
         -1.0,
         "496.0",
         "12/06/2024",
         "North"
        ],
        [
         "c0869c82-9d9d-4374-b14a-ca8430def93e",
         "Brandon Parker",
         "LapTop",
         -4.0,
         "140",
         "03-21-2024",
         "NORTH"
        ],
        [
         "a4522c8a-9978-4f6d-946e-61d02b744326",
         "Katherine Wright",
         "Tablet ",
         null,
         "364",
         "02-29-2024",
         "north "
        ],
        [
         "6f15509e-ab1a-4d7a-98a4-45ec378a0192",
         "Erin Snyder",
         "Laptop",
         -1.0,
         "248.0",
         "05-16-2024",
         "West"
        ],
        [
         "bb9f3d4f-f4ce-4412-aaf5-fe5420ace73b",
         "Jessica Huffman",
         "laptop",
         2.0,
         "105",
         "01/03/2024",
         "West"
        ],
        [
         "ab7e6e8d-3de8-4c6f-a1a8-ce7c900bfbbd",
         "Johnathan Cain",
         "Laptop ",
         -4.0,
         "326",
         "2024-10-04",
         "SOUTH"
        ],
        [
         "97e5b7d3-01c6-404a-b7f0-425346a2a4f0",
         "Linda Summers",
         "TABLET",
         9.0,
         "$352",
         "2024-08-12",
         "east "
        ],
        [
         "d8212ec3-6e8b-4116-aaf9-525c7ab2bdf4",
         "Brenda Wolfe",
         "Laptop",
         null,
         "$271",
         "04/08/2024",
         "North"
        ],
        [
         "6b3482ab-2487-410d-b453-d8370415f78a",
         "Jacob Kelly",
         "TABLET",
         null,
         "$327",
         "30/09/2024",
         "East"
        ],
        [
         "8c876e75-efde-4036-a8d4-8af30a45bd3f",
         "Andrea Taylor",
         "Laptop ",
         -1.0,
         "121.0",
         "24/09/2024",
         "south "
        ],
        [
         "2a092da0-c13f-4f0e-8e04-464839f0b5d1",
         "Stephen Smith",
         "Laptop ",
         8.0,
         "460",
         "11-09-2024",
         "east "
        ],
        [
         "323ce06c-96b9-4a0f-8d6f-120cb214e828",
         "Gerald Park",
         "TABLET",
         -2.0,
         "291.0",
         "20/02/2024",
         "west "
        ],
        [
         "6c8fd853-a203-4a61-b5c0-2c499ed9edb8",
         "Christopher Nelson",
         "Tablet ",
         8.0,
         "$130",
         "05-13-2024",
         "West"
        ],
        [
         "0141fa3c-b04a-4b31-836a-0eef021aad2f",
         "Thomas Clayton",
         "Laptop ",
         -3.0,
         "329.0",
         "11-02-2024",
         "north "
        ],
        [
         "4828255e-25ec-41ac-8390-90ac920c32ea",
         "Danny Lee",
         "Tablet",
         null,
         "468",
         "2024-11-05",
         "east "
        ],
        [
         "6dd4873c-d1f7-4910-8833-fbf33b627a45",
         "Mark Jones",
         "LapTop",
         6.0,
         "349.0",
         "22/05/2024",
         "east "
        ],
        [
         "a82f02c8-6048-4dcb-9693-520bcbbfa4e8",
         "Vincent Steele Jr.",
         "Tablet",
         7.0,
         "193",
         "03-12-2024",
         "East"
        ],
        [
         "30d33ebd-3e79-47a3-b246-ab3a92fd376b",
         "Chase Washington",
         "Laptop",
         3.0,
         "415",
         "04-05-2024",
         "SOUTH"
        ],
        [
         "003b7acc-d4d4-4385-99cf-5b1a7137bd3e",
         "Brandon Johnson",
         "Laptop",
         null,
         "319",
         "23/11/2024",
         "west "
        ],
        [
         "4895baa8-c634-4250-9c12-ed836fdee69f",
         "Mary Logan DVM",
         "laptop",
         7.0,
         "488",
         "2024-06-20",
         "North"
        ],
        [
         "c3ffeecf-3041-4389-8f36-e2754d47d314",
         "Nicole Dawson",
         "TABLET",
         0.0,
         "$246",
         "06-27-2024",
         "east "
        ],
        [
         "fee3e6f8-d80b-4a69-b559-d2c8929c8df4",
         "Jeffrey Horton",
         "Tablet",
         3.0,
         "287.0",
         "2024-10-09",
         "North"
        ],
        [
         "ea3864be-7b7d-4ad4-b59a-7e1ba2dfe785",
         "Ryan Simpson",
         "Tablet",
         null,
         "92.0",
         "08-28-2024",
         "north "
        ],
        [
         "f4ecb27e-1eeb-41a6-a6a0-c2f5e5fafb0a",
         "Michael Jones",
         "Tablet ",
         8.0,
         "229",
         "2024-04-15",
         "South"
        ],
        [
         "101fa00f-a49e-455b-8e31-1550563078e0",
         "Paul Hodges",
         "Laptop ",
         null,
         "371",
         "2024-07-05",
         "EAST"
        ],
        [
         "87847a11-1711-4f5f-a91e-0454a9ad80f0",
         "Christopher Curtis",
         "LapTop",
         -4.0,
         "389.0",
         "2024-10-15",
         "EAST"
        ],
        [
         "7ca82747-caef-416f-a07e-abd09b595196",
         "Cathy Thomas",
         "Laptop",
         null,
         "410.0",
         "01-18-2024",
         "north "
        ],
        [
         "9ac77cbe-382f-4a56-9f58-c812f4d24c26",
         "Amanda Thomas",
         "laptop",
         -1.0,
         "73",
         "12/04/2024",
         "NORTH"
        ],
        [
         "782d80bc-f5c0-42fd-b72c-850795d949af",
         "Mario Ford",
         "Laptop",
         null,
         "499",
         "13/03/2024",
         "East"
        ],
        [
         "80512132-f226-4347-accf-ad7878a16fed",
         "Edward Bond",
         "TABLET",
         null,
         "186",
         "17/01/2024",
         "East"
        ],
        [
         "41b98e56-276e-4b12-a532-7ed77c39aa8d",
         "Daniel Martinez",
         "laptop",
         -5.0,
         "$332",
         "02-12-2024",
         "West"
        ],
        [
         "dcf93957-7886-4f7f-b412-c125d1a662a0",
         "Sara Ramirez",
         "LapTop",
         null,
         "$127",
         "2024-02-19",
         "EAST"
        ],
        [
         "9ced51b7-a0e0-4219-91bb-b6f9f839870d",
         "Kenneth Ellis",
         "LapTop",
         -1.0,
         "$393",
         "05-17-2024",
         "west "
        ],
        [
         "bdac9f79-a06c-4e7c-b249-6cc8351d0353",
         "Mariah Anderson",
         "Tablet",
         -5.0,
         "255",
         "06-18-2024",
         "WEST"
        ],
        [
         "c6f8e471-9fa9-47f8-b7ae-32d24bb45634",
         "Dalton Austin",
         "laptop",
         null,
         "$153",
         "23/01/2024",
         "south "
        ],
        [
         "e0f9d657-b898-4b5a-9481-4a3577ce644a",
         "Scott Moore",
         "Laptop ",
         3.0,
         "$409",
         "04/11/2024",
         "WEST"
        ],
        [
         "5449f262-7965-408a-a9e1-a0caa375d52e",
         "Stephen Williamson",
         "Laptop ",
         1.0,
         "118.0",
         "2024-08-12",
         "EAST"
        ],
        [
         "3a40ec1e-51a4-4fa8-a126-fb86458235fd",
         "Kelly Beard",
         "LapTop",
         -1.0,
         "67",
         "04-01-2024",
         "North"
        ],
        [
         "7340fc8a-92c4-4490-90a6-52af72ef58e7",
         "Glen Alvarado",
         "laptop",
         6.0,
         "$61",
         "04/03/2024",
         "west "
        ],
        [
         "9ca5dd2b-5a4e-4143-bcc2-ce2ecb34e9f1",
         "George Gray",
         "Laptop ",
         null,
         "$130",
         "30/04/2024",
         "North"
        ],
        [
         "03138bf0-8b70-478c-bafe-166c3268162b",
         "Mrs. Mary Blankenship",
         "Laptop",
         8.0,
         "307",
         "26/02/2024",
         "North"
        ],
        [
         "4829e024-e9e8-4a5b-82de-f9ae5a6f86de",
         "Sierra Waters",
         "Laptop ",
         null,
         "273",
         "04-15-2024",
         "East"
        ],
        [
         "0931c839-d9a6-4b51-9715-30a7520a9dbf",
         "Derek Hernandez",
         "LapTop",
         10.0,
         "$327",
         "01-31-2024",
         "NORTH"
        ],
        [
         "7e7ce8e5-feb4-4947-9869-2547ba405574",
         "Dr. Daniel King DDS",
         "Laptop",
         -5.0,
         "107",
         "28/08/2024",
         "west "
        ],
        [
         "bbed0c20-8fe6-4c08-ba10-0464b7567847",
         "Carl Moore",
         "TABLET",
         null,
         "$173",
         "02/08/2024",
         "south "
        ],
        [
         "85c68336-9177-4074-939e-a51dec3cb714",
         "Ryan Harrington",
         "TABLET",
         null,
         "131",
         "28/07/2024",
         "EAST"
        ],
        [
         "0121d08b-b639-4519-9360-8e919b0a739c",
         "Gina Banks",
         "Laptop",
         -4.0,
         "147.0",
         "06/06/2024",
         "west "
        ],
        [
         "5cbca593-e412-4dec-8bed-a2f83774e4f1",
         "William Travis",
         "LapTop",
         1.0,
         "$166",
         "2024-02-26",
         "West"
        ],
        [
         "76e73fcc-4337-4b24-91ca-428d4fa5eb19",
         "Keith Carter",
         "Laptop ",
         -5.0,
         "426.0",
         "03-31-2024",
         "east "
        ],
        [
         "9c4ab30a-6374-4b75-b9df-4bfec710c7a6",
         "Linda Mckinney",
         "Laptop",
         null,
         "66.0",
         "22/01/2024",
         "west "
        ],
        [
         "0723cbd9-33d7-4f94-b01b-3289688cec5c",
         "Betty Anderson",
         "TABLET",
         null,
         "254.0",
         "25/01/2024",
         "north "
        ],
        [
         "8a279289-0087-4d74-a8a4-ccd7e8b08add",
         "John Burke",
         "Tablet",
         null,
         "249.0",
         "2024-04-27",
         "North"
        ],
        [
         "bca3b088-9e29-4ab2-a13a-798f54d708c2",
         "Brandon Short",
         "Tablet",
         -3.0,
         "400.0",
         "23/01/2024",
         "south "
        ],
        [
         "94cc574b-0ddd-421f-9662-f47ee1e311ff",
         "Bryan Hopkins",
         "LapTop",
         null,
         "96.0",
         "08-02-2024",
         "west "
        ],
        [
         "d186ae10-b1f0-48f2-a3a9-c9106ebd4eb2",
         "Kim Cooper",
         "Tablet",
         4.0,
         "$89",
         "11-18-2024",
         "west "
        ],
        [
         "7815230e-61da-40ae-abc4-89cf8e8038f5",
         "Cynthia Rich",
         "Laptop ",
         null,
         "269.0",
         "2024-04-05",
         "EAST"
        ],
        [
         "fab86cca-0598-4bca-b229-979d5dfd758e",
         "Ryan Dunn",
         "Tablet ",
         6.0,
         "126.0",
         "07-15-2024",
         "East"
        ],
        [
         "df293035-020d-4df4-9783-109b63ca633b",
         "Amber Brady",
         "Laptop ",
         3.0,
         "320",
         "12/06/2024",
         "north "
        ],
        [
         "1899a1e0-d8da-45b8-8342-651917a172bc",
         "Kyle Byrd",
         "Tablet ",
         -3.0,
         "$471",
         "2024-03-31",
         "WEST"
        ],
        [
         "b20e3522-43f7-4ff8-afab-69121d7f18c6",
         "Dawn Johnston",
         "Laptop",
         null,
         "$188",
         "07-20-2024",
         "EAST"
        ],
        [
         "48dd31eb-5282-46a8-a8b2-b447be194134",
         "Steven Clark",
         "Laptop ",
         null,
         "$162",
         "10/05/2024",
         "South"
        ],
        [
         "3e6ea67d-781d-49f1-98e8-3afd1e7ee078",
         "Kelsey Murphy",
         "LapTop",
         null,
         "293",
         "21/04/2024",
         "east "
        ],
        [
         "14c19ad4-50e9-404b-b1d5-1142be1ad5ff",
         "Vanessa Mendoza",
         "TABLET",
         3.0,
         "$360",
         "2024-10-14",
         "East"
        ],
        [
         "49f9dc43-f703-4de4-a87f-96915db513ed",
         "Mia Benton",
         "LapTop",
         -3.0,
         "200",
         "22/05/2024",
         "East"
        ],
        [
         "004ce647-0b78-406d-a1ed-0172aebbbcf5",
         "Mr. Jason Good",
         "Laptop ",
         0.0,
         "298",
         "07/08/2024",
         "SOUTH"
        ],
        [
         "c9ee33b3-9650-48da-be63-5433b922a2eb",
         "Corey Garner",
         "LapTop",
         7.0,
         "478",
         "2024-08-16",
         "North"
        ],
        [
         "ba0c1ac1-fb71-44b0-a76b-d6b322641f0d",
         "Brian Cherry",
         "Laptop ",
         0.0,
         "475",
         "09-15-2024",
         "south "
        ],
        [
         "5a96d15b-3432-420d-913d-d24d04325be3",
         "Brett Thompson",
         "Laptop",
         2.0,
         "304.0",
         "2024-09-14",
         "south "
        ],
        [
         "5c46e5bb-198a-4f4d-a22d-6cf066f93ecd",
         "Chelsey Romero",
         "TABLET",
         1.0,
         "$293",
         "04-07-2024",
         "south "
        ],
        [
         "25d7711d-2932-41e1-8679-6d9578666866",
         "Sara Peters",
         "TABLET",
         null,
         "479.0",
         "2024-07-23",
         "West"
        ],
        [
         "076be842-4974-4b14-9263-84e4268aa6bd",
         "Stephanie Oneill",
         "Laptop",
         -4.0,
         "260.0",
         "04-07-2024",
         "EAST"
        ],
        [
         "f236da6d-84b7-485e-bc62-c491829140ee",
         "Eric Spears",
         "laptop",
         null,
         "309.0",
         "12/08/2024",
         "South"
        ],
        [
         "5eedd5c2-7b89-455e-bc7c-d77af2f9ba8f",
         "Courtney Dodson",
         "Tablet ",
         -5.0,
         "468.0",
         "01-08-2024",
         "north "
        ],
        [
         "a84f24a8-ff1e-4fd1-88ac-ffecd292cf80",
         "Raymond Smith",
         "LapTop",
         -4.0,
         "300.0",
         "14/07/2024",
         "East"
        ],
        [
         "99022f4f-30f0-4530-8585-266c45fbb4ad",
         "Michelle Obrien",
         "Laptop",
         null,
         "373.0",
         "15/01/2024",
         "north "
        ],
        [
         "b32c4ed2-5830-4085-b60e-41a042bb9a82",
         "John Johnson",
         "laptop",
         4.0,
         "173.0",
         "2024-10-03",
         "NORTH"
        ],
        [
         "e434087a-6f97-4cef-8871-2974eb6b5476",
         "Marisa Patton",
         "TABLET",
         -1.0,
         "407",
         "2024-04-28",
         "NORTH"
        ],
        [
         "7baec9cf-9e41-4aa1-9a73-1ea9260c92c7",
         "Justin Mcdowell",
         "Laptop",
         0.0,
         "$251",
         "25/03/2024",
         "South"
        ],
        [
         "4c41f044-2f2a-42c2-ae42-36206f3db711",
         "David Beck",
         "Laptop ",
         10.0,
         "$493",
         "2024-05-01",
         "east "
        ],
        [
         "a1c624cd-d425-4fb6-815b-78ae389a69e2",
         "Sandra Davis",
         "Laptop ",
         10.0,
         "379",
         "29/05/2024",
         "west "
        ],
        [
         "4c52508a-694b-4a01-a4a3-0d85f036cb5f",
         "Lauren Johnson",
         "Tablet",
         null,
         "344",
         "05-31-2024",
         "West"
        ],
        [
         "1bc46a84-7564-4380-ab1d-832d7a371ef4",
         "Jordan Coleman",
         "LapTop",
         null,
         "346",
         "06-05-2024",
         "NORTH"
        ],
        [
         "e6eb5efe-e0d7-4f8a-928f-94a17c1bb735",
         "Cynthia Poole",
         "laptop",
         1.0,
         "$110",
         "10/07/2024",
         "EAST"
        ],
        [
         "7c46af09-ff18-456d-8d04-7cc1582639ba",
         "Brady Sosa",
         "LapTop",
         -2.0,
         "304",
         "14/04/2024",
         "north "
        ],
        [
         "48c80378-9576-42bb-8c58-79a9b13e01bd",
         "Michael Kelly",
         "Tablet ",
         null,
         "154",
         "2024-03-11",
         "north "
        ]
       ],
       "datasetInfos": [],
       "dbfsResultPath": null,
       "isJsonSchema": true,
       "metadata": {},
       "overflow": false,
       "plotOptions": {
        "customPlotOptions": {},
        "displayType": "table",
        "pivotAggregation": null,
        "pivotColumns": null,
        "xColumns": null,
        "yColumns": null
       },
       "removedWidgets": [],
       "schema": [
        {
         "metadata": "{}",
         "name": "Transaction ID",
         "type": "\"string\""
        },
        {
         "metadata": "{}",
         "name": "Customer Name",
         "type": "\"string\""
        },
        {
         "metadata": "{}",
         "name": "Product",
         "type": "\"string\""
        },
        {
         "metadata": "{}",
         "name": "Quantity",
         "type": "\"double\""
        },
        {
         "metadata": "{}",
         "name": "Price Per Unit",
         "type": "\"string\""
        },
        {
         "metadata": "{}",
         "name": "Transaction Date",
         "type": "\"string\""
        },
        {
         "metadata": "{}",
         "name": "Region",
         "type": "\"string\""
        }
       ],
       "type": "table"
      }
     },
     "output_type": "display_data"
    }
   ],
   "source": [
    "df = spark.read.csv(\"abfss://raw@rawstorage123.dfs.core.windows.net/ingestion/sales_data.csv/sales_data.csv\", header=True, inferSchema=\"true\")\n",
    "display(df)"
   ]
  },
  {
   "cell_type": "code",
   "execution_count": 0,
   "metadata": {
    "application/vnd.databricks.v1+cell": {
     "cellMetadata": {
      "byteLimit": 2048000,
      "rowLimit": 10000
     },
     "inputWidgets": {},
     "nuid": "9c2e86f3-fd89-4409-ab44-8ecaaa2c9287",
     "showTitle": false,
     "tableResultSettingsMap": {},
     "title": ""
    }
   },
   "outputs": [
    {
     "output_type": "display_data",
     "data": {
      "text/html": [
       "<style scoped>\n",
       "  .table-result-container {\n",
       "    max-height: 300px;\n",
       "    overflow: auto;\n",
       "  }\n",
       "  table, th, td {\n",
       "    border: 1px solid black;\n",
       "    border-collapse: collapse;\n",
       "  }\n",
       "  th, td {\n",
       "    padding: 5px;\n",
       "  }\n",
       "  th {\n",
       "    text-align: left;\n",
       "  }\n",
       "</style><div class='table-result-container'><table class='table-result'><thead style='background-color: white'><tr><th>Transaction ID</th><th>Customer Name</th><th>Product</th><th>Quantity</th><th>Price Per Unit</th><th>Transaction Date</th><th>Region</th></tr></thead><tbody><tr><td>c36c12af-d6ef-485d-b81a-4dfd5016acba</td><td>Darlene House</td><td>Laptop </td><td>10.0</td><td>372.0</td><td>2024-03-01</td><td>South</td></tr><tr><td>6e0af861-fe73-43ff-8611-4eb004720893</td><td>Stuart Barron</td><td>Laptop</td><td>null</td><td>$481</td><td>04-21-2024</td><td>North</td></tr><tr><td>a359713b-cad7-4e1a-8e9d-312ac06e65d8</td><td>Maureen Lyons</td><td>Tablet </td><td>-2.0</td><td>490.0</td><td>2024-06-03</td><td>East </td></tr><tr><td>fed09892-d3e8-492e-a064-2e727579b5ac</td><td>John Lee</td><td>Laptop</td><td>null</td><td>345</td><td>04-03-2024</td><td>South</td></tr><tr><td>998d01e2-7be6-4456-9513-954309839c04</td><td>Daniel Walls</td><td>Laptop</td><td>7.0</td><td>223</td><td>09/06/2024</td><td>South </td></tr><tr><td>0c0c249a-20f3-422d-9699-532eee6d8874</td><td>Nicholas Cruz</td><td>Laptop</td><td>-1.0</td><td>$384</td><td>10-10-2024</td><td>North</td></tr><tr><td>8ec976ad-bd94-4694-983f-8f31d3dd5fbd</td><td>Andrea Morales</td><td>Laptop</td><td>3.0</td><td>$361</td><td>24/06/2024</td><td>East </td></tr><tr><td>c8576bd0-0b3c-4d63-b963-67bbcf1674a8</td><td>Ethan Thomas</td><td>Laptop</td><td>null</td><td>340.0</td><td>29/09/2024</td><td>South</td></tr><tr><td>b01682d6-8b67-4156-bfee-5142b19ffae7</td><td>Ann Thomas</td><td>Laptop </td><td>-1.0</td><td>379.0</td><td>26/07/2024</td><td>East </td></tr><tr><td>dfd452cd-0a75-43d9-91f6-b7f2002af969</td><td>Paul Smith</td><td>Tablet </td><td>null</td><td>127.0</td><td>25/03/2024</td><td>West</td></tr><tr><td>e56b692d-0096-4e4c-9145-bcc22a8481b8</td><td>Todd Sandoval</td><td>Laptop</td><td>null</td><td>246.0</td><td>2024-06-08</td><td>North </td></tr><tr><td>778154ce-86c4-460b-b3e4-20a065837331</td><td>Colton Cole</td><td>Laptop</td><td>null</td><td>419</td><td>06-02-2024</td><td>East</td></tr><tr><td>450bb9ce-5f67-4c9f-9569-9847a97641dd</td><td>Erica Nichols</td><td>Laptop </td><td>null</td><td>63.0</td><td>2024-11-30</td><td>North </td></tr><tr><td>ae8ea305-06b2-428e-8bf9-c2c606d07170</td><td>Lisa Fowler</td><td>Laptop </td><td>9.0</td><td>295</td><td>11-11-2024</td><td>North</td></tr><tr><td>34be067d-e014-43a4-a40b-80a88483cf91</td><td>Christy Garcia</td><td>Laptop</td><td>3.0</td><td>$103</td><td>2024-10-12</td><td>North </td></tr><tr><td>f116a929-0210-4c4a-818d-6486816b892b</td><td>Monica Lawson</td><td>Tablet</td><td>-1.0</td><td>496.0</td><td>12/06/2024</td><td>North</td></tr><tr><td>c0869c82-9d9d-4374-b14a-ca8430def93e</td><td>Brandon Parker</td><td>Laptop</td><td>-4.0</td><td>140</td><td>03-21-2024</td><td>North</td></tr><tr><td>a4522c8a-9978-4f6d-946e-61d02b744326</td><td>Katherine Wright</td><td>Tablet </td><td>null</td><td>364</td><td>02-29-2024</td><td>North </td></tr><tr><td>6f15509e-ab1a-4d7a-98a4-45ec378a0192</td><td>Erin Snyder</td><td>Laptop</td><td>-1.0</td><td>248.0</td><td>05-16-2024</td><td>West</td></tr><tr><td>bb9f3d4f-f4ce-4412-aaf5-fe5420ace73b</td><td>Jessica Huffman</td><td>Laptop</td><td>2.0</td><td>105</td><td>01/03/2024</td><td>West</td></tr><tr><td>ab7e6e8d-3de8-4c6f-a1a8-ce7c900bfbbd</td><td>Johnathan Cain</td><td>Laptop </td><td>-4.0</td><td>326</td><td>2024-10-04</td><td>South</td></tr><tr><td>97e5b7d3-01c6-404a-b7f0-425346a2a4f0</td><td>Linda Summers</td><td>Tablet</td><td>9.0</td><td>$352</td><td>2024-08-12</td><td>East </td></tr><tr><td>d8212ec3-6e8b-4116-aaf9-525c7ab2bdf4</td><td>Brenda Wolfe</td><td>Laptop</td><td>null</td><td>$271</td><td>04/08/2024</td><td>North</td></tr><tr><td>6b3482ab-2487-410d-b453-d8370415f78a</td><td>Jacob Kelly</td><td>Tablet</td><td>null</td><td>$327</td><td>30/09/2024</td><td>East</td></tr><tr><td>8c876e75-efde-4036-a8d4-8af30a45bd3f</td><td>Andrea Taylor</td><td>Laptop </td><td>-1.0</td><td>121.0</td><td>24/09/2024</td><td>South </td></tr><tr><td>2a092da0-c13f-4f0e-8e04-464839f0b5d1</td><td>Stephen Smith</td><td>Laptop </td><td>8.0</td><td>460</td><td>11-09-2024</td><td>East </td></tr><tr><td>323ce06c-96b9-4a0f-8d6f-120cb214e828</td><td>Gerald Park</td><td>Tablet</td><td>-2.0</td><td>291.0</td><td>20/02/2024</td><td>West </td></tr><tr><td>6c8fd853-a203-4a61-b5c0-2c499ed9edb8</td><td>Christopher Nelson</td><td>Tablet </td><td>8.0</td><td>$130</td><td>05-13-2024</td><td>West</td></tr><tr><td>0141fa3c-b04a-4b31-836a-0eef021aad2f</td><td>Thomas Clayton</td><td>Laptop </td><td>-3.0</td><td>329.0</td><td>11-02-2024</td><td>North </td></tr><tr><td>4828255e-25ec-41ac-8390-90ac920c32ea</td><td>Danny Lee</td><td>Tablet</td><td>null</td><td>468</td><td>2024-11-05</td><td>East </td></tr><tr><td>6dd4873c-d1f7-4910-8833-fbf33b627a45</td><td>Mark Jones</td><td>Laptop</td><td>6.0</td><td>349.0</td><td>22/05/2024</td><td>East </td></tr><tr><td>a82f02c8-6048-4dcb-9693-520bcbbfa4e8</td><td>Vincent Steele Jr.</td><td>Tablet</td><td>7.0</td><td>193</td><td>03-12-2024</td><td>East</td></tr><tr><td>30d33ebd-3e79-47a3-b246-ab3a92fd376b</td><td>Chase Washington</td><td>Laptop</td><td>3.0</td><td>415</td><td>04-05-2024</td><td>South</td></tr><tr><td>003b7acc-d4d4-4385-99cf-5b1a7137bd3e</td><td>Brandon Johnson</td><td>Laptop</td><td>null</td><td>319</td><td>23/11/2024</td><td>West </td></tr><tr><td>4895baa8-c634-4250-9c12-ed836fdee69f</td><td>Mary Logan DVM</td><td>Laptop</td><td>7.0</td><td>488</td><td>2024-06-20</td><td>North</td></tr><tr><td>c3ffeecf-3041-4389-8f36-e2754d47d314</td><td>Nicole Dawson</td><td>Tablet</td><td>0.0</td><td>$246</td><td>06-27-2024</td><td>East </td></tr><tr><td>fee3e6f8-d80b-4a69-b559-d2c8929c8df4</td><td>Jeffrey Horton</td><td>Tablet</td><td>3.0</td><td>287.0</td><td>2024-10-09</td><td>North</td></tr><tr><td>ea3864be-7b7d-4ad4-b59a-7e1ba2dfe785</td><td>Ryan Simpson</td><td>Tablet</td><td>null</td><td>92.0</td><td>08-28-2024</td><td>North </td></tr><tr><td>f4ecb27e-1eeb-41a6-a6a0-c2f5e5fafb0a</td><td>Michael Jones</td><td>Tablet </td><td>8.0</td><td>229</td><td>2024-04-15</td><td>South</td></tr><tr><td>101fa00f-a49e-455b-8e31-1550563078e0</td><td>Paul Hodges</td><td>Laptop </td><td>null</td><td>371</td><td>2024-07-05</td><td>East</td></tr><tr><td>87847a11-1711-4f5f-a91e-0454a9ad80f0</td><td>Christopher Curtis</td><td>Laptop</td><td>-4.0</td><td>389.0</td><td>2024-10-15</td><td>East</td></tr><tr><td>7ca82747-caef-416f-a07e-abd09b595196</td><td>Cathy Thomas</td><td>Laptop</td><td>null</td><td>410.0</td><td>01-18-2024</td><td>North </td></tr><tr><td>9ac77cbe-382f-4a56-9f58-c812f4d24c26</td><td>Amanda Thomas</td><td>Laptop</td><td>-1.0</td><td>73</td><td>12/04/2024</td><td>North</td></tr><tr><td>782d80bc-f5c0-42fd-b72c-850795d949af</td><td>Mario Ford</td><td>Laptop</td><td>null</td><td>499</td><td>13/03/2024</td><td>East</td></tr><tr><td>80512132-f226-4347-accf-ad7878a16fed</td><td>Edward Bond</td><td>Tablet</td><td>null</td><td>186</td><td>17/01/2024</td><td>East</td></tr><tr><td>41b98e56-276e-4b12-a532-7ed77c39aa8d</td><td>Daniel Martinez</td><td>Laptop</td><td>-5.0</td><td>$332</td><td>02-12-2024</td><td>West</td></tr><tr><td>dcf93957-7886-4f7f-b412-c125d1a662a0</td><td>Sara Ramirez</td><td>Laptop</td><td>null</td><td>$127</td><td>2024-02-19</td><td>East</td></tr><tr><td>9ced51b7-a0e0-4219-91bb-b6f9f839870d</td><td>Kenneth Ellis</td><td>Laptop</td><td>-1.0</td><td>$393</td><td>05-17-2024</td><td>West </td></tr><tr><td>bdac9f79-a06c-4e7c-b249-6cc8351d0353</td><td>Mariah Anderson</td><td>Tablet</td><td>-5.0</td><td>255</td><td>06-18-2024</td><td>West</td></tr><tr><td>c6f8e471-9fa9-47f8-b7ae-32d24bb45634</td><td>Dalton Austin</td><td>Laptop</td><td>null</td><td>$153</td><td>23/01/2024</td><td>South </td></tr><tr><td>e0f9d657-b898-4b5a-9481-4a3577ce644a</td><td>Scott Moore</td><td>Laptop </td><td>3.0</td><td>$409</td><td>04/11/2024</td><td>West</td></tr><tr><td>5449f262-7965-408a-a9e1-a0caa375d52e</td><td>Stephen Williamson</td><td>Laptop </td><td>1.0</td><td>118.0</td><td>2024-08-12</td><td>East</td></tr><tr><td>3a40ec1e-51a4-4fa8-a126-fb86458235fd</td><td>Kelly Beard</td><td>Laptop</td><td>-1.0</td><td>67</td><td>04-01-2024</td><td>North</td></tr><tr><td>7340fc8a-92c4-4490-90a6-52af72ef58e7</td><td>Glen Alvarado</td><td>Laptop</td><td>6.0</td><td>$61</td><td>04/03/2024</td><td>West </td></tr><tr><td>9ca5dd2b-5a4e-4143-bcc2-ce2ecb34e9f1</td><td>George Gray</td><td>Laptop </td><td>null</td><td>$130</td><td>30/04/2024</td><td>North</td></tr><tr><td>03138bf0-8b70-478c-bafe-166c3268162b</td><td>Mrs. Mary Blankenship</td><td>Laptop</td><td>8.0</td><td>307</td><td>26/02/2024</td><td>North</td></tr><tr><td>4829e024-e9e8-4a5b-82de-f9ae5a6f86de</td><td>Sierra Waters</td><td>Laptop </td><td>null</td><td>273</td><td>04-15-2024</td><td>East</td></tr><tr><td>0931c839-d9a6-4b51-9715-30a7520a9dbf</td><td>Derek Hernandez</td><td>Laptop</td><td>10.0</td><td>$327</td><td>01-31-2024</td><td>North</td></tr><tr><td>7e7ce8e5-feb4-4947-9869-2547ba405574</td><td>Dr. Daniel King DDS</td><td>Laptop</td><td>-5.0</td><td>107</td><td>28/08/2024</td><td>West </td></tr><tr><td>bbed0c20-8fe6-4c08-ba10-0464b7567847</td><td>Carl Moore</td><td>Tablet</td><td>null</td><td>$173</td><td>02/08/2024</td><td>South </td></tr><tr><td>85c68336-9177-4074-939e-a51dec3cb714</td><td>Ryan Harrington</td><td>Tablet</td><td>null</td><td>131</td><td>28/07/2024</td><td>East</td></tr><tr><td>0121d08b-b639-4519-9360-8e919b0a739c</td><td>Gina Banks</td><td>Laptop</td><td>-4.0</td><td>147.0</td><td>06/06/2024</td><td>West </td></tr><tr><td>5cbca593-e412-4dec-8bed-a2f83774e4f1</td><td>William Travis</td><td>Laptop</td><td>1.0</td><td>$166</td><td>2024-02-26</td><td>West</td></tr><tr><td>76e73fcc-4337-4b24-91ca-428d4fa5eb19</td><td>Keith Carter</td><td>Laptop </td><td>-5.0</td><td>426.0</td><td>03-31-2024</td><td>East </td></tr><tr><td>9c4ab30a-6374-4b75-b9df-4bfec710c7a6</td><td>Linda Mckinney</td><td>Laptop</td><td>null</td><td>66.0</td><td>22/01/2024</td><td>West </td></tr><tr><td>0723cbd9-33d7-4f94-b01b-3289688cec5c</td><td>Betty Anderson</td><td>Tablet</td><td>null</td><td>254.0</td><td>25/01/2024</td><td>North </td></tr><tr><td>8a279289-0087-4d74-a8a4-ccd7e8b08add</td><td>John Burke</td><td>Tablet</td><td>null</td><td>249.0</td><td>2024-04-27</td><td>North</td></tr><tr><td>bca3b088-9e29-4ab2-a13a-798f54d708c2</td><td>Brandon Short</td><td>Tablet</td><td>-3.0</td><td>400.0</td><td>23/01/2024</td><td>South </td></tr><tr><td>94cc574b-0ddd-421f-9662-f47ee1e311ff</td><td>Bryan Hopkins</td><td>Laptop</td><td>null</td><td>96.0</td><td>08-02-2024</td><td>West </td></tr><tr><td>d186ae10-b1f0-48f2-a3a9-c9106ebd4eb2</td><td>Kim Cooper</td><td>Tablet</td><td>4.0</td><td>$89</td><td>11-18-2024</td><td>West </td></tr><tr><td>7815230e-61da-40ae-abc4-89cf8e8038f5</td><td>Cynthia Rich</td><td>Laptop </td><td>null</td><td>269.0</td><td>2024-04-05</td><td>East</td></tr><tr><td>fab86cca-0598-4bca-b229-979d5dfd758e</td><td>Ryan Dunn</td><td>Tablet </td><td>6.0</td><td>126.0</td><td>07-15-2024</td><td>East</td></tr><tr><td>df293035-020d-4df4-9783-109b63ca633b</td><td>Amber Brady</td><td>Laptop </td><td>3.0</td><td>320</td><td>12/06/2024</td><td>North </td></tr><tr><td>1899a1e0-d8da-45b8-8342-651917a172bc</td><td>Kyle Byrd</td><td>Tablet </td><td>-3.0</td><td>$471</td><td>2024-03-31</td><td>West</td></tr><tr><td>b20e3522-43f7-4ff8-afab-69121d7f18c6</td><td>Dawn Johnston</td><td>Laptop</td><td>null</td><td>$188</td><td>07-20-2024</td><td>East</td></tr><tr><td>48dd31eb-5282-46a8-a8b2-b447be194134</td><td>Steven Clark</td><td>Laptop </td><td>null</td><td>$162</td><td>10/05/2024</td><td>South</td></tr><tr><td>3e6ea67d-781d-49f1-98e8-3afd1e7ee078</td><td>Kelsey Murphy</td><td>Laptop</td><td>null</td><td>293</td><td>21/04/2024</td><td>East </td></tr><tr><td>14c19ad4-50e9-404b-b1d5-1142be1ad5ff</td><td>Vanessa Mendoza</td><td>Tablet</td><td>3.0</td><td>$360</td><td>2024-10-14</td><td>East</td></tr><tr><td>49f9dc43-f703-4de4-a87f-96915db513ed</td><td>Mia Benton</td><td>Laptop</td><td>-3.0</td><td>200</td><td>22/05/2024</td><td>East</td></tr><tr><td>004ce647-0b78-406d-a1ed-0172aebbbcf5</td><td>Mr. Jason Good</td><td>Laptop </td><td>0.0</td><td>298</td><td>07/08/2024</td><td>South</td></tr><tr><td>c9ee33b3-9650-48da-be63-5433b922a2eb</td><td>Corey Garner</td><td>Laptop</td><td>7.0</td><td>478</td><td>2024-08-16</td><td>North</td></tr><tr><td>ba0c1ac1-fb71-44b0-a76b-d6b322641f0d</td><td>Brian Cherry</td><td>Laptop </td><td>0.0</td><td>475</td><td>09-15-2024</td><td>South </td></tr><tr><td>5a96d15b-3432-420d-913d-d24d04325be3</td><td>Brett Thompson</td><td>Laptop</td><td>2.0</td><td>304.0</td><td>2024-09-14</td><td>South </td></tr><tr><td>5c46e5bb-198a-4f4d-a22d-6cf066f93ecd</td><td>Chelsey Romero</td><td>Tablet</td><td>1.0</td><td>$293</td><td>04-07-2024</td><td>South </td></tr><tr><td>25d7711d-2932-41e1-8679-6d9578666866</td><td>Sara Peters</td><td>Tablet</td><td>null</td><td>479.0</td><td>2024-07-23</td><td>West</td></tr><tr><td>076be842-4974-4b14-9263-84e4268aa6bd</td><td>Stephanie Oneill</td><td>Laptop</td><td>-4.0</td><td>260.0</td><td>04-07-2024</td><td>East</td></tr><tr><td>f236da6d-84b7-485e-bc62-c491829140ee</td><td>Eric Spears</td><td>Laptop</td><td>null</td><td>309.0</td><td>12/08/2024</td><td>South</td></tr><tr><td>5eedd5c2-7b89-455e-bc7c-d77af2f9ba8f</td><td>Courtney Dodson</td><td>Tablet </td><td>-5.0</td><td>468.0</td><td>01-08-2024</td><td>North </td></tr><tr><td>a84f24a8-ff1e-4fd1-88ac-ffecd292cf80</td><td>Raymond Smith</td><td>Laptop</td><td>-4.0</td><td>300.0</td><td>14/07/2024</td><td>East</td></tr><tr><td>99022f4f-30f0-4530-8585-266c45fbb4ad</td><td>Michelle Obrien</td><td>Laptop</td><td>null</td><td>373.0</td><td>15/01/2024</td><td>North </td></tr><tr><td>b32c4ed2-5830-4085-b60e-41a042bb9a82</td><td>John Johnson</td><td>Laptop</td><td>4.0</td><td>173.0</td><td>2024-10-03</td><td>North</td></tr><tr><td>e434087a-6f97-4cef-8871-2974eb6b5476</td><td>Marisa Patton</td><td>Tablet</td><td>-1.0</td><td>407</td><td>2024-04-28</td><td>North</td></tr><tr><td>7baec9cf-9e41-4aa1-9a73-1ea9260c92c7</td><td>Justin Mcdowell</td><td>Laptop</td><td>0.0</td><td>$251</td><td>25/03/2024</td><td>South</td></tr><tr><td>4c41f044-2f2a-42c2-ae42-36206f3db711</td><td>David Beck</td><td>Laptop </td><td>10.0</td><td>$493</td><td>2024-05-01</td><td>East </td></tr><tr><td>a1c624cd-d425-4fb6-815b-78ae389a69e2</td><td>Sandra Davis</td><td>Laptop </td><td>10.0</td><td>379</td><td>29/05/2024</td><td>West </td></tr><tr><td>4c52508a-694b-4a01-a4a3-0d85f036cb5f</td><td>Lauren Johnson</td><td>Tablet</td><td>null</td><td>344</td><td>05-31-2024</td><td>West</td></tr><tr><td>1bc46a84-7564-4380-ab1d-832d7a371ef4</td><td>Jordan Coleman</td><td>Laptop</td><td>null</td><td>346</td><td>06-05-2024</td><td>North</td></tr><tr><td>e6eb5efe-e0d7-4f8a-928f-94a17c1bb735</td><td>Cynthia Poole</td><td>Laptop</td><td>1.0</td><td>$110</td><td>10/07/2024</td><td>East</td></tr><tr><td>7c46af09-ff18-456d-8d04-7cc1582639ba</td><td>Brady Sosa</td><td>Laptop</td><td>-2.0</td><td>304</td><td>14/04/2024</td><td>North </td></tr><tr><td>48c80378-9576-42bb-8c58-79a9b13e01bd</td><td>Michael Kelly</td><td>Tablet </td><td>null</td><td>154</td><td>2024-03-11</td><td>North </td></tr></tbody></table></div>"
      ]
     },
     "metadata": {
      "application/vnd.databricks.v1+output": {
       "addedWidgets": {},
       "aggData": [],
       "aggError": "",
       "aggOverflow": false,
       "aggSchema": [],
       "aggSeriesLimitReached": false,
       "aggType": "",
       "arguments": {},
       "columnCustomDisplayInfos": {},
       "data": [
        [
         "c36c12af-d6ef-485d-b81a-4dfd5016acba",
         "Darlene House",
         "Laptop ",
         10.0,
         "372.0",
         "2024-03-01",
         "South"
        ],
        [
         "6e0af861-fe73-43ff-8611-4eb004720893",
         "Stuart Barron",
         "Laptop",
         null,
         "$481",
         "04-21-2024",
         "North"
        ],
        [
         "a359713b-cad7-4e1a-8e9d-312ac06e65d8",
         "Maureen Lyons",
         "Tablet ",
         -2.0,
         "490.0",
         "2024-06-03",
         "East "
        ],
        [
         "fed09892-d3e8-492e-a064-2e727579b5ac",
         "John Lee",
         "Laptop",
         null,
         "345",
         "04-03-2024",
         "South"
        ],
        [
         "998d01e2-7be6-4456-9513-954309839c04",
         "Daniel Walls",
         "Laptop",
         7.0,
         "223",
         "09/06/2024",
         "South "
        ],
        [
         "0c0c249a-20f3-422d-9699-532eee6d8874",
         "Nicholas Cruz",
         "Laptop",
         -1.0,
         "$384",
         "10-10-2024",
         "North"
        ],
        [
         "8ec976ad-bd94-4694-983f-8f31d3dd5fbd",
         "Andrea Morales",
         "Laptop",
         3.0,
         "$361",
         "24/06/2024",
         "East "
        ],
        [
         "c8576bd0-0b3c-4d63-b963-67bbcf1674a8",
         "Ethan Thomas",
         "Laptop",
         null,
         "340.0",
         "29/09/2024",
         "South"
        ],
        [
         "b01682d6-8b67-4156-bfee-5142b19ffae7",
         "Ann Thomas",
         "Laptop ",
         -1.0,
         "379.0",
         "26/07/2024",
         "East "
        ],
        [
         "dfd452cd-0a75-43d9-91f6-b7f2002af969",
         "Paul Smith",
         "Tablet ",
         null,
         "127.0",
         "25/03/2024",
         "West"
        ],
        [
         "e56b692d-0096-4e4c-9145-bcc22a8481b8",
         "Todd Sandoval",
         "Laptop",
         null,
         "246.0",
         "2024-06-08",
         "North "
        ],
        [
         "778154ce-86c4-460b-b3e4-20a065837331",
         "Colton Cole",
         "Laptop",
         null,
         "419",
         "06-02-2024",
         "East"
        ],
        [
         "450bb9ce-5f67-4c9f-9569-9847a97641dd",
         "Erica Nichols",
         "Laptop ",
         null,
         "63.0",
         "2024-11-30",
         "North "
        ],
        [
         "ae8ea305-06b2-428e-8bf9-c2c606d07170",
         "Lisa Fowler",
         "Laptop ",
         9.0,
         "295",
         "11-11-2024",
         "North"
        ],
        [
         "34be067d-e014-43a4-a40b-80a88483cf91",
         "Christy Garcia",
         "Laptop",
         3.0,
         "$103",
         "2024-10-12",
         "North "
        ],
        [
         "f116a929-0210-4c4a-818d-6486816b892b",
         "Monica Lawson",
         "Tablet",
         -1.0,
         "496.0",
         "12/06/2024",
         "North"
        ],
        [
         "c0869c82-9d9d-4374-b14a-ca8430def93e",
         "Brandon Parker",
         "Laptop",
         -4.0,
         "140",
         "03-21-2024",
         "North"
        ],
        [
         "a4522c8a-9978-4f6d-946e-61d02b744326",
         "Katherine Wright",
         "Tablet ",
         null,
         "364",
         "02-29-2024",
         "North "
        ],
        [
         "6f15509e-ab1a-4d7a-98a4-45ec378a0192",
         "Erin Snyder",
         "Laptop",
         -1.0,
         "248.0",
         "05-16-2024",
         "West"
        ],
        [
         "bb9f3d4f-f4ce-4412-aaf5-fe5420ace73b",
         "Jessica Huffman",
         "Laptop",
         2.0,
         "105",
         "01/03/2024",
         "West"
        ],
        [
         "ab7e6e8d-3de8-4c6f-a1a8-ce7c900bfbbd",
         "Johnathan Cain",
         "Laptop ",
         -4.0,
         "326",
         "2024-10-04",
         "South"
        ],
        [
         "97e5b7d3-01c6-404a-b7f0-425346a2a4f0",
         "Linda Summers",
         "Tablet",
         9.0,
         "$352",
         "2024-08-12",
         "East "
        ],
        [
         "d8212ec3-6e8b-4116-aaf9-525c7ab2bdf4",
         "Brenda Wolfe",
         "Laptop",
         null,
         "$271",
         "04/08/2024",
         "North"
        ],
        [
         "6b3482ab-2487-410d-b453-d8370415f78a",
         "Jacob Kelly",
         "Tablet",
         null,
         "$327",
         "30/09/2024",
         "East"
        ],
        [
         "8c876e75-efde-4036-a8d4-8af30a45bd3f",
         "Andrea Taylor",
         "Laptop ",
         -1.0,
         "121.0",
         "24/09/2024",
         "South "
        ],
        [
         "2a092da0-c13f-4f0e-8e04-464839f0b5d1",
         "Stephen Smith",
         "Laptop ",
         8.0,
         "460",
         "11-09-2024",
         "East "
        ],
        [
         "323ce06c-96b9-4a0f-8d6f-120cb214e828",
         "Gerald Park",
         "Tablet",
         -2.0,
         "291.0",
         "20/02/2024",
         "West "
        ],
        [
         "6c8fd853-a203-4a61-b5c0-2c499ed9edb8",
         "Christopher Nelson",
         "Tablet ",
         8.0,
         "$130",
         "05-13-2024",
         "West"
        ],
        [
         "0141fa3c-b04a-4b31-836a-0eef021aad2f",
         "Thomas Clayton",
         "Laptop ",
         -3.0,
         "329.0",
         "11-02-2024",
         "North "
        ],
        [
         "4828255e-25ec-41ac-8390-90ac920c32ea",
         "Danny Lee",
         "Tablet",
         null,
         "468",
         "2024-11-05",
         "East "
        ],
        [
         "6dd4873c-d1f7-4910-8833-fbf33b627a45",
         "Mark Jones",
         "Laptop",
         6.0,
         "349.0",
         "22/05/2024",
         "East "
        ],
        [
         "a82f02c8-6048-4dcb-9693-520bcbbfa4e8",
         "Vincent Steele Jr.",
         "Tablet",
         7.0,
         "193",
         "03-12-2024",
         "East"
        ],
        [
         "30d33ebd-3e79-47a3-b246-ab3a92fd376b",
         "Chase Washington",
         "Laptop",
         3.0,
         "415",
         "04-05-2024",
         "South"
        ],
        [
         "003b7acc-d4d4-4385-99cf-5b1a7137bd3e",
         "Brandon Johnson",
         "Laptop",
         null,
         "319",
         "23/11/2024",
         "West "
        ],
        [
         "4895baa8-c634-4250-9c12-ed836fdee69f",
         "Mary Logan DVM",
         "Laptop",
         7.0,
         "488",
         "2024-06-20",
         "North"
        ],
        [
         "c3ffeecf-3041-4389-8f36-e2754d47d314",
         "Nicole Dawson",
         "Tablet",
         0.0,
         "$246",
         "06-27-2024",
         "East "
        ],
        [
         "fee3e6f8-d80b-4a69-b559-d2c8929c8df4",
         "Jeffrey Horton",
         "Tablet",
         3.0,
         "287.0",
         "2024-10-09",
         "North"
        ],
        [
         "ea3864be-7b7d-4ad4-b59a-7e1ba2dfe785",
         "Ryan Simpson",
         "Tablet",
         null,
         "92.0",
         "08-28-2024",
         "North "
        ],
        [
         "f4ecb27e-1eeb-41a6-a6a0-c2f5e5fafb0a",
         "Michael Jones",
         "Tablet ",
         8.0,
         "229",
         "2024-04-15",
         "South"
        ],
        [
         "101fa00f-a49e-455b-8e31-1550563078e0",
         "Paul Hodges",
         "Laptop ",
         null,
         "371",
         "2024-07-05",
         "East"
        ],
        [
         "87847a11-1711-4f5f-a91e-0454a9ad80f0",
         "Christopher Curtis",
         "Laptop",
         -4.0,
         "389.0",
         "2024-10-15",
         "East"
        ],
        [
         "7ca82747-caef-416f-a07e-abd09b595196",
         "Cathy Thomas",
         "Laptop",
         null,
         "410.0",
         "01-18-2024",
         "North "
        ],
        [
         "9ac77cbe-382f-4a56-9f58-c812f4d24c26",
         "Amanda Thomas",
         "Laptop",
         -1.0,
         "73",
         "12/04/2024",
         "North"
        ],
        [
         "782d80bc-f5c0-42fd-b72c-850795d949af",
         "Mario Ford",
         "Laptop",
         null,
         "499",
         "13/03/2024",
         "East"
        ],
        [
         "80512132-f226-4347-accf-ad7878a16fed",
         "Edward Bond",
         "Tablet",
         null,
         "186",
         "17/01/2024",
         "East"
        ],
        [
         "41b98e56-276e-4b12-a532-7ed77c39aa8d",
         "Daniel Martinez",
         "Laptop",
         -5.0,
         "$332",
         "02-12-2024",
         "West"
        ],
        [
         "dcf93957-7886-4f7f-b412-c125d1a662a0",
         "Sara Ramirez",
         "Laptop",
         null,
         "$127",
         "2024-02-19",
         "East"
        ],
        [
         "9ced51b7-a0e0-4219-91bb-b6f9f839870d",
         "Kenneth Ellis",
         "Laptop",
         -1.0,
         "$393",
         "05-17-2024",
         "West "
        ],
        [
         "bdac9f79-a06c-4e7c-b249-6cc8351d0353",
         "Mariah Anderson",
         "Tablet",
         -5.0,
         "255",
         "06-18-2024",
         "West"
        ],
        [
         "c6f8e471-9fa9-47f8-b7ae-32d24bb45634",
         "Dalton Austin",
         "Laptop",
         null,
         "$153",
         "23/01/2024",
         "South "
        ],
        [
         "e0f9d657-b898-4b5a-9481-4a3577ce644a",
         "Scott Moore",
         "Laptop ",
         3.0,
         "$409",
         "04/11/2024",
         "West"
        ],
        [
         "5449f262-7965-408a-a9e1-a0caa375d52e",
         "Stephen Williamson",
         "Laptop ",
         1.0,
         "118.0",
         "2024-08-12",
         "East"
        ],
        [
         "3a40ec1e-51a4-4fa8-a126-fb86458235fd",
         "Kelly Beard",
         "Laptop",
         -1.0,
         "67",
         "04-01-2024",
         "North"
        ],
        [
         "7340fc8a-92c4-4490-90a6-52af72ef58e7",
         "Glen Alvarado",
         "Laptop",
         6.0,
         "$61",
         "04/03/2024",
         "West "
        ],
        [
         "9ca5dd2b-5a4e-4143-bcc2-ce2ecb34e9f1",
         "George Gray",
         "Laptop ",
         null,
         "$130",
         "30/04/2024",
         "North"
        ],
        [
         "03138bf0-8b70-478c-bafe-166c3268162b",
         "Mrs. Mary Blankenship",
         "Laptop",
         8.0,
         "307",
         "26/02/2024",
         "North"
        ],
        [
         "4829e024-e9e8-4a5b-82de-f9ae5a6f86de",
         "Sierra Waters",
         "Laptop ",
         null,
         "273",
         "04-15-2024",
         "East"
        ],
        [
         "0931c839-d9a6-4b51-9715-30a7520a9dbf",
         "Derek Hernandez",
         "Laptop",
         10.0,
         "$327",
         "01-31-2024",
         "North"
        ],
        [
         "7e7ce8e5-feb4-4947-9869-2547ba405574",
         "Dr. Daniel King DDS",
         "Laptop",
         -5.0,
         "107",
         "28/08/2024",
         "West "
        ],
        [
         "bbed0c20-8fe6-4c08-ba10-0464b7567847",
         "Carl Moore",
         "Tablet",
         null,
         "$173",
         "02/08/2024",
         "South "
        ],
        [
         "85c68336-9177-4074-939e-a51dec3cb714",
         "Ryan Harrington",
         "Tablet",
         null,
         "131",
         "28/07/2024",
         "East"
        ],
        [
         "0121d08b-b639-4519-9360-8e919b0a739c",
         "Gina Banks",
         "Laptop",
         -4.0,
         "147.0",
         "06/06/2024",
         "West "
        ],
        [
         "5cbca593-e412-4dec-8bed-a2f83774e4f1",
         "William Travis",
         "Laptop",
         1.0,
         "$166",
         "2024-02-26",
         "West"
        ],
        [
         "76e73fcc-4337-4b24-91ca-428d4fa5eb19",
         "Keith Carter",
         "Laptop ",
         -5.0,
         "426.0",
         "03-31-2024",
         "East "
        ],
        [
         "9c4ab30a-6374-4b75-b9df-4bfec710c7a6",
         "Linda Mckinney",
         "Laptop",
         null,
         "66.0",
         "22/01/2024",
         "West "
        ],
        [
         "0723cbd9-33d7-4f94-b01b-3289688cec5c",
         "Betty Anderson",
         "Tablet",
         null,
         "254.0",
         "25/01/2024",
         "North "
        ],
        [
         "8a279289-0087-4d74-a8a4-ccd7e8b08add",
         "John Burke",
         "Tablet",
         null,
         "249.0",
         "2024-04-27",
         "North"
        ],
        [
         "bca3b088-9e29-4ab2-a13a-798f54d708c2",
         "Brandon Short",
         "Tablet",
         -3.0,
         "400.0",
         "23/01/2024",
         "South "
        ],
        [
         "94cc574b-0ddd-421f-9662-f47ee1e311ff",
         "Bryan Hopkins",
         "Laptop",
         null,
         "96.0",
         "08-02-2024",
         "West "
        ],
        [
         "d186ae10-b1f0-48f2-a3a9-c9106ebd4eb2",
         "Kim Cooper",
         "Tablet",
         4.0,
         "$89",
         "11-18-2024",
         "West "
        ],
        [
         "7815230e-61da-40ae-abc4-89cf8e8038f5",
         "Cynthia Rich",
         "Laptop ",
         null,
         "269.0",
         "2024-04-05",
         "East"
        ],
        [
         "fab86cca-0598-4bca-b229-979d5dfd758e",
         "Ryan Dunn",
         "Tablet ",
         6.0,
         "126.0",
         "07-15-2024",
         "East"
        ],
        [
         "df293035-020d-4df4-9783-109b63ca633b",
         "Amber Brady",
         "Laptop ",
         3.0,
         "320",
         "12/06/2024",
         "North "
        ],
        [
         "1899a1e0-d8da-45b8-8342-651917a172bc",
         "Kyle Byrd",
         "Tablet ",
         -3.0,
         "$471",
         "2024-03-31",
         "West"
        ],
        [
         "b20e3522-43f7-4ff8-afab-69121d7f18c6",
         "Dawn Johnston",
         "Laptop",
         null,
         "$188",
         "07-20-2024",
         "East"
        ],
        [
         "48dd31eb-5282-46a8-a8b2-b447be194134",
         "Steven Clark",
         "Laptop ",
         null,
         "$162",
         "10/05/2024",
         "South"
        ],
        [
         "3e6ea67d-781d-49f1-98e8-3afd1e7ee078",
         "Kelsey Murphy",
         "Laptop",
         null,
         "293",
         "21/04/2024",
         "East "
        ],
        [
         "14c19ad4-50e9-404b-b1d5-1142be1ad5ff",
         "Vanessa Mendoza",
         "Tablet",
         3.0,
         "$360",
         "2024-10-14",
         "East"
        ],
        [
         "49f9dc43-f703-4de4-a87f-96915db513ed",
         "Mia Benton",
         "Laptop",
         -3.0,
         "200",
         "22/05/2024",
         "East"
        ],
        [
         "004ce647-0b78-406d-a1ed-0172aebbbcf5",
         "Mr. Jason Good",
         "Laptop ",
         0.0,
         "298",
         "07/08/2024",
         "South"
        ],
        [
         "c9ee33b3-9650-48da-be63-5433b922a2eb",
         "Corey Garner",
         "Laptop",
         7.0,
         "478",
         "2024-08-16",
         "North"
        ],
        [
         "ba0c1ac1-fb71-44b0-a76b-d6b322641f0d",
         "Brian Cherry",
         "Laptop ",
         0.0,
         "475",
         "09-15-2024",
         "South "
        ],
        [
         "5a96d15b-3432-420d-913d-d24d04325be3",
         "Brett Thompson",
         "Laptop",
         2.0,
         "304.0",
         "2024-09-14",
         "South "
        ],
        [
         "5c46e5bb-198a-4f4d-a22d-6cf066f93ecd",
         "Chelsey Romero",
         "Tablet",
         1.0,
         "$293",
         "04-07-2024",
         "South "
        ],
        [
         "25d7711d-2932-41e1-8679-6d9578666866",
         "Sara Peters",
         "Tablet",
         null,
         "479.0",
         "2024-07-23",
         "West"
        ],
        [
         "076be842-4974-4b14-9263-84e4268aa6bd",
         "Stephanie Oneill",
         "Laptop",
         -4.0,
         "260.0",
         "04-07-2024",
         "East"
        ],
        [
         "f236da6d-84b7-485e-bc62-c491829140ee",
         "Eric Spears",
         "Laptop",
         null,
         "309.0",
         "12/08/2024",
         "South"
        ],
        [
         "5eedd5c2-7b89-455e-bc7c-d77af2f9ba8f",
         "Courtney Dodson",
         "Tablet ",
         -5.0,
         "468.0",
         "01-08-2024",
         "North "
        ],
        [
         "a84f24a8-ff1e-4fd1-88ac-ffecd292cf80",
         "Raymond Smith",
         "Laptop",
         -4.0,
         "300.0",
         "14/07/2024",
         "East"
        ],
        [
         "99022f4f-30f0-4530-8585-266c45fbb4ad",
         "Michelle Obrien",
         "Laptop",
         null,
         "373.0",
         "15/01/2024",
         "North "
        ],
        [
         "b32c4ed2-5830-4085-b60e-41a042bb9a82",
         "John Johnson",
         "Laptop",
         4.0,
         "173.0",
         "2024-10-03",
         "North"
        ],
        [
         "e434087a-6f97-4cef-8871-2974eb6b5476",
         "Marisa Patton",
         "Tablet",
         -1.0,
         "407",
         "2024-04-28",
         "North"
        ],
        [
         "7baec9cf-9e41-4aa1-9a73-1ea9260c92c7",
         "Justin Mcdowell",
         "Laptop",
         0.0,
         "$251",
         "25/03/2024",
         "South"
        ],
        [
         "4c41f044-2f2a-42c2-ae42-36206f3db711",
         "David Beck",
         "Laptop ",
         10.0,
         "$493",
         "2024-05-01",
         "East "
        ],
        [
         "a1c624cd-d425-4fb6-815b-78ae389a69e2",
         "Sandra Davis",
         "Laptop ",
         10.0,
         "379",
         "29/05/2024",
         "West "
        ],
        [
         "4c52508a-694b-4a01-a4a3-0d85f036cb5f",
         "Lauren Johnson",
         "Tablet",
         null,
         "344",
         "05-31-2024",
         "West"
        ],
        [
         "1bc46a84-7564-4380-ab1d-832d7a371ef4",
         "Jordan Coleman",
         "Laptop",
         null,
         "346",
         "06-05-2024",
         "North"
        ],
        [
         "e6eb5efe-e0d7-4f8a-928f-94a17c1bb735",
         "Cynthia Poole",
         "Laptop",
         1.0,
         "$110",
         "10/07/2024",
         "East"
        ],
        [
         "7c46af09-ff18-456d-8d04-7cc1582639ba",
         "Brady Sosa",
         "Laptop",
         -2.0,
         "304",
         "14/04/2024",
         "North "
        ],
        [
         "48c80378-9576-42bb-8c58-79a9b13e01bd",
         "Michael Kelly",
         "Tablet ",
         null,
         "154",
         "2024-03-11",
         "North "
        ]
       ],
       "datasetInfos": [],
       "dbfsResultPath": null,
       "isJsonSchema": true,
       "metadata": {},
       "overflow": false,
       "plotOptions": {
        "customPlotOptions": {},
        "displayType": "table",
        "pivotAggregation": null,
        "pivotColumns": null,
        "xColumns": null,
        "yColumns": null
       },
       "removedWidgets": [],
       "schema": [
        {
         "metadata": "{}",
         "name": "Transaction ID",
         "type": "\"string\""
        },
        {
         "metadata": "{}",
         "name": "Customer Name",
         "type": "\"string\""
        },
        {
         "metadata": "{}",
         "name": "Product",
         "type": "\"string\""
        },
        {
         "metadata": "{}",
         "name": "Quantity",
         "type": "\"double\""
        },
        {
         "metadata": "{}",
         "name": "Price Per Unit",
         "type": "\"string\""
        },
        {
         "metadata": "{}",
         "name": "Transaction Date",
         "type": "\"string\""
        },
        {
         "metadata": "{}",
         "name": "Region",
         "type": "\"string\""
        }
       ],
       "type": "table"
      }
     },
     "output_type": "display_data"
    }
   ],
   "source": [
    "from pyspark.sql import SparkSession\n",
    "from pyspark.sql.functions import initcap\n",
    "\n",
    "df = df.withColumn(\"Product\", initcap(df[\"Product\"])).withColumn(\"Region\", initcap(df[\"Region\"]))\n",
    "display(df)"
   ]
  },
  {
   "cell_type": "code",
   "execution_count": 0,
   "metadata": {
    "application/vnd.databricks.v1+cell": {
     "cellMetadata": {
      "byteLimit": 2048000,
      "rowLimit": 10000
     },
     "inputWidgets": {},
     "nuid": "1264e533-5d2b-4cca-b966-66d5029b4549",
     "showTitle": false,
     "tableResultSettingsMap": {},
     "title": ""
    }
   },
   "outputs": [
    {
     "output_type": "display_data",
     "data": {
      "text/html": [
       "<style scoped>\n",
       "  .table-result-container {\n",
       "    max-height: 300px;\n",
       "    overflow: auto;\n",
       "  }\n",
       "  table, th, td {\n",
       "    border: 1px solid black;\n",
       "    border-collapse: collapse;\n",
       "  }\n",
       "  th, td {\n",
       "    padding: 5px;\n",
       "  }\n",
       "  th {\n",
       "    text-align: left;\n",
       "  }\n",
       "</style><div class='table-result-container'><table class='table-result'><thead style='background-color: white'><tr><th>Transaction ID</th><th>Customer Name</th><th>Product</th><th>Quantity</th><th>Price Per Unit</th><th>Transaction Date</th><th>Region</th></tr></thead><tbody><tr><td>c36c12af-d6ef-485d-b81a-4dfd5016acba</td><td>Darlene House</td><td>Laptop </td><td>10.0</td><td>372.0</td><td>2024-03-01</td><td>South</td></tr><tr><td>6e0af861-fe73-43ff-8611-4eb004720893</td><td>Stuart Barron</td><td>Laptop</td><td>0.0</td><td>$481</td><td>04-21-2024</td><td>North</td></tr><tr><td>a359713b-cad7-4e1a-8e9d-312ac06e65d8</td><td>Maureen Lyons</td><td>Tablet </td><td>2.0</td><td>490.0</td><td>2024-06-03</td><td>East </td></tr><tr><td>fed09892-d3e8-492e-a064-2e727579b5ac</td><td>John Lee</td><td>Laptop</td><td>0.0</td><td>345</td><td>04-03-2024</td><td>South</td></tr><tr><td>998d01e2-7be6-4456-9513-954309839c04</td><td>Daniel Walls</td><td>Laptop</td><td>7.0</td><td>223</td><td>09/06/2024</td><td>South </td></tr><tr><td>0c0c249a-20f3-422d-9699-532eee6d8874</td><td>Nicholas Cruz</td><td>Laptop</td><td>1.0</td><td>$384</td><td>10-10-2024</td><td>North</td></tr><tr><td>8ec976ad-bd94-4694-983f-8f31d3dd5fbd</td><td>Andrea Morales</td><td>Laptop</td><td>3.0</td><td>$361</td><td>24/06/2024</td><td>East </td></tr><tr><td>c8576bd0-0b3c-4d63-b963-67bbcf1674a8</td><td>Ethan Thomas</td><td>Laptop</td><td>0.0</td><td>340.0</td><td>29/09/2024</td><td>South</td></tr><tr><td>b01682d6-8b67-4156-bfee-5142b19ffae7</td><td>Ann Thomas</td><td>Laptop </td><td>1.0</td><td>379.0</td><td>26/07/2024</td><td>East </td></tr><tr><td>dfd452cd-0a75-43d9-91f6-b7f2002af969</td><td>Paul Smith</td><td>Tablet </td><td>0.0</td><td>127.0</td><td>25/03/2024</td><td>West</td></tr><tr><td>e56b692d-0096-4e4c-9145-bcc22a8481b8</td><td>Todd Sandoval</td><td>Laptop</td><td>0.0</td><td>246.0</td><td>2024-06-08</td><td>North </td></tr><tr><td>778154ce-86c4-460b-b3e4-20a065837331</td><td>Colton Cole</td><td>Laptop</td><td>0.0</td><td>419</td><td>06-02-2024</td><td>East</td></tr><tr><td>450bb9ce-5f67-4c9f-9569-9847a97641dd</td><td>Erica Nichols</td><td>Laptop </td><td>0.0</td><td>63.0</td><td>2024-11-30</td><td>North </td></tr><tr><td>ae8ea305-06b2-428e-8bf9-c2c606d07170</td><td>Lisa Fowler</td><td>Laptop </td><td>9.0</td><td>295</td><td>11-11-2024</td><td>North</td></tr><tr><td>34be067d-e014-43a4-a40b-80a88483cf91</td><td>Christy Garcia</td><td>Laptop</td><td>3.0</td><td>$103</td><td>2024-10-12</td><td>North </td></tr><tr><td>f116a929-0210-4c4a-818d-6486816b892b</td><td>Monica Lawson</td><td>Tablet</td><td>1.0</td><td>496.0</td><td>12/06/2024</td><td>North</td></tr><tr><td>c0869c82-9d9d-4374-b14a-ca8430def93e</td><td>Brandon Parker</td><td>Laptop</td><td>4.0</td><td>140</td><td>03-21-2024</td><td>North</td></tr><tr><td>a4522c8a-9978-4f6d-946e-61d02b744326</td><td>Katherine Wright</td><td>Tablet </td><td>0.0</td><td>364</td><td>02-29-2024</td><td>North </td></tr><tr><td>6f15509e-ab1a-4d7a-98a4-45ec378a0192</td><td>Erin Snyder</td><td>Laptop</td><td>1.0</td><td>248.0</td><td>05-16-2024</td><td>West</td></tr><tr><td>bb9f3d4f-f4ce-4412-aaf5-fe5420ace73b</td><td>Jessica Huffman</td><td>Laptop</td><td>2.0</td><td>105</td><td>01/03/2024</td><td>West</td></tr><tr><td>ab7e6e8d-3de8-4c6f-a1a8-ce7c900bfbbd</td><td>Johnathan Cain</td><td>Laptop </td><td>4.0</td><td>326</td><td>2024-10-04</td><td>South</td></tr><tr><td>97e5b7d3-01c6-404a-b7f0-425346a2a4f0</td><td>Linda Summers</td><td>Tablet</td><td>9.0</td><td>$352</td><td>2024-08-12</td><td>East </td></tr><tr><td>d8212ec3-6e8b-4116-aaf9-525c7ab2bdf4</td><td>Brenda Wolfe</td><td>Laptop</td><td>0.0</td><td>$271</td><td>04/08/2024</td><td>North</td></tr><tr><td>6b3482ab-2487-410d-b453-d8370415f78a</td><td>Jacob Kelly</td><td>Tablet</td><td>0.0</td><td>$327</td><td>30/09/2024</td><td>East</td></tr><tr><td>8c876e75-efde-4036-a8d4-8af30a45bd3f</td><td>Andrea Taylor</td><td>Laptop </td><td>1.0</td><td>121.0</td><td>24/09/2024</td><td>South </td></tr><tr><td>2a092da0-c13f-4f0e-8e04-464839f0b5d1</td><td>Stephen Smith</td><td>Laptop </td><td>8.0</td><td>460</td><td>11-09-2024</td><td>East </td></tr><tr><td>323ce06c-96b9-4a0f-8d6f-120cb214e828</td><td>Gerald Park</td><td>Tablet</td><td>2.0</td><td>291.0</td><td>20/02/2024</td><td>West </td></tr><tr><td>6c8fd853-a203-4a61-b5c0-2c499ed9edb8</td><td>Christopher Nelson</td><td>Tablet </td><td>8.0</td><td>$130</td><td>05-13-2024</td><td>West</td></tr><tr><td>0141fa3c-b04a-4b31-836a-0eef021aad2f</td><td>Thomas Clayton</td><td>Laptop </td><td>3.0</td><td>329.0</td><td>11-02-2024</td><td>North </td></tr><tr><td>4828255e-25ec-41ac-8390-90ac920c32ea</td><td>Danny Lee</td><td>Tablet</td><td>0.0</td><td>468</td><td>2024-11-05</td><td>East </td></tr><tr><td>6dd4873c-d1f7-4910-8833-fbf33b627a45</td><td>Mark Jones</td><td>Laptop</td><td>6.0</td><td>349.0</td><td>22/05/2024</td><td>East </td></tr><tr><td>a82f02c8-6048-4dcb-9693-520bcbbfa4e8</td><td>Vincent Steele Jr.</td><td>Tablet</td><td>7.0</td><td>193</td><td>03-12-2024</td><td>East</td></tr><tr><td>30d33ebd-3e79-47a3-b246-ab3a92fd376b</td><td>Chase Washington</td><td>Laptop</td><td>3.0</td><td>415</td><td>04-05-2024</td><td>South</td></tr><tr><td>003b7acc-d4d4-4385-99cf-5b1a7137bd3e</td><td>Brandon Johnson</td><td>Laptop</td><td>0.0</td><td>319</td><td>23/11/2024</td><td>West </td></tr><tr><td>4895baa8-c634-4250-9c12-ed836fdee69f</td><td>Mary Logan DVM</td><td>Laptop</td><td>7.0</td><td>488</td><td>2024-06-20</td><td>North</td></tr><tr><td>c3ffeecf-3041-4389-8f36-e2754d47d314</td><td>Nicole Dawson</td><td>Tablet</td><td>0.0</td><td>$246</td><td>06-27-2024</td><td>East </td></tr><tr><td>fee3e6f8-d80b-4a69-b559-d2c8929c8df4</td><td>Jeffrey Horton</td><td>Tablet</td><td>3.0</td><td>287.0</td><td>2024-10-09</td><td>North</td></tr><tr><td>ea3864be-7b7d-4ad4-b59a-7e1ba2dfe785</td><td>Ryan Simpson</td><td>Tablet</td><td>0.0</td><td>92.0</td><td>08-28-2024</td><td>North </td></tr><tr><td>f4ecb27e-1eeb-41a6-a6a0-c2f5e5fafb0a</td><td>Michael Jones</td><td>Tablet </td><td>8.0</td><td>229</td><td>2024-04-15</td><td>South</td></tr><tr><td>101fa00f-a49e-455b-8e31-1550563078e0</td><td>Paul Hodges</td><td>Laptop </td><td>0.0</td><td>371</td><td>2024-07-05</td><td>East</td></tr><tr><td>87847a11-1711-4f5f-a91e-0454a9ad80f0</td><td>Christopher Curtis</td><td>Laptop</td><td>4.0</td><td>389.0</td><td>2024-10-15</td><td>East</td></tr><tr><td>7ca82747-caef-416f-a07e-abd09b595196</td><td>Cathy Thomas</td><td>Laptop</td><td>0.0</td><td>410.0</td><td>01-18-2024</td><td>North </td></tr><tr><td>9ac77cbe-382f-4a56-9f58-c812f4d24c26</td><td>Amanda Thomas</td><td>Laptop</td><td>1.0</td><td>73</td><td>12/04/2024</td><td>North</td></tr><tr><td>782d80bc-f5c0-42fd-b72c-850795d949af</td><td>Mario Ford</td><td>Laptop</td><td>0.0</td><td>499</td><td>13/03/2024</td><td>East</td></tr><tr><td>80512132-f226-4347-accf-ad7878a16fed</td><td>Edward Bond</td><td>Tablet</td><td>0.0</td><td>186</td><td>17/01/2024</td><td>East</td></tr><tr><td>41b98e56-276e-4b12-a532-7ed77c39aa8d</td><td>Daniel Martinez</td><td>Laptop</td><td>5.0</td><td>$332</td><td>02-12-2024</td><td>West</td></tr><tr><td>dcf93957-7886-4f7f-b412-c125d1a662a0</td><td>Sara Ramirez</td><td>Laptop</td><td>0.0</td><td>$127</td><td>2024-02-19</td><td>East</td></tr><tr><td>9ced51b7-a0e0-4219-91bb-b6f9f839870d</td><td>Kenneth Ellis</td><td>Laptop</td><td>1.0</td><td>$393</td><td>05-17-2024</td><td>West </td></tr><tr><td>bdac9f79-a06c-4e7c-b249-6cc8351d0353</td><td>Mariah Anderson</td><td>Tablet</td><td>5.0</td><td>255</td><td>06-18-2024</td><td>West</td></tr><tr><td>c6f8e471-9fa9-47f8-b7ae-32d24bb45634</td><td>Dalton Austin</td><td>Laptop</td><td>0.0</td><td>$153</td><td>23/01/2024</td><td>South </td></tr><tr><td>e0f9d657-b898-4b5a-9481-4a3577ce644a</td><td>Scott Moore</td><td>Laptop </td><td>3.0</td><td>$409</td><td>04/11/2024</td><td>West</td></tr><tr><td>5449f262-7965-408a-a9e1-a0caa375d52e</td><td>Stephen Williamson</td><td>Laptop </td><td>1.0</td><td>118.0</td><td>2024-08-12</td><td>East</td></tr><tr><td>3a40ec1e-51a4-4fa8-a126-fb86458235fd</td><td>Kelly Beard</td><td>Laptop</td><td>1.0</td><td>67</td><td>04-01-2024</td><td>North</td></tr><tr><td>7340fc8a-92c4-4490-90a6-52af72ef58e7</td><td>Glen Alvarado</td><td>Laptop</td><td>6.0</td><td>$61</td><td>04/03/2024</td><td>West </td></tr><tr><td>9ca5dd2b-5a4e-4143-bcc2-ce2ecb34e9f1</td><td>George Gray</td><td>Laptop </td><td>0.0</td><td>$130</td><td>30/04/2024</td><td>North</td></tr><tr><td>03138bf0-8b70-478c-bafe-166c3268162b</td><td>Mrs. Mary Blankenship</td><td>Laptop</td><td>8.0</td><td>307</td><td>26/02/2024</td><td>North</td></tr><tr><td>4829e024-e9e8-4a5b-82de-f9ae5a6f86de</td><td>Sierra Waters</td><td>Laptop </td><td>0.0</td><td>273</td><td>04-15-2024</td><td>East</td></tr><tr><td>0931c839-d9a6-4b51-9715-30a7520a9dbf</td><td>Derek Hernandez</td><td>Laptop</td><td>10.0</td><td>$327</td><td>01-31-2024</td><td>North</td></tr><tr><td>7e7ce8e5-feb4-4947-9869-2547ba405574</td><td>Dr. Daniel King DDS</td><td>Laptop</td><td>5.0</td><td>107</td><td>28/08/2024</td><td>West </td></tr><tr><td>bbed0c20-8fe6-4c08-ba10-0464b7567847</td><td>Carl Moore</td><td>Tablet</td><td>0.0</td><td>$173</td><td>02/08/2024</td><td>South </td></tr><tr><td>85c68336-9177-4074-939e-a51dec3cb714</td><td>Ryan Harrington</td><td>Tablet</td><td>0.0</td><td>131</td><td>28/07/2024</td><td>East</td></tr><tr><td>0121d08b-b639-4519-9360-8e919b0a739c</td><td>Gina Banks</td><td>Laptop</td><td>4.0</td><td>147.0</td><td>06/06/2024</td><td>West </td></tr><tr><td>5cbca593-e412-4dec-8bed-a2f83774e4f1</td><td>William Travis</td><td>Laptop</td><td>1.0</td><td>$166</td><td>2024-02-26</td><td>West</td></tr><tr><td>76e73fcc-4337-4b24-91ca-428d4fa5eb19</td><td>Keith Carter</td><td>Laptop </td><td>5.0</td><td>426.0</td><td>03-31-2024</td><td>East </td></tr><tr><td>9c4ab30a-6374-4b75-b9df-4bfec710c7a6</td><td>Linda Mckinney</td><td>Laptop</td><td>0.0</td><td>66.0</td><td>22/01/2024</td><td>West </td></tr><tr><td>0723cbd9-33d7-4f94-b01b-3289688cec5c</td><td>Betty Anderson</td><td>Tablet</td><td>0.0</td><td>254.0</td><td>25/01/2024</td><td>North </td></tr><tr><td>8a279289-0087-4d74-a8a4-ccd7e8b08add</td><td>John Burke</td><td>Tablet</td><td>0.0</td><td>249.0</td><td>2024-04-27</td><td>North</td></tr><tr><td>bca3b088-9e29-4ab2-a13a-798f54d708c2</td><td>Brandon Short</td><td>Tablet</td><td>3.0</td><td>400.0</td><td>23/01/2024</td><td>South </td></tr><tr><td>94cc574b-0ddd-421f-9662-f47ee1e311ff</td><td>Bryan Hopkins</td><td>Laptop</td><td>0.0</td><td>96.0</td><td>08-02-2024</td><td>West </td></tr><tr><td>d186ae10-b1f0-48f2-a3a9-c9106ebd4eb2</td><td>Kim Cooper</td><td>Tablet</td><td>4.0</td><td>$89</td><td>11-18-2024</td><td>West </td></tr><tr><td>7815230e-61da-40ae-abc4-89cf8e8038f5</td><td>Cynthia Rich</td><td>Laptop </td><td>0.0</td><td>269.0</td><td>2024-04-05</td><td>East</td></tr><tr><td>fab86cca-0598-4bca-b229-979d5dfd758e</td><td>Ryan Dunn</td><td>Tablet </td><td>6.0</td><td>126.0</td><td>07-15-2024</td><td>East</td></tr><tr><td>df293035-020d-4df4-9783-109b63ca633b</td><td>Amber Brady</td><td>Laptop </td><td>3.0</td><td>320</td><td>12/06/2024</td><td>North </td></tr><tr><td>1899a1e0-d8da-45b8-8342-651917a172bc</td><td>Kyle Byrd</td><td>Tablet </td><td>3.0</td><td>$471</td><td>2024-03-31</td><td>West</td></tr><tr><td>b20e3522-43f7-4ff8-afab-69121d7f18c6</td><td>Dawn Johnston</td><td>Laptop</td><td>0.0</td><td>$188</td><td>07-20-2024</td><td>East</td></tr><tr><td>48dd31eb-5282-46a8-a8b2-b447be194134</td><td>Steven Clark</td><td>Laptop </td><td>0.0</td><td>$162</td><td>10/05/2024</td><td>South</td></tr><tr><td>3e6ea67d-781d-49f1-98e8-3afd1e7ee078</td><td>Kelsey Murphy</td><td>Laptop</td><td>0.0</td><td>293</td><td>21/04/2024</td><td>East </td></tr><tr><td>14c19ad4-50e9-404b-b1d5-1142be1ad5ff</td><td>Vanessa Mendoza</td><td>Tablet</td><td>3.0</td><td>$360</td><td>2024-10-14</td><td>East</td></tr><tr><td>49f9dc43-f703-4de4-a87f-96915db513ed</td><td>Mia Benton</td><td>Laptop</td><td>3.0</td><td>200</td><td>22/05/2024</td><td>East</td></tr><tr><td>004ce647-0b78-406d-a1ed-0172aebbbcf5</td><td>Mr. Jason Good</td><td>Laptop </td><td>0.0</td><td>298</td><td>07/08/2024</td><td>South</td></tr><tr><td>c9ee33b3-9650-48da-be63-5433b922a2eb</td><td>Corey Garner</td><td>Laptop</td><td>7.0</td><td>478</td><td>2024-08-16</td><td>North</td></tr><tr><td>ba0c1ac1-fb71-44b0-a76b-d6b322641f0d</td><td>Brian Cherry</td><td>Laptop </td><td>0.0</td><td>475</td><td>09-15-2024</td><td>South </td></tr><tr><td>5a96d15b-3432-420d-913d-d24d04325be3</td><td>Brett Thompson</td><td>Laptop</td><td>2.0</td><td>304.0</td><td>2024-09-14</td><td>South </td></tr><tr><td>5c46e5bb-198a-4f4d-a22d-6cf066f93ecd</td><td>Chelsey Romero</td><td>Tablet</td><td>1.0</td><td>$293</td><td>04-07-2024</td><td>South </td></tr><tr><td>25d7711d-2932-41e1-8679-6d9578666866</td><td>Sara Peters</td><td>Tablet</td><td>0.0</td><td>479.0</td><td>2024-07-23</td><td>West</td></tr><tr><td>076be842-4974-4b14-9263-84e4268aa6bd</td><td>Stephanie Oneill</td><td>Laptop</td><td>4.0</td><td>260.0</td><td>04-07-2024</td><td>East</td></tr><tr><td>f236da6d-84b7-485e-bc62-c491829140ee</td><td>Eric Spears</td><td>Laptop</td><td>0.0</td><td>309.0</td><td>12/08/2024</td><td>South</td></tr><tr><td>5eedd5c2-7b89-455e-bc7c-d77af2f9ba8f</td><td>Courtney Dodson</td><td>Tablet </td><td>5.0</td><td>468.0</td><td>01-08-2024</td><td>North </td></tr><tr><td>a84f24a8-ff1e-4fd1-88ac-ffecd292cf80</td><td>Raymond Smith</td><td>Laptop</td><td>4.0</td><td>300.0</td><td>14/07/2024</td><td>East</td></tr><tr><td>99022f4f-30f0-4530-8585-266c45fbb4ad</td><td>Michelle Obrien</td><td>Laptop</td><td>0.0</td><td>373.0</td><td>15/01/2024</td><td>North </td></tr><tr><td>b32c4ed2-5830-4085-b60e-41a042bb9a82</td><td>John Johnson</td><td>Laptop</td><td>4.0</td><td>173.0</td><td>2024-10-03</td><td>North</td></tr><tr><td>e434087a-6f97-4cef-8871-2974eb6b5476</td><td>Marisa Patton</td><td>Tablet</td><td>1.0</td><td>407</td><td>2024-04-28</td><td>North</td></tr><tr><td>7baec9cf-9e41-4aa1-9a73-1ea9260c92c7</td><td>Justin Mcdowell</td><td>Laptop</td><td>0.0</td><td>$251</td><td>25/03/2024</td><td>South</td></tr><tr><td>4c41f044-2f2a-42c2-ae42-36206f3db711</td><td>David Beck</td><td>Laptop </td><td>10.0</td><td>$493</td><td>2024-05-01</td><td>East </td></tr><tr><td>a1c624cd-d425-4fb6-815b-78ae389a69e2</td><td>Sandra Davis</td><td>Laptop </td><td>10.0</td><td>379</td><td>29/05/2024</td><td>West </td></tr><tr><td>4c52508a-694b-4a01-a4a3-0d85f036cb5f</td><td>Lauren Johnson</td><td>Tablet</td><td>0.0</td><td>344</td><td>05-31-2024</td><td>West</td></tr><tr><td>1bc46a84-7564-4380-ab1d-832d7a371ef4</td><td>Jordan Coleman</td><td>Laptop</td><td>0.0</td><td>346</td><td>06-05-2024</td><td>North</td></tr><tr><td>e6eb5efe-e0d7-4f8a-928f-94a17c1bb735</td><td>Cynthia Poole</td><td>Laptop</td><td>1.0</td><td>$110</td><td>10/07/2024</td><td>East</td></tr><tr><td>7c46af09-ff18-456d-8d04-7cc1582639ba</td><td>Brady Sosa</td><td>Laptop</td><td>2.0</td><td>304</td><td>14/04/2024</td><td>North </td></tr><tr><td>48c80378-9576-42bb-8c58-79a9b13e01bd</td><td>Michael Kelly</td><td>Tablet </td><td>0.0</td><td>154</td><td>2024-03-11</td><td>North </td></tr></tbody></table></div>"
      ]
     },
     "metadata": {
      "application/vnd.databricks.v1+output": {
       "addedWidgets": {},
       "aggData": [],
       "aggError": "",
       "aggOverflow": false,
       "aggSchema": [],
       "aggSeriesLimitReached": false,
       "aggType": "",
       "arguments": {},
       "columnCustomDisplayInfos": {},
       "data": [
        [
         "c36c12af-d6ef-485d-b81a-4dfd5016acba",
         "Darlene House",
         "Laptop ",
         10.0,
         "372.0",
         "2024-03-01",
         "South"
        ],
        [
         "6e0af861-fe73-43ff-8611-4eb004720893",
         "Stuart Barron",
         "Laptop",
         0.0,
         "$481",
         "04-21-2024",
         "North"
        ],
        [
         "a359713b-cad7-4e1a-8e9d-312ac06e65d8",
         "Maureen Lyons",
         "Tablet ",
         2.0,
         "490.0",
         "2024-06-03",
         "East "
        ],
        [
         "fed09892-d3e8-492e-a064-2e727579b5ac",
         "John Lee",
         "Laptop",
         0.0,
         "345",
         "04-03-2024",
         "South"
        ],
        [
         "998d01e2-7be6-4456-9513-954309839c04",
         "Daniel Walls",
         "Laptop",
         7.0,
         "223",
         "09/06/2024",
         "South "
        ],
        [
         "0c0c249a-20f3-422d-9699-532eee6d8874",
         "Nicholas Cruz",
         "Laptop",
         1.0,
         "$384",
         "10-10-2024",
         "North"
        ],
        [
         "8ec976ad-bd94-4694-983f-8f31d3dd5fbd",
         "Andrea Morales",
         "Laptop",
         3.0,
         "$361",
         "24/06/2024",
         "East "
        ],
        [
         "c8576bd0-0b3c-4d63-b963-67bbcf1674a8",
         "Ethan Thomas",
         "Laptop",
         0.0,
         "340.0",
         "29/09/2024",
         "South"
        ],
        [
         "b01682d6-8b67-4156-bfee-5142b19ffae7",
         "Ann Thomas",
         "Laptop ",
         1.0,
         "379.0",
         "26/07/2024",
         "East "
        ],
        [
         "dfd452cd-0a75-43d9-91f6-b7f2002af969",
         "Paul Smith",
         "Tablet ",
         0.0,
         "127.0",
         "25/03/2024",
         "West"
        ],
        [
         "e56b692d-0096-4e4c-9145-bcc22a8481b8",
         "Todd Sandoval",
         "Laptop",
         0.0,
         "246.0",
         "2024-06-08",
         "North "
        ],
        [
         "778154ce-86c4-460b-b3e4-20a065837331",
         "Colton Cole",
         "Laptop",
         0.0,
         "419",
         "06-02-2024",
         "East"
        ],
        [
         "450bb9ce-5f67-4c9f-9569-9847a97641dd",
         "Erica Nichols",
         "Laptop ",
         0.0,
         "63.0",
         "2024-11-30",
         "North "
        ],
        [
         "ae8ea305-06b2-428e-8bf9-c2c606d07170",
         "Lisa Fowler",
         "Laptop ",
         9.0,
         "295",
         "11-11-2024",
         "North"
        ],
        [
         "34be067d-e014-43a4-a40b-80a88483cf91",
         "Christy Garcia",
         "Laptop",
         3.0,
         "$103",
         "2024-10-12",
         "North "
        ],
        [
         "f116a929-0210-4c4a-818d-6486816b892b",
         "Monica Lawson",
         "Tablet",
         1.0,
         "496.0",
         "12/06/2024",
         "North"
        ],
        [
         "c0869c82-9d9d-4374-b14a-ca8430def93e",
         "Brandon Parker",
         "Laptop",
         4.0,
         "140",
         "03-21-2024",
         "North"
        ],
        [
         "a4522c8a-9978-4f6d-946e-61d02b744326",
         "Katherine Wright",
         "Tablet ",
         0.0,
         "364",
         "02-29-2024",
         "North "
        ],
        [
         "6f15509e-ab1a-4d7a-98a4-45ec378a0192",
         "Erin Snyder",
         "Laptop",
         1.0,
         "248.0",
         "05-16-2024",
         "West"
        ],
        [
         "bb9f3d4f-f4ce-4412-aaf5-fe5420ace73b",
         "Jessica Huffman",
         "Laptop",
         2.0,
         "105",
         "01/03/2024",
         "West"
        ],
        [
         "ab7e6e8d-3de8-4c6f-a1a8-ce7c900bfbbd",
         "Johnathan Cain",
         "Laptop ",
         4.0,
         "326",
         "2024-10-04",
         "South"
        ],
        [
         "97e5b7d3-01c6-404a-b7f0-425346a2a4f0",
         "Linda Summers",
         "Tablet",
         9.0,
         "$352",
         "2024-08-12",
         "East "
        ],
        [
         "d8212ec3-6e8b-4116-aaf9-525c7ab2bdf4",
         "Brenda Wolfe",
         "Laptop",
         0.0,
         "$271",
         "04/08/2024",
         "North"
        ],
        [
         "6b3482ab-2487-410d-b453-d8370415f78a",
         "Jacob Kelly",
         "Tablet",
         0.0,
         "$327",
         "30/09/2024",
         "East"
        ],
        [
         "8c876e75-efde-4036-a8d4-8af30a45bd3f",
         "Andrea Taylor",
         "Laptop ",
         1.0,
         "121.0",
         "24/09/2024",
         "South "
        ],
        [
         "2a092da0-c13f-4f0e-8e04-464839f0b5d1",
         "Stephen Smith",
         "Laptop ",
         8.0,
         "460",
         "11-09-2024",
         "East "
        ],
        [
         "323ce06c-96b9-4a0f-8d6f-120cb214e828",
         "Gerald Park",
         "Tablet",
         2.0,
         "291.0",
         "20/02/2024",
         "West "
        ],
        [
         "6c8fd853-a203-4a61-b5c0-2c499ed9edb8",
         "Christopher Nelson",
         "Tablet ",
         8.0,
         "$130",
         "05-13-2024",
         "West"
        ],
        [
         "0141fa3c-b04a-4b31-836a-0eef021aad2f",
         "Thomas Clayton",
         "Laptop ",
         3.0,
         "329.0",
         "11-02-2024",
         "North "
        ],
        [
         "4828255e-25ec-41ac-8390-90ac920c32ea",
         "Danny Lee",
         "Tablet",
         0.0,
         "468",
         "2024-11-05",
         "East "
        ],
        [
         "6dd4873c-d1f7-4910-8833-fbf33b627a45",
         "Mark Jones",
         "Laptop",
         6.0,
         "349.0",
         "22/05/2024",
         "East "
        ],
        [
         "a82f02c8-6048-4dcb-9693-520bcbbfa4e8",
         "Vincent Steele Jr.",
         "Tablet",
         7.0,
         "193",
         "03-12-2024",
         "East"
        ],
        [
         "30d33ebd-3e79-47a3-b246-ab3a92fd376b",
         "Chase Washington",
         "Laptop",
         3.0,
         "415",
         "04-05-2024",
         "South"
        ],
        [
         "003b7acc-d4d4-4385-99cf-5b1a7137bd3e",
         "Brandon Johnson",
         "Laptop",
         0.0,
         "319",
         "23/11/2024",
         "West "
        ],
        [
         "4895baa8-c634-4250-9c12-ed836fdee69f",
         "Mary Logan DVM",
         "Laptop",
         7.0,
         "488",
         "2024-06-20",
         "North"
        ],
        [
         "c3ffeecf-3041-4389-8f36-e2754d47d314",
         "Nicole Dawson",
         "Tablet",
         0.0,
         "$246",
         "06-27-2024",
         "East "
        ],
        [
         "fee3e6f8-d80b-4a69-b559-d2c8929c8df4",
         "Jeffrey Horton",
         "Tablet",
         3.0,
         "287.0",
         "2024-10-09",
         "North"
        ],
        [
         "ea3864be-7b7d-4ad4-b59a-7e1ba2dfe785",
         "Ryan Simpson",
         "Tablet",
         0.0,
         "92.0",
         "08-28-2024",
         "North "
        ],
        [
         "f4ecb27e-1eeb-41a6-a6a0-c2f5e5fafb0a",
         "Michael Jones",
         "Tablet ",
         8.0,
         "229",
         "2024-04-15",
         "South"
        ],
        [
         "101fa00f-a49e-455b-8e31-1550563078e0",
         "Paul Hodges",
         "Laptop ",
         0.0,
         "371",
         "2024-07-05",
         "East"
        ],
        [
         "87847a11-1711-4f5f-a91e-0454a9ad80f0",
         "Christopher Curtis",
         "Laptop",
         4.0,
         "389.0",
         "2024-10-15",
         "East"
        ],
        [
         "7ca82747-caef-416f-a07e-abd09b595196",
         "Cathy Thomas",
         "Laptop",
         0.0,
         "410.0",
         "01-18-2024",
         "North "
        ],
        [
         "9ac77cbe-382f-4a56-9f58-c812f4d24c26",
         "Amanda Thomas",
         "Laptop",
         1.0,
         "73",
         "12/04/2024",
         "North"
        ],
        [
         "782d80bc-f5c0-42fd-b72c-850795d949af",
         "Mario Ford",
         "Laptop",
         0.0,
         "499",
         "13/03/2024",
         "East"
        ],
        [
         "80512132-f226-4347-accf-ad7878a16fed",
         "Edward Bond",
         "Tablet",
         0.0,
         "186",
         "17/01/2024",
         "East"
        ],
        [
         "41b98e56-276e-4b12-a532-7ed77c39aa8d",
         "Daniel Martinez",
         "Laptop",
         5.0,
         "$332",
         "02-12-2024",
         "West"
        ],
        [
         "dcf93957-7886-4f7f-b412-c125d1a662a0",
         "Sara Ramirez",
         "Laptop",
         0.0,
         "$127",
         "2024-02-19",
         "East"
        ],
        [
         "9ced51b7-a0e0-4219-91bb-b6f9f839870d",
         "Kenneth Ellis",
         "Laptop",
         1.0,
         "$393",
         "05-17-2024",
         "West "
        ],
        [
         "bdac9f79-a06c-4e7c-b249-6cc8351d0353",
         "Mariah Anderson",
         "Tablet",
         5.0,
         "255",
         "06-18-2024",
         "West"
        ],
        [
         "c6f8e471-9fa9-47f8-b7ae-32d24bb45634",
         "Dalton Austin",
         "Laptop",
         0.0,
         "$153",
         "23/01/2024",
         "South "
        ],
        [
         "e0f9d657-b898-4b5a-9481-4a3577ce644a",
         "Scott Moore",
         "Laptop ",
         3.0,
         "$409",
         "04/11/2024",
         "West"
        ],
        [
         "5449f262-7965-408a-a9e1-a0caa375d52e",
         "Stephen Williamson",
         "Laptop ",
         1.0,
         "118.0",
         "2024-08-12",
         "East"
        ],
        [
         "3a40ec1e-51a4-4fa8-a126-fb86458235fd",
         "Kelly Beard",
         "Laptop",
         1.0,
         "67",
         "04-01-2024",
         "North"
        ],
        [
         "7340fc8a-92c4-4490-90a6-52af72ef58e7",
         "Glen Alvarado",
         "Laptop",
         6.0,
         "$61",
         "04/03/2024",
         "West "
        ],
        [
         "9ca5dd2b-5a4e-4143-bcc2-ce2ecb34e9f1",
         "George Gray",
         "Laptop ",
         0.0,
         "$130",
         "30/04/2024",
         "North"
        ],
        [
         "03138bf0-8b70-478c-bafe-166c3268162b",
         "Mrs. Mary Blankenship",
         "Laptop",
         8.0,
         "307",
         "26/02/2024",
         "North"
        ],
        [
         "4829e024-e9e8-4a5b-82de-f9ae5a6f86de",
         "Sierra Waters",
         "Laptop ",
         0.0,
         "273",
         "04-15-2024",
         "East"
        ],
        [
         "0931c839-d9a6-4b51-9715-30a7520a9dbf",
         "Derek Hernandez",
         "Laptop",
         10.0,
         "$327",
         "01-31-2024",
         "North"
        ],
        [
         "7e7ce8e5-feb4-4947-9869-2547ba405574",
         "Dr. Daniel King DDS",
         "Laptop",
         5.0,
         "107",
         "28/08/2024",
         "West "
        ],
        [
         "bbed0c20-8fe6-4c08-ba10-0464b7567847",
         "Carl Moore",
         "Tablet",
         0.0,
         "$173",
         "02/08/2024",
         "South "
        ],
        [
         "85c68336-9177-4074-939e-a51dec3cb714",
         "Ryan Harrington",
         "Tablet",
         0.0,
         "131",
         "28/07/2024",
         "East"
        ],
        [
         "0121d08b-b639-4519-9360-8e919b0a739c",
         "Gina Banks",
         "Laptop",
         4.0,
         "147.0",
         "06/06/2024",
         "West "
        ],
        [
         "5cbca593-e412-4dec-8bed-a2f83774e4f1",
         "William Travis",
         "Laptop",
         1.0,
         "$166",
         "2024-02-26",
         "West"
        ],
        [
         "76e73fcc-4337-4b24-91ca-428d4fa5eb19",
         "Keith Carter",
         "Laptop ",
         5.0,
         "426.0",
         "03-31-2024",
         "East "
        ],
        [
         "9c4ab30a-6374-4b75-b9df-4bfec710c7a6",
         "Linda Mckinney",
         "Laptop",
         0.0,
         "66.0",
         "22/01/2024",
         "West "
        ],
        [
         "0723cbd9-33d7-4f94-b01b-3289688cec5c",
         "Betty Anderson",
         "Tablet",
         0.0,
         "254.0",
         "25/01/2024",
         "North "
        ],
        [
         "8a279289-0087-4d74-a8a4-ccd7e8b08add",
         "John Burke",
         "Tablet",
         0.0,
         "249.0",
         "2024-04-27",
         "North"
        ],
        [
         "bca3b088-9e29-4ab2-a13a-798f54d708c2",
         "Brandon Short",
         "Tablet",
         3.0,
         "400.0",
         "23/01/2024",
         "South "
        ],
        [
         "94cc574b-0ddd-421f-9662-f47ee1e311ff",
         "Bryan Hopkins",
         "Laptop",
         0.0,
         "96.0",
         "08-02-2024",
         "West "
        ],
        [
         "d186ae10-b1f0-48f2-a3a9-c9106ebd4eb2",
         "Kim Cooper",
         "Tablet",
         4.0,
         "$89",
         "11-18-2024",
         "West "
        ],
        [
         "7815230e-61da-40ae-abc4-89cf8e8038f5",
         "Cynthia Rich",
         "Laptop ",
         0.0,
         "269.0",
         "2024-04-05",
         "East"
        ],
        [
         "fab86cca-0598-4bca-b229-979d5dfd758e",
         "Ryan Dunn",
         "Tablet ",
         6.0,
         "126.0",
         "07-15-2024",
         "East"
        ],
        [
         "df293035-020d-4df4-9783-109b63ca633b",
         "Amber Brady",
         "Laptop ",
         3.0,
         "320",
         "12/06/2024",
         "North "
        ],
        [
         "1899a1e0-d8da-45b8-8342-651917a172bc",
         "Kyle Byrd",
         "Tablet ",
         3.0,
         "$471",
         "2024-03-31",
         "West"
        ],
        [
         "b20e3522-43f7-4ff8-afab-69121d7f18c6",
         "Dawn Johnston",
         "Laptop",
         0.0,
         "$188",
         "07-20-2024",
         "East"
        ],
        [
         "48dd31eb-5282-46a8-a8b2-b447be194134",
         "Steven Clark",
         "Laptop ",
         0.0,
         "$162",
         "10/05/2024",
         "South"
        ],
        [
         "3e6ea67d-781d-49f1-98e8-3afd1e7ee078",
         "Kelsey Murphy",
         "Laptop",
         0.0,
         "293",
         "21/04/2024",
         "East "
        ],
        [
         "14c19ad4-50e9-404b-b1d5-1142be1ad5ff",
         "Vanessa Mendoza",
         "Tablet",
         3.0,
         "$360",
         "2024-10-14",
         "East"
        ],
        [
         "49f9dc43-f703-4de4-a87f-96915db513ed",
         "Mia Benton",
         "Laptop",
         3.0,
         "200",
         "22/05/2024",
         "East"
        ],
        [
         "004ce647-0b78-406d-a1ed-0172aebbbcf5",
         "Mr. Jason Good",
         "Laptop ",
         0.0,
         "298",
         "07/08/2024",
         "South"
        ],
        [
         "c9ee33b3-9650-48da-be63-5433b922a2eb",
         "Corey Garner",
         "Laptop",
         7.0,
         "478",
         "2024-08-16",
         "North"
        ],
        [
         "ba0c1ac1-fb71-44b0-a76b-d6b322641f0d",
         "Brian Cherry",
         "Laptop ",
         0.0,
         "475",
         "09-15-2024",
         "South "
        ],
        [
         "5a96d15b-3432-420d-913d-d24d04325be3",
         "Brett Thompson",
         "Laptop",
         2.0,
         "304.0",
         "2024-09-14",
         "South "
        ],
        [
         "5c46e5bb-198a-4f4d-a22d-6cf066f93ecd",
         "Chelsey Romero",
         "Tablet",
         1.0,
         "$293",
         "04-07-2024",
         "South "
        ],
        [
         "25d7711d-2932-41e1-8679-6d9578666866",
         "Sara Peters",
         "Tablet",
         0.0,
         "479.0",
         "2024-07-23",
         "West"
        ],
        [
         "076be842-4974-4b14-9263-84e4268aa6bd",
         "Stephanie Oneill",
         "Laptop",
         4.0,
         "260.0",
         "04-07-2024",
         "East"
        ],
        [
         "f236da6d-84b7-485e-bc62-c491829140ee",
         "Eric Spears",
         "Laptop",
         0.0,
         "309.0",
         "12/08/2024",
         "South"
        ],
        [
         "5eedd5c2-7b89-455e-bc7c-d77af2f9ba8f",
         "Courtney Dodson",
         "Tablet ",
         5.0,
         "468.0",
         "01-08-2024",
         "North "
        ],
        [
         "a84f24a8-ff1e-4fd1-88ac-ffecd292cf80",
         "Raymond Smith",
         "Laptop",
         4.0,
         "300.0",
         "14/07/2024",
         "East"
        ],
        [
         "99022f4f-30f0-4530-8585-266c45fbb4ad",
         "Michelle Obrien",
         "Laptop",
         0.0,
         "373.0",
         "15/01/2024",
         "North "
        ],
        [
         "b32c4ed2-5830-4085-b60e-41a042bb9a82",
         "John Johnson",
         "Laptop",
         4.0,
         "173.0",
         "2024-10-03",
         "North"
        ],
        [
         "e434087a-6f97-4cef-8871-2974eb6b5476",
         "Marisa Patton",
         "Tablet",
         1.0,
         "407",
         "2024-04-28",
         "North"
        ],
        [
         "7baec9cf-9e41-4aa1-9a73-1ea9260c92c7",
         "Justin Mcdowell",
         "Laptop",
         0.0,
         "$251",
         "25/03/2024",
         "South"
        ],
        [
         "4c41f044-2f2a-42c2-ae42-36206f3db711",
         "David Beck",
         "Laptop ",
         10.0,
         "$493",
         "2024-05-01",
         "East "
        ],
        [
         "a1c624cd-d425-4fb6-815b-78ae389a69e2",
         "Sandra Davis",
         "Laptop ",
         10.0,
         "379",
         "29/05/2024",
         "West "
        ],
        [
         "4c52508a-694b-4a01-a4a3-0d85f036cb5f",
         "Lauren Johnson",
         "Tablet",
         0.0,
         "344",
         "05-31-2024",
         "West"
        ],
        [
         "1bc46a84-7564-4380-ab1d-832d7a371ef4",
         "Jordan Coleman",
         "Laptop",
         0.0,
         "346",
         "06-05-2024",
         "North"
        ],
        [
         "e6eb5efe-e0d7-4f8a-928f-94a17c1bb735",
         "Cynthia Poole",
         "Laptop",
         1.0,
         "$110",
         "10/07/2024",
         "East"
        ],
        [
         "7c46af09-ff18-456d-8d04-7cc1582639ba",
         "Brady Sosa",
         "Laptop",
         2.0,
         "304",
         "14/04/2024",
         "North "
        ],
        [
         "48c80378-9576-42bb-8c58-79a9b13e01bd",
         "Michael Kelly",
         "Tablet ",
         0.0,
         "154",
         "2024-03-11",
         "North "
        ]
       ],
       "datasetInfos": [],
       "dbfsResultPath": null,
       "isJsonSchema": true,
       "metadata": {},
       "overflow": false,
       "plotOptions": {
        "customPlotOptions": {},
        "displayType": "table",
        "pivotAggregation": null,
        "pivotColumns": null,
        "xColumns": null,
        "yColumns": null
       },
       "removedWidgets": [],
       "schema": [
        {
         "metadata": "{}",
         "name": "Transaction ID",
         "type": "\"string\""
        },
        {
         "metadata": "{}",
         "name": "Customer Name",
         "type": "\"string\""
        },
        {
         "metadata": "{}",
         "name": "Product",
         "type": "\"string\""
        },
        {
         "metadata": "{}",
         "name": "Quantity",
         "type": "\"double\""
        },
        {
         "metadata": "{}",
         "name": "Price Per Unit",
         "type": "\"string\""
        },
        {
         "metadata": "{}",
         "name": "Transaction Date",
         "type": "\"string\""
        },
        {
         "metadata": "{}",
         "name": "Region",
         "type": "\"string\""
        }
       ],
       "type": "table"
      }
     },
     "output_type": "display_data"
    }
   ],
   "source": [
    "from pyspark.sql import SparkSession\n",
    "from pyspark.sql.functions import initcap,col, abs, when\n",
    "\n",
    "df=df.withColumn(\n",
    "    \"Quantity\",when(col(\"quantity\").isNull(), 0).otherwise(abs(col(\"quantity\"))))\n",
    "display(df)"
   ]
  },
  {
   "cell_type": "code",
   "execution_count": 0,
   "metadata": {
    "application/vnd.databricks.v1+cell": {
     "cellMetadata": {
      "byteLimit": 2048000,
      "rowLimit": 10000
     },
     "inputWidgets": {},
     "nuid": "62ebf654-c714-4960-87f3-7e4c7a82a7d7",
     "showTitle": false,
     "tableResultSettingsMap": {},
     "title": ""
    }
   },
   "outputs": [
    {
     "output_type": "display_data",
     "data": {
      "text/html": [
       "<style scoped>\n",
       "  .table-result-container {\n",
       "    max-height: 300px;\n",
       "    overflow: auto;\n",
       "  }\n",
       "  table, th, td {\n",
       "    border: 1px solid black;\n",
       "    border-collapse: collapse;\n",
       "  }\n",
       "  th, td {\n",
       "    padding: 5px;\n",
       "  }\n",
       "  th {\n",
       "    text-align: left;\n",
       "  }\n",
       "</style><div class='table-result-container'><table class='table-result'><thead style='background-color: white'><tr><th>Transaction ID</th><th>Customer Name</th><th>Product</th><th>Quantity</th><th>Transaction Date</th><th>Region</th><th>UnitPrice</th></tr></thead><tbody><tr><td>c36c12af-d6ef-485d-b81a-4dfd5016acba</td><td>Darlene House</td><td>Laptop </td><td>10.0</td><td>2024-03-01</td><td>South</td><td>372.0</td></tr><tr><td>6e0af861-fe73-43ff-8611-4eb004720893</td><td>Stuart Barron</td><td>Laptop</td><td>0.0</td><td>04-21-2024</td><td>North</td><td>481</td></tr><tr><td>a359713b-cad7-4e1a-8e9d-312ac06e65d8</td><td>Maureen Lyons</td><td>Tablet </td><td>2.0</td><td>2024-06-03</td><td>East </td><td>490.0</td></tr><tr><td>fed09892-d3e8-492e-a064-2e727579b5ac</td><td>John Lee</td><td>Laptop</td><td>0.0</td><td>04-03-2024</td><td>South</td><td>345</td></tr><tr><td>998d01e2-7be6-4456-9513-954309839c04</td><td>Daniel Walls</td><td>Laptop</td><td>7.0</td><td>09/06/2024</td><td>South </td><td>223</td></tr><tr><td>0c0c249a-20f3-422d-9699-532eee6d8874</td><td>Nicholas Cruz</td><td>Laptop</td><td>1.0</td><td>10-10-2024</td><td>North</td><td>384</td></tr><tr><td>8ec976ad-bd94-4694-983f-8f31d3dd5fbd</td><td>Andrea Morales</td><td>Laptop</td><td>3.0</td><td>24/06/2024</td><td>East </td><td>361</td></tr><tr><td>c8576bd0-0b3c-4d63-b963-67bbcf1674a8</td><td>Ethan Thomas</td><td>Laptop</td><td>0.0</td><td>29/09/2024</td><td>South</td><td>340.0</td></tr><tr><td>b01682d6-8b67-4156-bfee-5142b19ffae7</td><td>Ann Thomas</td><td>Laptop </td><td>1.0</td><td>26/07/2024</td><td>East </td><td>379.0</td></tr><tr><td>dfd452cd-0a75-43d9-91f6-b7f2002af969</td><td>Paul Smith</td><td>Tablet </td><td>0.0</td><td>25/03/2024</td><td>West</td><td>127.0</td></tr><tr><td>e56b692d-0096-4e4c-9145-bcc22a8481b8</td><td>Todd Sandoval</td><td>Laptop</td><td>0.0</td><td>2024-06-08</td><td>North </td><td>246.0</td></tr><tr><td>778154ce-86c4-460b-b3e4-20a065837331</td><td>Colton Cole</td><td>Laptop</td><td>0.0</td><td>06-02-2024</td><td>East</td><td>419</td></tr><tr><td>450bb9ce-5f67-4c9f-9569-9847a97641dd</td><td>Erica Nichols</td><td>Laptop </td><td>0.0</td><td>2024-11-30</td><td>North </td><td>63.0</td></tr><tr><td>ae8ea305-06b2-428e-8bf9-c2c606d07170</td><td>Lisa Fowler</td><td>Laptop </td><td>9.0</td><td>11-11-2024</td><td>North</td><td>295</td></tr><tr><td>34be067d-e014-43a4-a40b-80a88483cf91</td><td>Christy Garcia</td><td>Laptop</td><td>3.0</td><td>2024-10-12</td><td>North </td><td>103</td></tr><tr><td>f116a929-0210-4c4a-818d-6486816b892b</td><td>Monica Lawson</td><td>Tablet</td><td>1.0</td><td>12/06/2024</td><td>North</td><td>496.0</td></tr><tr><td>c0869c82-9d9d-4374-b14a-ca8430def93e</td><td>Brandon Parker</td><td>Laptop</td><td>4.0</td><td>03-21-2024</td><td>North</td><td>140</td></tr><tr><td>a4522c8a-9978-4f6d-946e-61d02b744326</td><td>Katherine Wright</td><td>Tablet </td><td>0.0</td><td>02-29-2024</td><td>North </td><td>364</td></tr><tr><td>6f15509e-ab1a-4d7a-98a4-45ec378a0192</td><td>Erin Snyder</td><td>Laptop</td><td>1.0</td><td>05-16-2024</td><td>West</td><td>248.0</td></tr><tr><td>bb9f3d4f-f4ce-4412-aaf5-fe5420ace73b</td><td>Jessica Huffman</td><td>Laptop</td><td>2.0</td><td>01/03/2024</td><td>West</td><td>105</td></tr><tr><td>ab7e6e8d-3de8-4c6f-a1a8-ce7c900bfbbd</td><td>Johnathan Cain</td><td>Laptop </td><td>4.0</td><td>2024-10-04</td><td>South</td><td>326</td></tr><tr><td>97e5b7d3-01c6-404a-b7f0-425346a2a4f0</td><td>Linda Summers</td><td>Tablet</td><td>9.0</td><td>2024-08-12</td><td>East </td><td>352</td></tr><tr><td>d8212ec3-6e8b-4116-aaf9-525c7ab2bdf4</td><td>Brenda Wolfe</td><td>Laptop</td><td>0.0</td><td>04/08/2024</td><td>North</td><td>271</td></tr><tr><td>6b3482ab-2487-410d-b453-d8370415f78a</td><td>Jacob Kelly</td><td>Tablet</td><td>0.0</td><td>30/09/2024</td><td>East</td><td>327</td></tr><tr><td>8c876e75-efde-4036-a8d4-8af30a45bd3f</td><td>Andrea Taylor</td><td>Laptop </td><td>1.0</td><td>24/09/2024</td><td>South </td><td>121.0</td></tr><tr><td>2a092da0-c13f-4f0e-8e04-464839f0b5d1</td><td>Stephen Smith</td><td>Laptop </td><td>8.0</td><td>11-09-2024</td><td>East </td><td>460</td></tr><tr><td>323ce06c-96b9-4a0f-8d6f-120cb214e828</td><td>Gerald Park</td><td>Tablet</td><td>2.0</td><td>20/02/2024</td><td>West </td><td>291.0</td></tr><tr><td>6c8fd853-a203-4a61-b5c0-2c499ed9edb8</td><td>Christopher Nelson</td><td>Tablet </td><td>8.0</td><td>05-13-2024</td><td>West</td><td>130</td></tr><tr><td>0141fa3c-b04a-4b31-836a-0eef021aad2f</td><td>Thomas Clayton</td><td>Laptop </td><td>3.0</td><td>11-02-2024</td><td>North </td><td>329.0</td></tr><tr><td>4828255e-25ec-41ac-8390-90ac920c32ea</td><td>Danny Lee</td><td>Tablet</td><td>0.0</td><td>2024-11-05</td><td>East </td><td>468</td></tr><tr><td>6dd4873c-d1f7-4910-8833-fbf33b627a45</td><td>Mark Jones</td><td>Laptop</td><td>6.0</td><td>22/05/2024</td><td>East </td><td>349.0</td></tr><tr><td>a82f02c8-6048-4dcb-9693-520bcbbfa4e8</td><td>Vincent Steele Jr.</td><td>Tablet</td><td>7.0</td><td>03-12-2024</td><td>East</td><td>193</td></tr><tr><td>30d33ebd-3e79-47a3-b246-ab3a92fd376b</td><td>Chase Washington</td><td>Laptop</td><td>3.0</td><td>04-05-2024</td><td>South</td><td>415</td></tr><tr><td>003b7acc-d4d4-4385-99cf-5b1a7137bd3e</td><td>Brandon Johnson</td><td>Laptop</td><td>0.0</td><td>23/11/2024</td><td>West </td><td>319</td></tr><tr><td>4895baa8-c634-4250-9c12-ed836fdee69f</td><td>Mary Logan DVM</td><td>Laptop</td><td>7.0</td><td>2024-06-20</td><td>North</td><td>488</td></tr><tr><td>c3ffeecf-3041-4389-8f36-e2754d47d314</td><td>Nicole Dawson</td><td>Tablet</td><td>0.0</td><td>06-27-2024</td><td>East </td><td>246</td></tr><tr><td>fee3e6f8-d80b-4a69-b559-d2c8929c8df4</td><td>Jeffrey Horton</td><td>Tablet</td><td>3.0</td><td>2024-10-09</td><td>North</td><td>287.0</td></tr><tr><td>ea3864be-7b7d-4ad4-b59a-7e1ba2dfe785</td><td>Ryan Simpson</td><td>Tablet</td><td>0.0</td><td>08-28-2024</td><td>North </td><td>92.0</td></tr><tr><td>f4ecb27e-1eeb-41a6-a6a0-c2f5e5fafb0a</td><td>Michael Jones</td><td>Tablet </td><td>8.0</td><td>2024-04-15</td><td>South</td><td>229</td></tr><tr><td>101fa00f-a49e-455b-8e31-1550563078e0</td><td>Paul Hodges</td><td>Laptop </td><td>0.0</td><td>2024-07-05</td><td>East</td><td>371</td></tr><tr><td>87847a11-1711-4f5f-a91e-0454a9ad80f0</td><td>Christopher Curtis</td><td>Laptop</td><td>4.0</td><td>2024-10-15</td><td>East</td><td>389.0</td></tr><tr><td>7ca82747-caef-416f-a07e-abd09b595196</td><td>Cathy Thomas</td><td>Laptop</td><td>0.0</td><td>01-18-2024</td><td>North </td><td>410.0</td></tr><tr><td>9ac77cbe-382f-4a56-9f58-c812f4d24c26</td><td>Amanda Thomas</td><td>Laptop</td><td>1.0</td><td>12/04/2024</td><td>North</td><td>73</td></tr><tr><td>782d80bc-f5c0-42fd-b72c-850795d949af</td><td>Mario Ford</td><td>Laptop</td><td>0.0</td><td>13/03/2024</td><td>East</td><td>499</td></tr><tr><td>80512132-f226-4347-accf-ad7878a16fed</td><td>Edward Bond</td><td>Tablet</td><td>0.0</td><td>17/01/2024</td><td>East</td><td>186</td></tr><tr><td>41b98e56-276e-4b12-a532-7ed77c39aa8d</td><td>Daniel Martinez</td><td>Laptop</td><td>5.0</td><td>02-12-2024</td><td>West</td><td>332</td></tr><tr><td>dcf93957-7886-4f7f-b412-c125d1a662a0</td><td>Sara Ramirez</td><td>Laptop</td><td>0.0</td><td>2024-02-19</td><td>East</td><td>127</td></tr><tr><td>9ced51b7-a0e0-4219-91bb-b6f9f839870d</td><td>Kenneth Ellis</td><td>Laptop</td><td>1.0</td><td>05-17-2024</td><td>West </td><td>393</td></tr><tr><td>bdac9f79-a06c-4e7c-b249-6cc8351d0353</td><td>Mariah Anderson</td><td>Tablet</td><td>5.0</td><td>06-18-2024</td><td>West</td><td>255</td></tr><tr><td>c6f8e471-9fa9-47f8-b7ae-32d24bb45634</td><td>Dalton Austin</td><td>Laptop</td><td>0.0</td><td>23/01/2024</td><td>South </td><td>153</td></tr><tr><td>e0f9d657-b898-4b5a-9481-4a3577ce644a</td><td>Scott Moore</td><td>Laptop </td><td>3.0</td><td>04/11/2024</td><td>West</td><td>409</td></tr><tr><td>5449f262-7965-408a-a9e1-a0caa375d52e</td><td>Stephen Williamson</td><td>Laptop </td><td>1.0</td><td>2024-08-12</td><td>East</td><td>118.0</td></tr><tr><td>3a40ec1e-51a4-4fa8-a126-fb86458235fd</td><td>Kelly Beard</td><td>Laptop</td><td>1.0</td><td>04-01-2024</td><td>North</td><td>67</td></tr><tr><td>7340fc8a-92c4-4490-90a6-52af72ef58e7</td><td>Glen Alvarado</td><td>Laptop</td><td>6.0</td><td>04/03/2024</td><td>West </td><td>61</td></tr><tr><td>9ca5dd2b-5a4e-4143-bcc2-ce2ecb34e9f1</td><td>George Gray</td><td>Laptop </td><td>0.0</td><td>30/04/2024</td><td>North</td><td>130</td></tr><tr><td>03138bf0-8b70-478c-bafe-166c3268162b</td><td>Mrs. Mary Blankenship</td><td>Laptop</td><td>8.0</td><td>26/02/2024</td><td>North</td><td>307</td></tr><tr><td>4829e024-e9e8-4a5b-82de-f9ae5a6f86de</td><td>Sierra Waters</td><td>Laptop </td><td>0.0</td><td>04-15-2024</td><td>East</td><td>273</td></tr><tr><td>0931c839-d9a6-4b51-9715-30a7520a9dbf</td><td>Derek Hernandez</td><td>Laptop</td><td>10.0</td><td>01-31-2024</td><td>North</td><td>327</td></tr><tr><td>7e7ce8e5-feb4-4947-9869-2547ba405574</td><td>Dr. Daniel King DDS</td><td>Laptop</td><td>5.0</td><td>28/08/2024</td><td>West </td><td>107</td></tr><tr><td>bbed0c20-8fe6-4c08-ba10-0464b7567847</td><td>Carl Moore</td><td>Tablet</td><td>0.0</td><td>02/08/2024</td><td>South </td><td>173</td></tr><tr><td>85c68336-9177-4074-939e-a51dec3cb714</td><td>Ryan Harrington</td><td>Tablet</td><td>0.0</td><td>28/07/2024</td><td>East</td><td>131</td></tr><tr><td>0121d08b-b639-4519-9360-8e919b0a739c</td><td>Gina Banks</td><td>Laptop</td><td>4.0</td><td>06/06/2024</td><td>West </td><td>147.0</td></tr><tr><td>5cbca593-e412-4dec-8bed-a2f83774e4f1</td><td>William Travis</td><td>Laptop</td><td>1.0</td><td>2024-02-26</td><td>West</td><td>166</td></tr><tr><td>76e73fcc-4337-4b24-91ca-428d4fa5eb19</td><td>Keith Carter</td><td>Laptop </td><td>5.0</td><td>03-31-2024</td><td>East </td><td>426.0</td></tr><tr><td>9c4ab30a-6374-4b75-b9df-4bfec710c7a6</td><td>Linda Mckinney</td><td>Laptop</td><td>0.0</td><td>22/01/2024</td><td>West </td><td>66.0</td></tr><tr><td>0723cbd9-33d7-4f94-b01b-3289688cec5c</td><td>Betty Anderson</td><td>Tablet</td><td>0.0</td><td>25/01/2024</td><td>North </td><td>254.0</td></tr><tr><td>8a279289-0087-4d74-a8a4-ccd7e8b08add</td><td>John Burke</td><td>Tablet</td><td>0.0</td><td>2024-04-27</td><td>North</td><td>249.0</td></tr><tr><td>bca3b088-9e29-4ab2-a13a-798f54d708c2</td><td>Brandon Short</td><td>Tablet</td><td>3.0</td><td>23/01/2024</td><td>South </td><td>400.0</td></tr><tr><td>94cc574b-0ddd-421f-9662-f47ee1e311ff</td><td>Bryan Hopkins</td><td>Laptop</td><td>0.0</td><td>08-02-2024</td><td>West </td><td>96.0</td></tr><tr><td>d186ae10-b1f0-48f2-a3a9-c9106ebd4eb2</td><td>Kim Cooper</td><td>Tablet</td><td>4.0</td><td>11-18-2024</td><td>West </td><td>89</td></tr><tr><td>7815230e-61da-40ae-abc4-89cf8e8038f5</td><td>Cynthia Rich</td><td>Laptop </td><td>0.0</td><td>2024-04-05</td><td>East</td><td>269.0</td></tr><tr><td>fab86cca-0598-4bca-b229-979d5dfd758e</td><td>Ryan Dunn</td><td>Tablet </td><td>6.0</td><td>07-15-2024</td><td>East</td><td>126.0</td></tr><tr><td>df293035-020d-4df4-9783-109b63ca633b</td><td>Amber Brady</td><td>Laptop </td><td>3.0</td><td>12/06/2024</td><td>North </td><td>320</td></tr><tr><td>1899a1e0-d8da-45b8-8342-651917a172bc</td><td>Kyle Byrd</td><td>Tablet </td><td>3.0</td><td>2024-03-31</td><td>West</td><td>471</td></tr><tr><td>b20e3522-43f7-4ff8-afab-69121d7f18c6</td><td>Dawn Johnston</td><td>Laptop</td><td>0.0</td><td>07-20-2024</td><td>East</td><td>188</td></tr><tr><td>48dd31eb-5282-46a8-a8b2-b447be194134</td><td>Steven Clark</td><td>Laptop </td><td>0.0</td><td>10/05/2024</td><td>South</td><td>162</td></tr><tr><td>3e6ea67d-781d-49f1-98e8-3afd1e7ee078</td><td>Kelsey Murphy</td><td>Laptop</td><td>0.0</td><td>21/04/2024</td><td>East </td><td>293</td></tr><tr><td>14c19ad4-50e9-404b-b1d5-1142be1ad5ff</td><td>Vanessa Mendoza</td><td>Tablet</td><td>3.0</td><td>2024-10-14</td><td>East</td><td>360</td></tr><tr><td>49f9dc43-f703-4de4-a87f-96915db513ed</td><td>Mia Benton</td><td>Laptop</td><td>3.0</td><td>22/05/2024</td><td>East</td><td>200</td></tr><tr><td>004ce647-0b78-406d-a1ed-0172aebbbcf5</td><td>Mr. Jason Good</td><td>Laptop </td><td>0.0</td><td>07/08/2024</td><td>South</td><td>298</td></tr><tr><td>c9ee33b3-9650-48da-be63-5433b922a2eb</td><td>Corey Garner</td><td>Laptop</td><td>7.0</td><td>2024-08-16</td><td>North</td><td>478</td></tr><tr><td>ba0c1ac1-fb71-44b0-a76b-d6b322641f0d</td><td>Brian Cherry</td><td>Laptop </td><td>0.0</td><td>09-15-2024</td><td>South </td><td>475</td></tr><tr><td>5a96d15b-3432-420d-913d-d24d04325be3</td><td>Brett Thompson</td><td>Laptop</td><td>2.0</td><td>2024-09-14</td><td>South </td><td>304.0</td></tr><tr><td>5c46e5bb-198a-4f4d-a22d-6cf066f93ecd</td><td>Chelsey Romero</td><td>Tablet</td><td>1.0</td><td>04-07-2024</td><td>South </td><td>293</td></tr><tr><td>25d7711d-2932-41e1-8679-6d9578666866</td><td>Sara Peters</td><td>Tablet</td><td>0.0</td><td>2024-07-23</td><td>West</td><td>479.0</td></tr><tr><td>076be842-4974-4b14-9263-84e4268aa6bd</td><td>Stephanie Oneill</td><td>Laptop</td><td>4.0</td><td>04-07-2024</td><td>East</td><td>260.0</td></tr><tr><td>f236da6d-84b7-485e-bc62-c491829140ee</td><td>Eric Spears</td><td>Laptop</td><td>0.0</td><td>12/08/2024</td><td>South</td><td>309.0</td></tr><tr><td>5eedd5c2-7b89-455e-bc7c-d77af2f9ba8f</td><td>Courtney Dodson</td><td>Tablet </td><td>5.0</td><td>01-08-2024</td><td>North </td><td>468.0</td></tr><tr><td>a84f24a8-ff1e-4fd1-88ac-ffecd292cf80</td><td>Raymond Smith</td><td>Laptop</td><td>4.0</td><td>14/07/2024</td><td>East</td><td>300.0</td></tr><tr><td>99022f4f-30f0-4530-8585-266c45fbb4ad</td><td>Michelle Obrien</td><td>Laptop</td><td>0.0</td><td>15/01/2024</td><td>North </td><td>373.0</td></tr><tr><td>b32c4ed2-5830-4085-b60e-41a042bb9a82</td><td>John Johnson</td><td>Laptop</td><td>4.0</td><td>2024-10-03</td><td>North</td><td>173.0</td></tr><tr><td>e434087a-6f97-4cef-8871-2974eb6b5476</td><td>Marisa Patton</td><td>Tablet</td><td>1.0</td><td>2024-04-28</td><td>North</td><td>407</td></tr><tr><td>7baec9cf-9e41-4aa1-9a73-1ea9260c92c7</td><td>Justin Mcdowell</td><td>Laptop</td><td>0.0</td><td>25/03/2024</td><td>South</td><td>251</td></tr><tr><td>4c41f044-2f2a-42c2-ae42-36206f3db711</td><td>David Beck</td><td>Laptop </td><td>10.0</td><td>2024-05-01</td><td>East </td><td>493</td></tr><tr><td>a1c624cd-d425-4fb6-815b-78ae389a69e2</td><td>Sandra Davis</td><td>Laptop </td><td>10.0</td><td>29/05/2024</td><td>West </td><td>379</td></tr><tr><td>4c52508a-694b-4a01-a4a3-0d85f036cb5f</td><td>Lauren Johnson</td><td>Tablet</td><td>0.0</td><td>05-31-2024</td><td>West</td><td>344</td></tr><tr><td>1bc46a84-7564-4380-ab1d-832d7a371ef4</td><td>Jordan Coleman</td><td>Laptop</td><td>0.0</td><td>06-05-2024</td><td>North</td><td>346</td></tr><tr><td>e6eb5efe-e0d7-4f8a-928f-94a17c1bb735</td><td>Cynthia Poole</td><td>Laptop</td><td>1.0</td><td>10/07/2024</td><td>East</td><td>110</td></tr><tr><td>7c46af09-ff18-456d-8d04-7cc1582639ba</td><td>Brady Sosa</td><td>Laptop</td><td>2.0</td><td>14/04/2024</td><td>North </td><td>304</td></tr><tr><td>48c80378-9576-42bb-8c58-79a9b13e01bd</td><td>Michael Kelly</td><td>Tablet </td><td>0.0</td><td>2024-03-11</td><td>North </td><td>154</td></tr></tbody></table></div>"
      ]
     },
     "metadata": {
      "application/vnd.databricks.v1+output": {
       "addedWidgets": {},
       "aggData": [],
       "aggError": "",
       "aggOverflow": false,
       "aggSchema": [],
       "aggSeriesLimitReached": false,
       "aggType": "",
       "arguments": {},
       "columnCustomDisplayInfos": {},
       "data": [
        [
         "c36c12af-d6ef-485d-b81a-4dfd5016acba",
         "Darlene House",
         "Laptop ",
         10.0,
         "2024-03-01",
         "South",
         "372.0"
        ],
        [
         "6e0af861-fe73-43ff-8611-4eb004720893",
         "Stuart Barron",
         "Laptop",
         0.0,
         "04-21-2024",
         "North",
         "481"
        ],
        [
         "a359713b-cad7-4e1a-8e9d-312ac06e65d8",
         "Maureen Lyons",
         "Tablet ",
         2.0,
         "2024-06-03",
         "East ",
         "490.0"
        ],
        [
         "fed09892-d3e8-492e-a064-2e727579b5ac",
         "John Lee",
         "Laptop",
         0.0,
         "04-03-2024",
         "South",
         "345"
        ],
        [
         "998d01e2-7be6-4456-9513-954309839c04",
         "Daniel Walls",
         "Laptop",
         7.0,
         "09/06/2024",
         "South ",
         "223"
        ],
        [
         "0c0c249a-20f3-422d-9699-532eee6d8874",
         "Nicholas Cruz",
         "Laptop",
         1.0,
         "10-10-2024",
         "North",
         "384"
        ],
        [
         "8ec976ad-bd94-4694-983f-8f31d3dd5fbd",
         "Andrea Morales",
         "Laptop",
         3.0,
         "24/06/2024",
         "East ",
         "361"
        ],
        [
         "c8576bd0-0b3c-4d63-b963-67bbcf1674a8",
         "Ethan Thomas",
         "Laptop",
         0.0,
         "29/09/2024",
         "South",
         "340.0"
        ],
        [
         "b01682d6-8b67-4156-bfee-5142b19ffae7",
         "Ann Thomas",
         "Laptop ",
         1.0,
         "26/07/2024",
         "East ",
         "379.0"
        ],
        [
         "dfd452cd-0a75-43d9-91f6-b7f2002af969",
         "Paul Smith",
         "Tablet ",
         0.0,
         "25/03/2024",
         "West",
         "127.0"
        ],
        [
         "e56b692d-0096-4e4c-9145-bcc22a8481b8",
         "Todd Sandoval",
         "Laptop",
         0.0,
         "2024-06-08",
         "North ",
         "246.0"
        ],
        [
         "778154ce-86c4-460b-b3e4-20a065837331",
         "Colton Cole",
         "Laptop",
         0.0,
         "06-02-2024",
         "East",
         "419"
        ],
        [
         "450bb9ce-5f67-4c9f-9569-9847a97641dd",
         "Erica Nichols",
         "Laptop ",
         0.0,
         "2024-11-30",
         "North ",
         "63.0"
        ],
        [
         "ae8ea305-06b2-428e-8bf9-c2c606d07170",
         "Lisa Fowler",
         "Laptop ",
         9.0,
         "11-11-2024",
         "North",
         "295"
        ],
        [
         "34be067d-e014-43a4-a40b-80a88483cf91",
         "Christy Garcia",
         "Laptop",
         3.0,
         "2024-10-12",
         "North ",
         "103"
        ],
        [
         "f116a929-0210-4c4a-818d-6486816b892b",
         "Monica Lawson",
         "Tablet",
         1.0,
         "12/06/2024",
         "North",
         "496.0"
        ],
        [
         "c0869c82-9d9d-4374-b14a-ca8430def93e",
         "Brandon Parker",
         "Laptop",
         4.0,
         "03-21-2024",
         "North",
         "140"
        ],
        [
         "a4522c8a-9978-4f6d-946e-61d02b744326",
         "Katherine Wright",
         "Tablet ",
         0.0,
         "02-29-2024",
         "North ",
         "364"
        ],
        [
         "6f15509e-ab1a-4d7a-98a4-45ec378a0192",
         "Erin Snyder",
         "Laptop",
         1.0,
         "05-16-2024",
         "West",
         "248.0"
        ],
        [
         "bb9f3d4f-f4ce-4412-aaf5-fe5420ace73b",
         "Jessica Huffman",
         "Laptop",
         2.0,
         "01/03/2024",
         "West",
         "105"
        ],
        [
         "ab7e6e8d-3de8-4c6f-a1a8-ce7c900bfbbd",
         "Johnathan Cain",
         "Laptop ",
         4.0,
         "2024-10-04",
         "South",
         "326"
        ],
        [
         "97e5b7d3-01c6-404a-b7f0-425346a2a4f0",
         "Linda Summers",
         "Tablet",
         9.0,
         "2024-08-12",
         "East ",
         "352"
        ],
        [
         "d8212ec3-6e8b-4116-aaf9-525c7ab2bdf4",
         "Brenda Wolfe",
         "Laptop",
         0.0,
         "04/08/2024",
         "North",
         "271"
        ],
        [
         "6b3482ab-2487-410d-b453-d8370415f78a",
         "Jacob Kelly",
         "Tablet",
         0.0,
         "30/09/2024",
         "East",
         "327"
        ],
        [
         "8c876e75-efde-4036-a8d4-8af30a45bd3f",
         "Andrea Taylor",
         "Laptop ",
         1.0,
         "24/09/2024",
         "South ",
         "121.0"
        ],
        [
         "2a092da0-c13f-4f0e-8e04-464839f0b5d1",
         "Stephen Smith",
         "Laptop ",
         8.0,
         "11-09-2024",
         "East ",
         "460"
        ],
        [
         "323ce06c-96b9-4a0f-8d6f-120cb214e828",
         "Gerald Park",
         "Tablet",
         2.0,
         "20/02/2024",
         "West ",
         "291.0"
        ],
        [
         "6c8fd853-a203-4a61-b5c0-2c499ed9edb8",
         "Christopher Nelson",
         "Tablet ",
         8.0,
         "05-13-2024",
         "West",
         "130"
        ],
        [
         "0141fa3c-b04a-4b31-836a-0eef021aad2f",
         "Thomas Clayton",
         "Laptop ",
         3.0,
         "11-02-2024",
         "North ",
         "329.0"
        ],
        [
         "4828255e-25ec-41ac-8390-90ac920c32ea",
         "Danny Lee",
         "Tablet",
         0.0,
         "2024-11-05",
         "East ",
         "468"
        ],
        [
         "6dd4873c-d1f7-4910-8833-fbf33b627a45",
         "Mark Jones",
         "Laptop",
         6.0,
         "22/05/2024",
         "East ",
         "349.0"
        ],
        [
         "a82f02c8-6048-4dcb-9693-520bcbbfa4e8",
         "Vincent Steele Jr.",
         "Tablet",
         7.0,
         "03-12-2024",
         "East",
         "193"
        ],
        [
         "30d33ebd-3e79-47a3-b246-ab3a92fd376b",
         "Chase Washington",
         "Laptop",
         3.0,
         "04-05-2024",
         "South",
         "415"
        ],
        [
         "003b7acc-d4d4-4385-99cf-5b1a7137bd3e",
         "Brandon Johnson",
         "Laptop",
         0.0,
         "23/11/2024",
         "West ",
         "319"
        ],
        [
         "4895baa8-c634-4250-9c12-ed836fdee69f",
         "Mary Logan DVM",
         "Laptop",
         7.0,
         "2024-06-20",
         "North",
         "488"
        ],
        [
         "c3ffeecf-3041-4389-8f36-e2754d47d314",
         "Nicole Dawson",
         "Tablet",
         0.0,
         "06-27-2024",
         "East ",
         "246"
        ],
        [
         "fee3e6f8-d80b-4a69-b559-d2c8929c8df4",
         "Jeffrey Horton",
         "Tablet",
         3.0,
         "2024-10-09",
         "North",
         "287.0"
        ],
        [
         "ea3864be-7b7d-4ad4-b59a-7e1ba2dfe785",
         "Ryan Simpson",
         "Tablet",
         0.0,
         "08-28-2024",
         "North ",
         "92.0"
        ],
        [
         "f4ecb27e-1eeb-41a6-a6a0-c2f5e5fafb0a",
         "Michael Jones",
         "Tablet ",
         8.0,
         "2024-04-15",
         "South",
         "229"
        ],
        [
         "101fa00f-a49e-455b-8e31-1550563078e0",
         "Paul Hodges",
         "Laptop ",
         0.0,
         "2024-07-05",
         "East",
         "371"
        ],
        [
         "87847a11-1711-4f5f-a91e-0454a9ad80f0",
         "Christopher Curtis",
         "Laptop",
         4.0,
         "2024-10-15",
         "East",
         "389.0"
        ],
        [
         "7ca82747-caef-416f-a07e-abd09b595196",
         "Cathy Thomas",
         "Laptop",
         0.0,
         "01-18-2024",
         "North ",
         "410.0"
        ],
        [
         "9ac77cbe-382f-4a56-9f58-c812f4d24c26",
         "Amanda Thomas",
         "Laptop",
         1.0,
         "12/04/2024",
         "North",
         "73"
        ],
        [
         "782d80bc-f5c0-42fd-b72c-850795d949af",
         "Mario Ford",
         "Laptop",
         0.0,
         "13/03/2024",
         "East",
         "499"
        ],
        [
         "80512132-f226-4347-accf-ad7878a16fed",
         "Edward Bond",
         "Tablet",
         0.0,
         "17/01/2024",
         "East",
         "186"
        ],
        [
         "41b98e56-276e-4b12-a532-7ed77c39aa8d",
         "Daniel Martinez",
         "Laptop",
         5.0,
         "02-12-2024",
         "West",
         "332"
        ],
        [
         "dcf93957-7886-4f7f-b412-c125d1a662a0",
         "Sara Ramirez",
         "Laptop",
         0.0,
         "2024-02-19",
         "East",
         "127"
        ],
        [
         "9ced51b7-a0e0-4219-91bb-b6f9f839870d",
         "Kenneth Ellis",
         "Laptop",
         1.0,
         "05-17-2024",
         "West ",
         "393"
        ],
        [
         "bdac9f79-a06c-4e7c-b249-6cc8351d0353",
         "Mariah Anderson",
         "Tablet",
         5.0,
         "06-18-2024",
         "West",
         "255"
        ],
        [
         "c6f8e471-9fa9-47f8-b7ae-32d24bb45634",
         "Dalton Austin",
         "Laptop",
         0.0,
         "23/01/2024",
         "South ",
         "153"
        ],
        [
         "e0f9d657-b898-4b5a-9481-4a3577ce644a",
         "Scott Moore",
         "Laptop ",
         3.0,
         "04/11/2024",
         "West",
         "409"
        ],
        [
         "5449f262-7965-408a-a9e1-a0caa375d52e",
         "Stephen Williamson",
         "Laptop ",
         1.0,
         "2024-08-12",
         "East",
         "118.0"
        ],
        [
         "3a40ec1e-51a4-4fa8-a126-fb86458235fd",
         "Kelly Beard",
         "Laptop",
         1.0,
         "04-01-2024",
         "North",
         "67"
        ],
        [
         "7340fc8a-92c4-4490-90a6-52af72ef58e7",
         "Glen Alvarado",
         "Laptop",
         6.0,
         "04/03/2024",
         "West ",
         "61"
        ],
        [
         "9ca5dd2b-5a4e-4143-bcc2-ce2ecb34e9f1",
         "George Gray",
         "Laptop ",
         0.0,
         "30/04/2024",
         "North",
         "130"
        ],
        [
         "03138bf0-8b70-478c-bafe-166c3268162b",
         "Mrs. Mary Blankenship",
         "Laptop",
         8.0,
         "26/02/2024",
         "North",
         "307"
        ],
        [
         "4829e024-e9e8-4a5b-82de-f9ae5a6f86de",
         "Sierra Waters",
         "Laptop ",
         0.0,
         "04-15-2024",
         "East",
         "273"
        ],
        [
         "0931c839-d9a6-4b51-9715-30a7520a9dbf",
         "Derek Hernandez",
         "Laptop",
         10.0,
         "01-31-2024",
         "North",
         "327"
        ],
        [
         "7e7ce8e5-feb4-4947-9869-2547ba405574",
         "Dr. Daniel King DDS",
         "Laptop",
         5.0,
         "28/08/2024",
         "West ",
         "107"
        ],
        [
         "bbed0c20-8fe6-4c08-ba10-0464b7567847",
         "Carl Moore",
         "Tablet",
         0.0,
         "02/08/2024",
         "South ",
         "173"
        ],
        [
         "85c68336-9177-4074-939e-a51dec3cb714",
         "Ryan Harrington",
         "Tablet",
         0.0,
         "28/07/2024",
         "East",
         "131"
        ],
        [
         "0121d08b-b639-4519-9360-8e919b0a739c",
         "Gina Banks",
         "Laptop",
         4.0,
         "06/06/2024",
         "West ",
         "147.0"
        ],
        [
         "5cbca593-e412-4dec-8bed-a2f83774e4f1",
         "William Travis",
         "Laptop",
         1.0,
         "2024-02-26",
         "West",
         "166"
        ],
        [
         "76e73fcc-4337-4b24-91ca-428d4fa5eb19",
         "Keith Carter",
         "Laptop ",
         5.0,
         "03-31-2024",
         "East ",
         "426.0"
        ],
        [
         "9c4ab30a-6374-4b75-b9df-4bfec710c7a6",
         "Linda Mckinney",
         "Laptop",
         0.0,
         "22/01/2024",
         "West ",
         "66.0"
        ],
        [
         "0723cbd9-33d7-4f94-b01b-3289688cec5c",
         "Betty Anderson",
         "Tablet",
         0.0,
         "25/01/2024",
         "North ",
         "254.0"
        ],
        [
         "8a279289-0087-4d74-a8a4-ccd7e8b08add",
         "John Burke",
         "Tablet",
         0.0,
         "2024-04-27",
         "North",
         "249.0"
        ],
        [
         "bca3b088-9e29-4ab2-a13a-798f54d708c2",
         "Brandon Short",
         "Tablet",
         3.0,
         "23/01/2024",
         "South ",
         "400.0"
        ],
        [
         "94cc574b-0ddd-421f-9662-f47ee1e311ff",
         "Bryan Hopkins",
         "Laptop",
         0.0,
         "08-02-2024",
         "West ",
         "96.0"
        ],
        [
         "d186ae10-b1f0-48f2-a3a9-c9106ebd4eb2",
         "Kim Cooper",
         "Tablet",
         4.0,
         "11-18-2024",
         "West ",
         "89"
        ],
        [
         "7815230e-61da-40ae-abc4-89cf8e8038f5",
         "Cynthia Rich",
         "Laptop ",
         0.0,
         "2024-04-05",
         "East",
         "269.0"
        ],
        [
         "fab86cca-0598-4bca-b229-979d5dfd758e",
         "Ryan Dunn",
         "Tablet ",
         6.0,
         "07-15-2024",
         "East",
         "126.0"
        ],
        [
         "df293035-020d-4df4-9783-109b63ca633b",
         "Amber Brady",
         "Laptop ",
         3.0,
         "12/06/2024",
         "North ",
         "320"
        ],
        [
         "1899a1e0-d8da-45b8-8342-651917a172bc",
         "Kyle Byrd",
         "Tablet ",
         3.0,
         "2024-03-31",
         "West",
         "471"
        ],
        [
         "b20e3522-43f7-4ff8-afab-69121d7f18c6",
         "Dawn Johnston",
         "Laptop",
         0.0,
         "07-20-2024",
         "East",
         "188"
        ],
        [
         "48dd31eb-5282-46a8-a8b2-b447be194134",
         "Steven Clark",
         "Laptop ",
         0.0,
         "10/05/2024",
         "South",
         "162"
        ],
        [
         "3e6ea67d-781d-49f1-98e8-3afd1e7ee078",
         "Kelsey Murphy",
         "Laptop",
         0.0,
         "21/04/2024",
         "East ",
         "293"
        ],
        [
         "14c19ad4-50e9-404b-b1d5-1142be1ad5ff",
         "Vanessa Mendoza",
         "Tablet",
         3.0,
         "2024-10-14",
         "East",
         "360"
        ],
        [
         "49f9dc43-f703-4de4-a87f-96915db513ed",
         "Mia Benton",
         "Laptop",
         3.0,
         "22/05/2024",
         "East",
         "200"
        ],
        [
         "004ce647-0b78-406d-a1ed-0172aebbbcf5",
         "Mr. Jason Good",
         "Laptop ",
         0.0,
         "07/08/2024",
         "South",
         "298"
        ],
        [
         "c9ee33b3-9650-48da-be63-5433b922a2eb",
         "Corey Garner",
         "Laptop",
         7.0,
         "2024-08-16",
         "North",
         "478"
        ],
        [
         "ba0c1ac1-fb71-44b0-a76b-d6b322641f0d",
         "Brian Cherry",
         "Laptop ",
         0.0,
         "09-15-2024",
         "South ",
         "475"
        ],
        [
         "5a96d15b-3432-420d-913d-d24d04325be3",
         "Brett Thompson",
         "Laptop",
         2.0,
         "2024-09-14",
         "South ",
         "304.0"
        ],
        [
         "5c46e5bb-198a-4f4d-a22d-6cf066f93ecd",
         "Chelsey Romero",
         "Tablet",
         1.0,
         "04-07-2024",
         "South ",
         "293"
        ],
        [
         "25d7711d-2932-41e1-8679-6d9578666866",
         "Sara Peters",
         "Tablet",
         0.0,
         "2024-07-23",
         "West",
         "479.0"
        ],
        [
         "076be842-4974-4b14-9263-84e4268aa6bd",
         "Stephanie Oneill",
         "Laptop",
         4.0,
         "04-07-2024",
         "East",
         "260.0"
        ],
        [
         "f236da6d-84b7-485e-bc62-c491829140ee",
         "Eric Spears",
         "Laptop",
         0.0,
         "12/08/2024",
         "South",
         "309.0"
        ],
        [
         "5eedd5c2-7b89-455e-bc7c-d77af2f9ba8f",
         "Courtney Dodson",
         "Tablet ",
         5.0,
         "01-08-2024",
         "North ",
         "468.0"
        ],
        [
         "a84f24a8-ff1e-4fd1-88ac-ffecd292cf80",
         "Raymond Smith",
         "Laptop",
         4.0,
         "14/07/2024",
         "East",
         "300.0"
        ],
        [
         "99022f4f-30f0-4530-8585-266c45fbb4ad",
         "Michelle Obrien",
         "Laptop",
         0.0,
         "15/01/2024",
         "North ",
         "373.0"
        ],
        [
         "b32c4ed2-5830-4085-b60e-41a042bb9a82",
         "John Johnson",
         "Laptop",
         4.0,
         "2024-10-03",
         "North",
         "173.0"
        ],
        [
         "e434087a-6f97-4cef-8871-2974eb6b5476",
         "Marisa Patton",
         "Tablet",
         1.0,
         "2024-04-28",
         "North",
         "407"
        ],
        [
         "7baec9cf-9e41-4aa1-9a73-1ea9260c92c7",
         "Justin Mcdowell",
         "Laptop",
         0.0,
         "25/03/2024",
         "South",
         "251"
        ],
        [
         "4c41f044-2f2a-42c2-ae42-36206f3db711",
         "David Beck",
         "Laptop ",
         10.0,
         "2024-05-01",
         "East ",
         "493"
        ],
        [
         "a1c624cd-d425-4fb6-815b-78ae389a69e2",
         "Sandra Davis",
         "Laptop ",
         10.0,
         "29/05/2024",
         "West ",
         "379"
        ],
        [
         "4c52508a-694b-4a01-a4a3-0d85f036cb5f",
         "Lauren Johnson",
         "Tablet",
         0.0,
         "05-31-2024",
         "West",
         "344"
        ],
        [
         "1bc46a84-7564-4380-ab1d-832d7a371ef4",
         "Jordan Coleman",
         "Laptop",
         0.0,
         "06-05-2024",
         "North",
         "346"
        ],
        [
         "e6eb5efe-e0d7-4f8a-928f-94a17c1bb735",
         "Cynthia Poole",
         "Laptop",
         1.0,
         "10/07/2024",
         "East",
         "110"
        ],
        [
         "7c46af09-ff18-456d-8d04-7cc1582639ba",
         "Brady Sosa",
         "Laptop",
         2.0,
         "14/04/2024",
         "North ",
         "304"
        ],
        [
         "48c80378-9576-42bb-8c58-79a9b13e01bd",
         "Michael Kelly",
         "Tablet ",
         0.0,
         "2024-03-11",
         "North ",
         "154"
        ]
       ],
       "datasetInfos": [],
       "dbfsResultPath": null,
       "isJsonSchema": true,
       "metadata": {},
       "overflow": false,
       "plotOptions": {
        "customPlotOptions": {},
        "displayType": "table",
        "pivotAggregation": null,
        "pivotColumns": null,
        "xColumns": null,
        "yColumns": null
       },
       "removedWidgets": [],
       "schema": [
        {
         "metadata": "{}",
         "name": "Transaction ID",
         "type": "\"string\""
        },
        {
         "metadata": "{}",
         "name": "Customer Name",
         "type": "\"string\""
        },
        {
         "metadata": "{}",
         "name": "Product",
         "type": "\"string\""
        },
        {
         "metadata": "{}",
         "name": "Quantity",
         "type": "\"double\""
        },
        {
         "metadata": "{}",
         "name": "Transaction Date",
         "type": "\"string\""
        },
        {
         "metadata": "{}",
         "name": "Region",
         "type": "\"string\""
        },
        {
         "metadata": "{}",
         "name": "UnitPrice",
         "type": "\"string\""
        }
       ],
       "type": "table"
      }
     },
     "output_type": "display_data"
    }
   ],
   "source": [
    "from pyspark.sql import SparkSession\n",
    "from pyspark.sql.functions import regexp_replace, col\n",
    "\n",
    "df=df.withColumn(\"UnitPrice\",regexp_replace(col(\"Price Per Unit\"), r\"\\$\", \"\"))\n",
    "df = df.drop(\"Price Per Unit\")\n",
    "display(df)\n"
   ]
  },
  {
   "cell_type": "code",
   "execution_count": 0,
   "metadata": {
    "application/vnd.databricks.v1+cell": {
     "cellMetadata": {
      "byteLimit": 2048000,
      "rowLimit": 10000
     },
     "inputWidgets": {},
     "nuid": "fa95a518-e47e-43d7-9136-810fa67f54e5",
     "showTitle": false,
     "tableResultSettingsMap": {},
     "title": ""
    }
   },
   "outputs": [
    {
     "output_type": "display_data",
     "data": {
      "text/html": [
       "<style scoped>\n",
       "  .table-result-container {\n",
       "    max-height: 300px;\n",
       "    overflow: auto;\n",
       "  }\n",
       "  table, th, td {\n",
       "    border: 1px solid black;\n",
       "    border-collapse: collapse;\n",
       "  }\n",
       "  th, td {\n",
       "    padding: 5px;\n",
       "  }\n",
       "  th {\n",
       "    text-align: left;\n",
       "  }\n",
       "</style><div class='table-result-container'><table class='table-result'><thead style='background-color: white'><tr><th>Transaction ID</th><th>Customer Name</th><th>Product</th><th>Quantity</th><th>Region</th><th>UnitPrice</th><th>TransactionDate</th></tr></thead><tbody><tr><td>c36c12af-d6ef-485d-b81a-4dfd5016acba</td><td>Darlene House</td><td>Laptop </td><td>10.0</td><td>South</td><td>372.0</td><td>2024-03-01</td></tr><tr><td>6e0af861-fe73-43ff-8611-4eb004720893</td><td>Stuart Barron</td><td>Laptop</td><td>0.0</td><td>North</td><td>481</td><td>2024-04-21</td></tr><tr><td>a359713b-cad7-4e1a-8e9d-312ac06e65d8</td><td>Maureen Lyons</td><td>Tablet </td><td>2.0</td><td>East </td><td>490.0</td><td>2024-06-03</td></tr><tr><td>fed09892-d3e8-492e-a064-2e727579b5ac</td><td>John Lee</td><td>Laptop</td><td>0.0</td><td>South</td><td>345</td><td>2024-04-03</td></tr><tr><td>998d01e2-7be6-4456-9513-954309839c04</td><td>Daniel Walls</td><td>Laptop</td><td>7.0</td><td>South </td><td>223</td><td>2024-06-09</td></tr><tr><td>0c0c249a-20f3-422d-9699-532eee6d8874</td><td>Nicholas Cruz</td><td>Laptop</td><td>1.0</td><td>North</td><td>384</td><td>2024-10-10</td></tr><tr><td>8ec976ad-bd94-4694-983f-8f31d3dd5fbd</td><td>Andrea Morales</td><td>Laptop</td><td>3.0</td><td>East </td><td>361</td><td>2024-06-24</td></tr><tr><td>c8576bd0-0b3c-4d63-b963-67bbcf1674a8</td><td>Ethan Thomas</td><td>Laptop</td><td>0.0</td><td>South</td><td>340.0</td><td>2024-09-29</td></tr><tr><td>b01682d6-8b67-4156-bfee-5142b19ffae7</td><td>Ann Thomas</td><td>Laptop </td><td>1.0</td><td>East </td><td>379.0</td><td>2024-07-26</td></tr><tr><td>dfd452cd-0a75-43d9-91f6-b7f2002af969</td><td>Paul Smith</td><td>Tablet </td><td>0.0</td><td>West</td><td>127.0</td><td>2024-03-25</td></tr><tr><td>e56b692d-0096-4e4c-9145-bcc22a8481b8</td><td>Todd Sandoval</td><td>Laptop</td><td>0.0</td><td>North </td><td>246.0</td><td>2024-06-08</td></tr><tr><td>778154ce-86c4-460b-b3e4-20a065837331</td><td>Colton Cole</td><td>Laptop</td><td>0.0</td><td>East</td><td>419</td><td>2024-06-02</td></tr><tr><td>450bb9ce-5f67-4c9f-9569-9847a97641dd</td><td>Erica Nichols</td><td>Laptop </td><td>0.0</td><td>North </td><td>63.0</td><td>2024-11-30</td></tr><tr><td>ae8ea305-06b2-428e-8bf9-c2c606d07170</td><td>Lisa Fowler</td><td>Laptop </td><td>9.0</td><td>North</td><td>295</td><td>2024-11-11</td></tr><tr><td>34be067d-e014-43a4-a40b-80a88483cf91</td><td>Christy Garcia</td><td>Laptop</td><td>3.0</td><td>North </td><td>103</td><td>2024-10-12</td></tr><tr><td>f116a929-0210-4c4a-818d-6486816b892b</td><td>Monica Lawson</td><td>Tablet</td><td>1.0</td><td>North</td><td>496.0</td><td>2024-06-12</td></tr><tr><td>c0869c82-9d9d-4374-b14a-ca8430def93e</td><td>Brandon Parker</td><td>Laptop</td><td>4.0</td><td>North</td><td>140</td><td>2024-03-21</td></tr><tr><td>a4522c8a-9978-4f6d-946e-61d02b744326</td><td>Katherine Wright</td><td>Tablet </td><td>0.0</td><td>North </td><td>364</td><td>2024-02-29</td></tr><tr><td>6f15509e-ab1a-4d7a-98a4-45ec378a0192</td><td>Erin Snyder</td><td>Laptop</td><td>1.0</td><td>West</td><td>248.0</td><td>2024-05-16</td></tr><tr><td>bb9f3d4f-f4ce-4412-aaf5-fe5420ace73b</td><td>Jessica Huffman</td><td>Laptop</td><td>2.0</td><td>West</td><td>105</td><td>2024-03-01</td></tr><tr><td>ab7e6e8d-3de8-4c6f-a1a8-ce7c900bfbbd</td><td>Johnathan Cain</td><td>Laptop </td><td>4.0</td><td>South</td><td>326</td><td>2024-10-04</td></tr><tr><td>97e5b7d3-01c6-404a-b7f0-425346a2a4f0</td><td>Linda Summers</td><td>Tablet</td><td>9.0</td><td>East </td><td>352</td><td>2024-08-12</td></tr><tr><td>d8212ec3-6e8b-4116-aaf9-525c7ab2bdf4</td><td>Brenda Wolfe</td><td>Laptop</td><td>0.0</td><td>North</td><td>271</td><td>2024-08-04</td></tr><tr><td>6b3482ab-2487-410d-b453-d8370415f78a</td><td>Jacob Kelly</td><td>Tablet</td><td>0.0</td><td>East</td><td>327</td><td>2024-09-30</td></tr><tr><td>8c876e75-efde-4036-a8d4-8af30a45bd3f</td><td>Andrea Taylor</td><td>Laptop </td><td>1.0</td><td>South </td><td>121.0</td><td>2024-09-24</td></tr><tr><td>2a092da0-c13f-4f0e-8e04-464839f0b5d1</td><td>Stephen Smith</td><td>Laptop </td><td>8.0</td><td>East </td><td>460</td><td>2024-11-09</td></tr><tr><td>323ce06c-96b9-4a0f-8d6f-120cb214e828</td><td>Gerald Park</td><td>Tablet</td><td>2.0</td><td>West </td><td>291.0</td><td>2024-02-20</td></tr><tr><td>6c8fd853-a203-4a61-b5c0-2c499ed9edb8</td><td>Christopher Nelson</td><td>Tablet </td><td>8.0</td><td>West</td><td>130</td><td>2024-05-13</td></tr><tr><td>0141fa3c-b04a-4b31-836a-0eef021aad2f</td><td>Thomas Clayton</td><td>Laptop </td><td>3.0</td><td>North </td><td>329.0</td><td>2024-11-02</td></tr><tr><td>4828255e-25ec-41ac-8390-90ac920c32ea</td><td>Danny Lee</td><td>Tablet</td><td>0.0</td><td>East </td><td>468</td><td>2024-11-05</td></tr><tr><td>6dd4873c-d1f7-4910-8833-fbf33b627a45</td><td>Mark Jones</td><td>Laptop</td><td>6.0</td><td>East </td><td>349.0</td><td>2024-05-22</td></tr><tr><td>a82f02c8-6048-4dcb-9693-520bcbbfa4e8</td><td>Vincent Steele Jr.</td><td>Tablet</td><td>7.0</td><td>East</td><td>193</td><td>2024-03-12</td></tr><tr><td>30d33ebd-3e79-47a3-b246-ab3a92fd376b</td><td>Chase Washington</td><td>Laptop</td><td>3.0</td><td>South</td><td>415</td><td>2024-04-05</td></tr><tr><td>003b7acc-d4d4-4385-99cf-5b1a7137bd3e</td><td>Brandon Johnson</td><td>Laptop</td><td>0.0</td><td>West </td><td>319</td><td>2024-11-23</td></tr><tr><td>4895baa8-c634-4250-9c12-ed836fdee69f</td><td>Mary Logan DVM</td><td>Laptop</td><td>7.0</td><td>North</td><td>488</td><td>2024-06-20</td></tr><tr><td>c3ffeecf-3041-4389-8f36-e2754d47d314</td><td>Nicole Dawson</td><td>Tablet</td><td>0.0</td><td>East </td><td>246</td><td>2024-06-27</td></tr><tr><td>fee3e6f8-d80b-4a69-b559-d2c8929c8df4</td><td>Jeffrey Horton</td><td>Tablet</td><td>3.0</td><td>North</td><td>287.0</td><td>2024-10-09</td></tr><tr><td>ea3864be-7b7d-4ad4-b59a-7e1ba2dfe785</td><td>Ryan Simpson</td><td>Tablet</td><td>0.0</td><td>North </td><td>92.0</td><td>2024-08-28</td></tr><tr><td>f4ecb27e-1eeb-41a6-a6a0-c2f5e5fafb0a</td><td>Michael Jones</td><td>Tablet </td><td>8.0</td><td>South</td><td>229</td><td>2024-04-15</td></tr><tr><td>101fa00f-a49e-455b-8e31-1550563078e0</td><td>Paul Hodges</td><td>Laptop </td><td>0.0</td><td>East</td><td>371</td><td>2024-07-05</td></tr><tr><td>87847a11-1711-4f5f-a91e-0454a9ad80f0</td><td>Christopher Curtis</td><td>Laptop</td><td>4.0</td><td>East</td><td>389.0</td><td>2024-10-15</td></tr><tr><td>7ca82747-caef-416f-a07e-abd09b595196</td><td>Cathy Thomas</td><td>Laptop</td><td>0.0</td><td>North </td><td>410.0</td><td>2024-01-18</td></tr><tr><td>9ac77cbe-382f-4a56-9f58-c812f4d24c26</td><td>Amanda Thomas</td><td>Laptop</td><td>1.0</td><td>North</td><td>73</td><td>2024-04-12</td></tr><tr><td>782d80bc-f5c0-42fd-b72c-850795d949af</td><td>Mario Ford</td><td>Laptop</td><td>0.0</td><td>East</td><td>499</td><td>2024-03-13</td></tr><tr><td>80512132-f226-4347-accf-ad7878a16fed</td><td>Edward Bond</td><td>Tablet</td><td>0.0</td><td>East</td><td>186</td><td>2024-01-17</td></tr><tr><td>41b98e56-276e-4b12-a532-7ed77c39aa8d</td><td>Daniel Martinez</td><td>Laptop</td><td>5.0</td><td>West</td><td>332</td><td>2024-02-12</td></tr><tr><td>dcf93957-7886-4f7f-b412-c125d1a662a0</td><td>Sara Ramirez</td><td>Laptop</td><td>0.0</td><td>East</td><td>127</td><td>2024-02-19</td></tr><tr><td>9ced51b7-a0e0-4219-91bb-b6f9f839870d</td><td>Kenneth Ellis</td><td>Laptop</td><td>1.0</td><td>West </td><td>393</td><td>2024-05-17</td></tr><tr><td>bdac9f79-a06c-4e7c-b249-6cc8351d0353</td><td>Mariah Anderson</td><td>Tablet</td><td>5.0</td><td>West</td><td>255</td><td>2024-06-18</td></tr><tr><td>c6f8e471-9fa9-47f8-b7ae-32d24bb45634</td><td>Dalton Austin</td><td>Laptop</td><td>0.0</td><td>South </td><td>153</td><td>2024-01-23</td></tr><tr><td>e0f9d657-b898-4b5a-9481-4a3577ce644a</td><td>Scott Moore</td><td>Laptop </td><td>3.0</td><td>West</td><td>409</td><td>2024-11-04</td></tr><tr><td>5449f262-7965-408a-a9e1-a0caa375d52e</td><td>Stephen Williamson</td><td>Laptop </td><td>1.0</td><td>East</td><td>118.0</td><td>2024-08-12</td></tr><tr><td>3a40ec1e-51a4-4fa8-a126-fb86458235fd</td><td>Kelly Beard</td><td>Laptop</td><td>1.0</td><td>North</td><td>67</td><td>2024-04-01</td></tr><tr><td>7340fc8a-92c4-4490-90a6-52af72ef58e7</td><td>Glen Alvarado</td><td>Laptop</td><td>6.0</td><td>West </td><td>61</td><td>2024-03-04</td></tr><tr><td>9ca5dd2b-5a4e-4143-bcc2-ce2ecb34e9f1</td><td>George Gray</td><td>Laptop </td><td>0.0</td><td>North</td><td>130</td><td>2024-04-30</td></tr><tr><td>03138bf0-8b70-478c-bafe-166c3268162b</td><td>Mrs. Mary Blankenship</td><td>Laptop</td><td>8.0</td><td>North</td><td>307</td><td>2024-02-26</td></tr><tr><td>4829e024-e9e8-4a5b-82de-f9ae5a6f86de</td><td>Sierra Waters</td><td>Laptop </td><td>0.0</td><td>East</td><td>273</td><td>2024-04-15</td></tr><tr><td>0931c839-d9a6-4b51-9715-30a7520a9dbf</td><td>Derek Hernandez</td><td>Laptop</td><td>10.0</td><td>North</td><td>327</td><td>2024-01-31</td></tr><tr><td>7e7ce8e5-feb4-4947-9869-2547ba405574</td><td>Dr. Daniel King DDS</td><td>Laptop</td><td>5.0</td><td>West </td><td>107</td><td>2024-08-28</td></tr><tr><td>bbed0c20-8fe6-4c08-ba10-0464b7567847</td><td>Carl Moore</td><td>Tablet</td><td>0.0</td><td>South </td><td>173</td><td>2024-08-02</td></tr><tr><td>85c68336-9177-4074-939e-a51dec3cb714</td><td>Ryan Harrington</td><td>Tablet</td><td>0.0</td><td>East</td><td>131</td><td>2024-07-28</td></tr><tr><td>0121d08b-b639-4519-9360-8e919b0a739c</td><td>Gina Banks</td><td>Laptop</td><td>4.0</td><td>West </td><td>147.0</td><td>2024-06-06</td></tr><tr><td>5cbca593-e412-4dec-8bed-a2f83774e4f1</td><td>William Travis</td><td>Laptop</td><td>1.0</td><td>West</td><td>166</td><td>2024-02-26</td></tr><tr><td>76e73fcc-4337-4b24-91ca-428d4fa5eb19</td><td>Keith Carter</td><td>Laptop </td><td>5.0</td><td>East </td><td>426.0</td><td>2024-03-31</td></tr><tr><td>9c4ab30a-6374-4b75-b9df-4bfec710c7a6</td><td>Linda Mckinney</td><td>Laptop</td><td>0.0</td><td>West </td><td>66.0</td><td>2024-01-22</td></tr><tr><td>0723cbd9-33d7-4f94-b01b-3289688cec5c</td><td>Betty Anderson</td><td>Tablet</td><td>0.0</td><td>North </td><td>254.0</td><td>2024-01-25</td></tr><tr><td>8a279289-0087-4d74-a8a4-ccd7e8b08add</td><td>John Burke</td><td>Tablet</td><td>0.0</td><td>North</td><td>249.0</td><td>2024-04-27</td></tr><tr><td>bca3b088-9e29-4ab2-a13a-798f54d708c2</td><td>Brandon Short</td><td>Tablet</td><td>3.0</td><td>South </td><td>400.0</td><td>2024-01-23</td></tr><tr><td>94cc574b-0ddd-421f-9662-f47ee1e311ff</td><td>Bryan Hopkins</td><td>Laptop</td><td>0.0</td><td>West </td><td>96.0</td><td>2024-08-02</td></tr><tr><td>d186ae10-b1f0-48f2-a3a9-c9106ebd4eb2</td><td>Kim Cooper</td><td>Tablet</td><td>4.0</td><td>West </td><td>89</td><td>2024-11-18</td></tr><tr><td>7815230e-61da-40ae-abc4-89cf8e8038f5</td><td>Cynthia Rich</td><td>Laptop </td><td>0.0</td><td>East</td><td>269.0</td><td>2024-04-05</td></tr><tr><td>fab86cca-0598-4bca-b229-979d5dfd758e</td><td>Ryan Dunn</td><td>Tablet </td><td>6.0</td><td>East</td><td>126.0</td><td>2024-07-15</td></tr><tr><td>df293035-020d-4df4-9783-109b63ca633b</td><td>Amber Brady</td><td>Laptop </td><td>3.0</td><td>North </td><td>320</td><td>2024-06-12</td></tr><tr><td>1899a1e0-d8da-45b8-8342-651917a172bc</td><td>Kyle Byrd</td><td>Tablet </td><td>3.0</td><td>West</td><td>471</td><td>2024-03-31</td></tr><tr><td>b20e3522-43f7-4ff8-afab-69121d7f18c6</td><td>Dawn Johnston</td><td>Laptop</td><td>0.0</td><td>East</td><td>188</td><td>2024-07-20</td></tr><tr><td>48dd31eb-5282-46a8-a8b2-b447be194134</td><td>Steven Clark</td><td>Laptop </td><td>0.0</td><td>South</td><td>162</td><td>2024-05-10</td></tr><tr><td>3e6ea67d-781d-49f1-98e8-3afd1e7ee078</td><td>Kelsey Murphy</td><td>Laptop</td><td>0.0</td><td>East </td><td>293</td><td>2024-04-21</td></tr><tr><td>14c19ad4-50e9-404b-b1d5-1142be1ad5ff</td><td>Vanessa Mendoza</td><td>Tablet</td><td>3.0</td><td>East</td><td>360</td><td>2024-10-14</td></tr><tr><td>49f9dc43-f703-4de4-a87f-96915db513ed</td><td>Mia Benton</td><td>Laptop</td><td>3.0</td><td>East</td><td>200</td><td>2024-05-22</td></tr><tr><td>004ce647-0b78-406d-a1ed-0172aebbbcf5</td><td>Mr. Jason Good</td><td>Laptop </td><td>0.0</td><td>South</td><td>298</td><td>2024-08-07</td></tr><tr><td>c9ee33b3-9650-48da-be63-5433b922a2eb</td><td>Corey Garner</td><td>Laptop</td><td>7.0</td><td>North</td><td>478</td><td>2024-08-16</td></tr><tr><td>ba0c1ac1-fb71-44b0-a76b-d6b322641f0d</td><td>Brian Cherry</td><td>Laptop </td><td>0.0</td><td>South </td><td>475</td><td>2024-09-15</td></tr><tr><td>5a96d15b-3432-420d-913d-d24d04325be3</td><td>Brett Thompson</td><td>Laptop</td><td>2.0</td><td>South </td><td>304.0</td><td>2024-09-14</td></tr><tr><td>5c46e5bb-198a-4f4d-a22d-6cf066f93ecd</td><td>Chelsey Romero</td><td>Tablet</td><td>1.0</td><td>South </td><td>293</td><td>2024-04-07</td></tr><tr><td>25d7711d-2932-41e1-8679-6d9578666866</td><td>Sara Peters</td><td>Tablet</td><td>0.0</td><td>West</td><td>479.0</td><td>2024-07-23</td></tr><tr><td>076be842-4974-4b14-9263-84e4268aa6bd</td><td>Stephanie Oneill</td><td>Laptop</td><td>4.0</td><td>East</td><td>260.0</td><td>2024-04-07</td></tr><tr><td>f236da6d-84b7-485e-bc62-c491829140ee</td><td>Eric Spears</td><td>Laptop</td><td>0.0</td><td>South</td><td>309.0</td><td>2024-08-12</td></tr><tr><td>5eedd5c2-7b89-455e-bc7c-d77af2f9ba8f</td><td>Courtney Dodson</td><td>Tablet </td><td>5.0</td><td>North </td><td>468.0</td><td>2024-01-08</td></tr><tr><td>a84f24a8-ff1e-4fd1-88ac-ffecd292cf80</td><td>Raymond Smith</td><td>Laptop</td><td>4.0</td><td>East</td><td>300.0</td><td>2024-07-14</td></tr><tr><td>99022f4f-30f0-4530-8585-266c45fbb4ad</td><td>Michelle Obrien</td><td>Laptop</td><td>0.0</td><td>North </td><td>373.0</td><td>2024-01-15</td></tr><tr><td>b32c4ed2-5830-4085-b60e-41a042bb9a82</td><td>John Johnson</td><td>Laptop</td><td>4.0</td><td>North</td><td>173.0</td><td>2024-10-03</td></tr><tr><td>e434087a-6f97-4cef-8871-2974eb6b5476</td><td>Marisa Patton</td><td>Tablet</td><td>1.0</td><td>North</td><td>407</td><td>2024-04-28</td></tr><tr><td>7baec9cf-9e41-4aa1-9a73-1ea9260c92c7</td><td>Justin Mcdowell</td><td>Laptop</td><td>0.0</td><td>South</td><td>251</td><td>2024-03-25</td></tr><tr><td>4c41f044-2f2a-42c2-ae42-36206f3db711</td><td>David Beck</td><td>Laptop </td><td>10.0</td><td>East </td><td>493</td><td>2024-05-01</td></tr><tr><td>a1c624cd-d425-4fb6-815b-78ae389a69e2</td><td>Sandra Davis</td><td>Laptop </td><td>10.0</td><td>West </td><td>379</td><td>2024-05-29</td></tr><tr><td>4c52508a-694b-4a01-a4a3-0d85f036cb5f</td><td>Lauren Johnson</td><td>Tablet</td><td>0.0</td><td>West</td><td>344</td><td>2024-05-31</td></tr><tr><td>1bc46a84-7564-4380-ab1d-832d7a371ef4</td><td>Jordan Coleman</td><td>Laptop</td><td>0.0</td><td>North</td><td>346</td><td>2024-06-05</td></tr><tr><td>e6eb5efe-e0d7-4f8a-928f-94a17c1bb735</td><td>Cynthia Poole</td><td>Laptop</td><td>1.0</td><td>East</td><td>110</td><td>2024-07-10</td></tr><tr><td>7c46af09-ff18-456d-8d04-7cc1582639ba</td><td>Brady Sosa</td><td>Laptop</td><td>2.0</td><td>North </td><td>304</td><td>2024-04-14</td></tr><tr><td>48c80378-9576-42bb-8c58-79a9b13e01bd</td><td>Michael Kelly</td><td>Tablet </td><td>0.0</td><td>North </td><td>154</td><td>2024-03-11</td></tr></tbody></table></div>"
      ]
     },
     "metadata": {
      "application/vnd.databricks.v1+output": {
       "addedWidgets": {},
       "aggData": [],
       "aggError": "",
       "aggOverflow": false,
       "aggSchema": [],
       "aggSeriesLimitReached": false,
       "aggType": "",
       "arguments": {},
       "columnCustomDisplayInfos": {},
       "data": [
        [
         "c36c12af-d6ef-485d-b81a-4dfd5016acba",
         "Darlene House",
         "Laptop ",
         10.0,
         "South",
         "372.0",
         "2024-03-01"
        ],
        [
         "6e0af861-fe73-43ff-8611-4eb004720893",
         "Stuart Barron",
         "Laptop",
         0.0,
         "North",
         "481",
         "2024-04-21"
        ],
        [
         "a359713b-cad7-4e1a-8e9d-312ac06e65d8",
         "Maureen Lyons",
         "Tablet ",
         2.0,
         "East ",
         "490.0",
         "2024-06-03"
        ],
        [
         "fed09892-d3e8-492e-a064-2e727579b5ac",
         "John Lee",
         "Laptop",
         0.0,
         "South",
         "345",
         "2024-04-03"
        ],
        [
         "998d01e2-7be6-4456-9513-954309839c04",
         "Daniel Walls",
         "Laptop",
         7.0,
         "South ",
         "223",
         "2024-06-09"
        ],
        [
         "0c0c249a-20f3-422d-9699-532eee6d8874",
         "Nicholas Cruz",
         "Laptop",
         1.0,
         "North",
         "384",
         "2024-10-10"
        ],
        [
         "8ec976ad-bd94-4694-983f-8f31d3dd5fbd",
         "Andrea Morales",
         "Laptop",
         3.0,
         "East ",
         "361",
         "2024-06-24"
        ],
        [
         "c8576bd0-0b3c-4d63-b963-67bbcf1674a8",
         "Ethan Thomas",
         "Laptop",
         0.0,
         "South",
         "340.0",
         "2024-09-29"
        ],
        [
         "b01682d6-8b67-4156-bfee-5142b19ffae7",
         "Ann Thomas",
         "Laptop ",
         1.0,
         "East ",
         "379.0",
         "2024-07-26"
        ],
        [
         "dfd452cd-0a75-43d9-91f6-b7f2002af969",
         "Paul Smith",
         "Tablet ",
         0.0,
         "West",
         "127.0",
         "2024-03-25"
        ],
        [
         "e56b692d-0096-4e4c-9145-bcc22a8481b8",
         "Todd Sandoval",
         "Laptop",
         0.0,
         "North ",
         "246.0",
         "2024-06-08"
        ],
        [
         "778154ce-86c4-460b-b3e4-20a065837331",
         "Colton Cole",
         "Laptop",
         0.0,
         "East",
         "419",
         "2024-06-02"
        ],
        [
         "450bb9ce-5f67-4c9f-9569-9847a97641dd",
         "Erica Nichols",
         "Laptop ",
         0.0,
         "North ",
         "63.0",
         "2024-11-30"
        ],
        [
         "ae8ea305-06b2-428e-8bf9-c2c606d07170",
         "Lisa Fowler",
         "Laptop ",
         9.0,
         "North",
         "295",
         "2024-11-11"
        ],
        [
         "34be067d-e014-43a4-a40b-80a88483cf91",
         "Christy Garcia",
         "Laptop",
         3.0,
         "North ",
         "103",
         "2024-10-12"
        ],
        [
         "f116a929-0210-4c4a-818d-6486816b892b",
         "Monica Lawson",
         "Tablet",
         1.0,
         "North",
         "496.0",
         "2024-06-12"
        ],
        [
         "c0869c82-9d9d-4374-b14a-ca8430def93e",
         "Brandon Parker",
         "Laptop",
         4.0,
         "North",
         "140",
         "2024-03-21"
        ],
        [
         "a4522c8a-9978-4f6d-946e-61d02b744326",
         "Katherine Wright",
         "Tablet ",
         0.0,
         "North ",
         "364",
         "2024-02-29"
        ],
        [
         "6f15509e-ab1a-4d7a-98a4-45ec378a0192",
         "Erin Snyder",
         "Laptop",
         1.0,
         "West",
         "248.0",
         "2024-05-16"
        ],
        [
         "bb9f3d4f-f4ce-4412-aaf5-fe5420ace73b",
         "Jessica Huffman",
         "Laptop",
         2.0,
         "West",
         "105",
         "2024-03-01"
        ],
        [
         "ab7e6e8d-3de8-4c6f-a1a8-ce7c900bfbbd",
         "Johnathan Cain",
         "Laptop ",
         4.0,
         "South",
         "326",
         "2024-10-04"
        ],
        [
         "97e5b7d3-01c6-404a-b7f0-425346a2a4f0",
         "Linda Summers",
         "Tablet",
         9.0,
         "East ",
         "352",
         "2024-08-12"
        ],
        [
         "d8212ec3-6e8b-4116-aaf9-525c7ab2bdf4",
         "Brenda Wolfe",
         "Laptop",
         0.0,
         "North",
         "271",
         "2024-08-04"
        ],
        [
         "6b3482ab-2487-410d-b453-d8370415f78a",
         "Jacob Kelly",
         "Tablet",
         0.0,
         "East",
         "327",
         "2024-09-30"
        ],
        [
         "8c876e75-efde-4036-a8d4-8af30a45bd3f",
         "Andrea Taylor",
         "Laptop ",
         1.0,
         "South ",
         "121.0",
         "2024-09-24"
        ],
        [
         "2a092da0-c13f-4f0e-8e04-464839f0b5d1",
         "Stephen Smith",
         "Laptop ",
         8.0,
         "East ",
         "460",
         "2024-11-09"
        ],
        [
         "323ce06c-96b9-4a0f-8d6f-120cb214e828",
         "Gerald Park",
         "Tablet",
         2.0,
         "West ",
         "291.0",
         "2024-02-20"
        ],
        [
         "6c8fd853-a203-4a61-b5c0-2c499ed9edb8",
         "Christopher Nelson",
         "Tablet ",
         8.0,
         "West",
         "130",
         "2024-05-13"
        ],
        [
         "0141fa3c-b04a-4b31-836a-0eef021aad2f",
         "Thomas Clayton",
         "Laptop ",
         3.0,
         "North ",
         "329.0",
         "2024-11-02"
        ],
        [
         "4828255e-25ec-41ac-8390-90ac920c32ea",
         "Danny Lee",
         "Tablet",
         0.0,
         "East ",
         "468",
         "2024-11-05"
        ],
        [
         "6dd4873c-d1f7-4910-8833-fbf33b627a45",
         "Mark Jones",
         "Laptop",
         6.0,
         "East ",
         "349.0",
         "2024-05-22"
        ],
        [
         "a82f02c8-6048-4dcb-9693-520bcbbfa4e8",
         "Vincent Steele Jr.",
         "Tablet",
         7.0,
         "East",
         "193",
         "2024-03-12"
        ],
        [
         "30d33ebd-3e79-47a3-b246-ab3a92fd376b",
         "Chase Washington",
         "Laptop",
         3.0,
         "South",
         "415",
         "2024-04-05"
        ],
        [
         "003b7acc-d4d4-4385-99cf-5b1a7137bd3e",
         "Brandon Johnson",
         "Laptop",
         0.0,
         "West ",
         "319",
         "2024-11-23"
        ],
        [
         "4895baa8-c634-4250-9c12-ed836fdee69f",
         "Mary Logan DVM",
         "Laptop",
         7.0,
         "North",
         "488",
         "2024-06-20"
        ],
        [
         "c3ffeecf-3041-4389-8f36-e2754d47d314",
         "Nicole Dawson",
         "Tablet",
         0.0,
         "East ",
         "246",
         "2024-06-27"
        ],
        [
         "fee3e6f8-d80b-4a69-b559-d2c8929c8df4",
         "Jeffrey Horton",
         "Tablet",
         3.0,
         "North",
         "287.0",
         "2024-10-09"
        ],
        [
         "ea3864be-7b7d-4ad4-b59a-7e1ba2dfe785",
         "Ryan Simpson",
         "Tablet",
         0.0,
         "North ",
         "92.0",
         "2024-08-28"
        ],
        [
         "f4ecb27e-1eeb-41a6-a6a0-c2f5e5fafb0a",
         "Michael Jones",
         "Tablet ",
         8.0,
         "South",
         "229",
         "2024-04-15"
        ],
        [
         "101fa00f-a49e-455b-8e31-1550563078e0",
         "Paul Hodges",
         "Laptop ",
         0.0,
         "East",
         "371",
         "2024-07-05"
        ],
        [
         "87847a11-1711-4f5f-a91e-0454a9ad80f0",
         "Christopher Curtis",
         "Laptop",
         4.0,
         "East",
         "389.0",
         "2024-10-15"
        ],
        [
         "7ca82747-caef-416f-a07e-abd09b595196",
         "Cathy Thomas",
         "Laptop",
         0.0,
         "North ",
         "410.0",
         "2024-01-18"
        ],
        [
         "9ac77cbe-382f-4a56-9f58-c812f4d24c26",
         "Amanda Thomas",
         "Laptop",
         1.0,
         "North",
         "73",
         "2024-04-12"
        ],
        [
         "782d80bc-f5c0-42fd-b72c-850795d949af",
         "Mario Ford",
         "Laptop",
         0.0,
         "East",
         "499",
         "2024-03-13"
        ],
        [
         "80512132-f226-4347-accf-ad7878a16fed",
         "Edward Bond",
         "Tablet",
         0.0,
         "East",
         "186",
         "2024-01-17"
        ],
        [
         "41b98e56-276e-4b12-a532-7ed77c39aa8d",
         "Daniel Martinez",
         "Laptop",
         5.0,
         "West",
         "332",
         "2024-02-12"
        ],
        [
         "dcf93957-7886-4f7f-b412-c125d1a662a0",
         "Sara Ramirez",
         "Laptop",
         0.0,
         "East",
         "127",
         "2024-02-19"
        ],
        [
         "9ced51b7-a0e0-4219-91bb-b6f9f839870d",
         "Kenneth Ellis",
         "Laptop",
         1.0,
         "West ",
         "393",
         "2024-05-17"
        ],
        [
         "bdac9f79-a06c-4e7c-b249-6cc8351d0353",
         "Mariah Anderson",
         "Tablet",
         5.0,
         "West",
         "255",
         "2024-06-18"
        ],
        [
         "c6f8e471-9fa9-47f8-b7ae-32d24bb45634",
         "Dalton Austin",
         "Laptop",
         0.0,
         "South ",
         "153",
         "2024-01-23"
        ],
        [
         "e0f9d657-b898-4b5a-9481-4a3577ce644a",
         "Scott Moore",
         "Laptop ",
         3.0,
         "West",
         "409",
         "2024-11-04"
        ],
        [
         "5449f262-7965-408a-a9e1-a0caa375d52e",
         "Stephen Williamson",
         "Laptop ",
         1.0,
         "East",
         "118.0",
         "2024-08-12"
        ],
        [
         "3a40ec1e-51a4-4fa8-a126-fb86458235fd",
         "Kelly Beard",
         "Laptop",
         1.0,
         "North",
         "67",
         "2024-04-01"
        ],
        [
         "7340fc8a-92c4-4490-90a6-52af72ef58e7",
         "Glen Alvarado",
         "Laptop",
         6.0,
         "West ",
         "61",
         "2024-03-04"
        ],
        [
         "9ca5dd2b-5a4e-4143-bcc2-ce2ecb34e9f1",
         "George Gray",
         "Laptop ",
         0.0,
         "North",
         "130",
         "2024-04-30"
        ],
        [
         "03138bf0-8b70-478c-bafe-166c3268162b",
         "Mrs. Mary Blankenship",
         "Laptop",
         8.0,
         "North",
         "307",
         "2024-02-26"
        ],
        [
         "4829e024-e9e8-4a5b-82de-f9ae5a6f86de",
         "Sierra Waters",
         "Laptop ",
         0.0,
         "East",
         "273",
         "2024-04-15"
        ],
        [
         "0931c839-d9a6-4b51-9715-30a7520a9dbf",
         "Derek Hernandez",
         "Laptop",
         10.0,
         "North",
         "327",
         "2024-01-31"
        ],
        [
         "7e7ce8e5-feb4-4947-9869-2547ba405574",
         "Dr. Daniel King DDS",
         "Laptop",
         5.0,
         "West ",
         "107",
         "2024-08-28"
        ],
        [
         "bbed0c20-8fe6-4c08-ba10-0464b7567847",
         "Carl Moore",
         "Tablet",
         0.0,
         "South ",
         "173",
         "2024-08-02"
        ],
        [
         "85c68336-9177-4074-939e-a51dec3cb714",
         "Ryan Harrington",
         "Tablet",
         0.0,
         "East",
         "131",
         "2024-07-28"
        ],
        [
         "0121d08b-b639-4519-9360-8e919b0a739c",
         "Gina Banks",
         "Laptop",
         4.0,
         "West ",
         "147.0",
         "2024-06-06"
        ],
        [
         "5cbca593-e412-4dec-8bed-a2f83774e4f1",
         "William Travis",
         "Laptop",
         1.0,
         "West",
         "166",
         "2024-02-26"
        ],
        [
         "76e73fcc-4337-4b24-91ca-428d4fa5eb19",
         "Keith Carter",
         "Laptop ",
         5.0,
         "East ",
         "426.0",
         "2024-03-31"
        ],
        [
         "9c4ab30a-6374-4b75-b9df-4bfec710c7a6",
         "Linda Mckinney",
         "Laptop",
         0.0,
         "West ",
         "66.0",
         "2024-01-22"
        ],
        [
         "0723cbd9-33d7-4f94-b01b-3289688cec5c",
         "Betty Anderson",
         "Tablet",
         0.0,
         "North ",
         "254.0",
         "2024-01-25"
        ],
        [
         "8a279289-0087-4d74-a8a4-ccd7e8b08add",
         "John Burke",
         "Tablet",
         0.0,
         "North",
         "249.0",
         "2024-04-27"
        ],
        [
         "bca3b088-9e29-4ab2-a13a-798f54d708c2",
         "Brandon Short",
         "Tablet",
         3.0,
         "South ",
         "400.0",
         "2024-01-23"
        ],
        [
         "94cc574b-0ddd-421f-9662-f47ee1e311ff",
         "Bryan Hopkins",
         "Laptop",
         0.0,
         "West ",
         "96.0",
         "2024-08-02"
        ],
        [
         "d186ae10-b1f0-48f2-a3a9-c9106ebd4eb2",
         "Kim Cooper",
         "Tablet",
         4.0,
         "West ",
         "89",
         "2024-11-18"
        ],
        [
         "7815230e-61da-40ae-abc4-89cf8e8038f5",
         "Cynthia Rich",
         "Laptop ",
         0.0,
         "East",
         "269.0",
         "2024-04-05"
        ],
        [
         "fab86cca-0598-4bca-b229-979d5dfd758e",
         "Ryan Dunn",
         "Tablet ",
         6.0,
         "East",
         "126.0",
         "2024-07-15"
        ],
        [
         "df293035-020d-4df4-9783-109b63ca633b",
         "Amber Brady",
         "Laptop ",
         3.0,
         "North ",
         "320",
         "2024-06-12"
        ],
        [
         "1899a1e0-d8da-45b8-8342-651917a172bc",
         "Kyle Byrd",
         "Tablet ",
         3.0,
         "West",
         "471",
         "2024-03-31"
        ],
        [
         "b20e3522-43f7-4ff8-afab-69121d7f18c6",
         "Dawn Johnston",
         "Laptop",
         0.0,
         "East",
         "188",
         "2024-07-20"
        ],
        [
         "48dd31eb-5282-46a8-a8b2-b447be194134",
         "Steven Clark",
         "Laptop ",
         0.0,
         "South",
         "162",
         "2024-05-10"
        ],
        [
         "3e6ea67d-781d-49f1-98e8-3afd1e7ee078",
         "Kelsey Murphy",
         "Laptop",
         0.0,
         "East ",
         "293",
         "2024-04-21"
        ],
        [
         "14c19ad4-50e9-404b-b1d5-1142be1ad5ff",
         "Vanessa Mendoza",
         "Tablet",
         3.0,
         "East",
         "360",
         "2024-10-14"
        ],
        [
         "49f9dc43-f703-4de4-a87f-96915db513ed",
         "Mia Benton",
         "Laptop",
         3.0,
         "East",
         "200",
         "2024-05-22"
        ],
        [
         "004ce647-0b78-406d-a1ed-0172aebbbcf5",
         "Mr. Jason Good",
         "Laptop ",
         0.0,
         "South",
         "298",
         "2024-08-07"
        ],
        [
         "c9ee33b3-9650-48da-be63-5433b922a2eb",
         "Corey Garner",
         "Laptop",
         7.0,
         "North",
         "478",
         "2024-08-16"
        ],
        [
         "ba0c1ac1-fb71-44b0-a76b-d6b322641f0d",
         "Brian Cherry",
         "Laptop ",
         0.0,
         "South ",
         "475",
         "2024-09-15"
        ],
        [
         "5a96d15b-3432-420d-913d-d24d04325be3",
         "Brett Thompson",
         "Laptop",
         2.0,
         "South ",
         "304.0",
         "2024-09-14"
        ],
        [
         "5c46e5bb-198a-4f4d-a22d-6cf066f93ecd",
         "Chelsey Romero",
         "Tablet",
         1.0,
         "South ",
         "293",
         "2024-04-07"
        ],
        [
         "25d7711d-2932-41e1-8679-6d9578666866",
         "Sara Peters",
         "Tablet",
         0.0,
         "West",
         "479.0",
         "2024-07-23"
        ],
        [
         "076be842-4974-4b14-9263-84e4268aa6bd",
         "Stephanie Oneill",
         "Laptop",
         4.0,
         "East",
         "260.0",
         "2024-04-07"
        ],
        [
         "f236da6d-84b7-485e-bc62-c491829140ee",
         "Eric Spears",
         "Laptop",
         0.0,
         "South",
         "309.0",
         "2024-08-12"
        ],
        [
         "5eedd5c2-7b89-455e-bc7c-d77af2f9ba8f",
         "Courtney Dodson",
         "Tablet ",
         5.0,
         "North ",
         "468.0",
         "2024-01-08"
        ],
        [
         "a84f24a8-ff1e-4fd1-88ac-ffecd292cf80",
         "Raymond Smith",
         "Laptop",
         4.0,
         "East",
         "300.0",
         "2024-07-14"
        ],
        [
         "99022f4f-30f0-4530-8585-266c45fbb4ad",
         "Michelle Obrien",
         "Laptop",
         0.0,
         "North ",
         "373.0",
         "2024-01-15"
        ],
        [
         "b32c4ed2-5830-4085-b60e-41a042bb9a82",
         "John Johnson",
         "Laptop",
         4.0,
         "North",
         "173.0",
         "2024-10-03"
        ],
        [
         "e434087a-6f97-4cef-8871-2974eb6b5476",
         "Marisa Patton",
         "Tablet",
         1.0,
         "North",
         "407",
         "2024-04-28"
        ],
        [
         "7baec9cf-9e41-4aa1-9a73-1ea9260c92c7",
         "Justin Mcdowell",
         "Laptop",
         0.0,
         "South",
         "251",
         "2024-03-25"
        ],
        [
         "4c41f044-2f2a-42c2-ae42-36206f3db711",
         "David Beck",
         "Laptop ",
         10.0,
         "East ",
         "493",
         "2024-05-01"
        ],
        [
         "a1c624cd-d425-4fb6-815b-78ae389a69e2",
         "Sandra Davis",
         "Laptop ",
         10.0,
         "West ",
         "379",
         "2024-05-29"
        ],
        [
         "4c52508a-694b-4a01-a4a3-0d85f036cb5f",
         "Lauren Johnson",
         "Tablet",
         0.0,
         "West",
         "344",
         "2024-05-31"
        ],
        [
         "1bc46a84-7564-4380-ab1d-832d7a371ef4",
         "Jordan Coleman",
         "Laptop",
         0.0,
         "North",
         "346",
         "2024-06-05"
        ],
        [
         "e6eb5efe-e0d7-4f8a-928f-94a17c1bb735",
         "Cynthia Poole",
         "Laptop",
         1.0,
         "East",
         "110",
         "2024-07-10"
        ],
        [
         "7c46af09-ff18-456d-8d04-7cc1582639ba",
         "Brady Sosa",
         "Laptop",
         2.0,
         "North ",
         "304",
         "2024-04-14"
        ],
        [
         "48c80378-9576-42bb-8c58-79a9b13e01bd",
         "Michael Kelly",
         "Tablet ",
         0.0,
         "North ",
         "154",
         "2024-03-11"
        ]
       ],
       "datasetInfos": [],
       "dbfsResultPath": null,
       "isJsonSchema": true,
       "metadata": {},
       "overflow": false,
       "plotOptions": {
        "customPlotOptions": {},
        "displayType": "table",
        "pivotAggregation": null,
        "pivotColumns": null,
        "xColumns": null,
        "yColumns": null
       },
       "removedWidgets": [],
       "schema": [
        {
         "metadata": "{}",
         "name": "Transaction ID",
         "type": "\"string\""
        },
        {
         "metadata": "{}",
         "name": "Customer Name",
         "type": "\"string\""
        },
        {
         "metadata": "{}",
         "name": "Product",
         "type": "\"string\""
        },
        {
         "metadata": "{}",
         "name": "Quantity",
         "type": "\"double\""
        },
        {
         "metadata": "{}",
         "name": "Region",
         "type": "\"string\""
        },
        {
         "metadata": "{}",
         "name": "UnitPrice",
         "type": "\"string\""
        },
        {
         "metadata": "{}",
         "name": "TransactionDate",
         "type": "\"date\""
        }
       ],
       "type": "table"
      }
     },
     "output_type": "display_data"
    }
   ],
   "source": [
    "from pyspark.sql import SparkSession\n",
    "from pyspark.sql.functions import col, to_date, coalesce\n",
    "df= df.withColumn(\"TransactionDate\", \n",
    "    coalesce(\n",
    "        to_date(col(\"Transaction Date\"), \"yyyy-MM-dd\"),\n",
    "        to_date(col(\"Transaction Date\"), \"MM-dd-yyyy\"),\n",
    "        to_date(col(\"Transaction Date\"), \"yyyy-MM-dd\"),\n",
    "        to_date(col(\"Transaction Date\"), \"dd/MM/yyyy\"),\n",
    "        to_date(col(\"Transaction Date\"), \"MM/dd/yyyy\")\n",
    "    )\n",
    ")\n",
    "df = df.drop(\"Transaction Date\")\n",
    "display(df)"
   ]
  },
  {
   "cell_type": "code",
   "execution_count": 0,
   "metadata": {
    "application/vnd.databricks.v1+cell": {
     "cellMetadata": {
      "byteLimit": 2048000,
      "rowLimit": 10000
     },
     "inputWidgets": {},
     "nuid": "6f4a6bdb-dc8d-464d-b323-f174e3e44e0f",
     "showTitle": false,
     "tableResultSettingsMap": {},
     "title": ""
    }
   },
   "outputs": [
    {
     "output_type": "display_data",
     "data": {
      "text/html": [
       "<style scoped>\n",
       "  .table-result-container {\n",
       "    max-height: 300px;\n",
       "    overflow: auto;\n",
       "  }\n",
       "  table, th, td {\n",
       "    border: 1px solid black;\n",
       "    border-collapse: collapse;\n",
       "  }\n",
       "  th, td {\n",
       "    padding: 5px;\n",
       "  }\n",
       "  th {\n",
       "    text-align: left;\n",
       "  }\n",
       "</style><div class='table-result-container'><table class='table-result'><thead style='background-color: white'><tr><th>TransactionID</th><th>CustomerName</th><th>Product</th><th>Quantity</th><th>Region</th><th>UnitPrice</th><th>TransactionDate</th></tr></thead><tbody><tr><td>c36c12af-d6ef-485d-b81a-4dfd5016acba</td><td>Darlene House</td><td>Laptop </td><td>10.0</td><td>South</td><td>372.0</td><td>2024-03-01</td></tr><tr><td>6e0af861-fe73-43ff-8611-4eb004720893</td><td>Stuart Barron</td><td>Laptop</td><td>0.0</td><td>North</td><td>481</td><td>2024-04-21</td></tr><tr><td>a359713b-cad7-4e1a-8e9d-312ac06e65d8</td><td>Maureen Lyons</td><td>Tablet </td><td>2.0</td><td>East </td><td>490.0</td><td>2024-06-03</td></tr><tr><td>fed09892-d3e8-492e-a064-2e727579b5ac</td><td>John Lee</td><td>Laptop</td><td>0.0</td><td>South</td><td>345</td><td>2024-04-03</td></tr><tr><td>998d01e2-7be6-4456-9513-954309839c04</td><td>Daniel Walls</td><td>Laptop</td><td>7.0</td><td>South </td><td>223</td><td>2024-06-09</td></tr><tr><td>0c0c249a-20f3-422d-9699-532eee6d8874</td><td>Nicholas Cruz</td><td>Laptop</td><td>1.0</td><td>North</td><td>384</td><td>2024-10-10</td></tr><tr><td>8ec976ad-bd94-4694-983f-8f31d3dd5fbd</td><td>Andrea Morales</td><td>Laptop</td><td>3.0</td><td>East </td><td>361</td><td>2024-06-24</td></tr><tr><td>c8576bd0-0b3c-4d63-b963-67bbcf1674a8</td><td>Ethan Thomas</td><td>Laptop</td><td>0.0</td><td>South</td><td>340.0</td><td>2024-09-29</td></tr><tr><td>b01682d6-8b67-4156-bfee-5142b19ffae7</td><td>Ann Thomas</td><td>Laptop </td><td>1.0</td><td>East </td><td>379.0</td><td>2024-07-26</td></tr><tr><td>dfd452cd-0a75-43d9-91f6-b7f2002af969</td><td>Paul Smith</td><td>Tablet </td><td>0.0</td><td>West</td><td>127.0</td><td>2024-03-25</td></tr><tr><td>e56b692d-0096-4e4c-9145-bcc22a8481b8</td><td>Todd Sandoval</td><td>Laptop</td><td>0.0</td><td>North </td><td>246.0</td><td>2024-06-08</td></tr><tr><td>778154ce-86c4-460b-b3e4-20a065837331</td><td>Colton Cole</td><td>Laptop</td><td>0.0</td><td>East</td><td>419</td><td>2024-06-02</td></tr><tr><td>450bb9ce-5f67-4c9f-9569-9847a97641dd</td><td>Erica Nichols</td><td>Laptop </td><td>0.0</td><td>North </td><td>63.0</td><td>2024-11-30</td></tr><tr><td>ae8ea305-06b2-428e-8bf9-c2c606d07170</td><td>Lisa Fowler</td><td>Laptop </td><td>9.0</td><td>North</td><td>295</td><td>2024-11-11</td></tr><tr><td>34be067d-e014-43a4-a40b-80a88483cf91</td><td>Christy Garcia</td><td>Laptop</td><td>3.0</td><td>North </td><td>103</td><td>2024-10-12</td></tr><tr><td>f116a929-0210-4c4a-818d-6486816b892b</td><td>Monica Lawson</td><td>Tablet</td><td>1.0</td><td>North</td><td>496.0</td><td>2024-06-12</td></tr><tr><td>c0869c82-9d9d-4374-b14a-ca8430def93e</td><td>Brandon Parker</td><td>Laptop</td><td>4.0</td><td>North</td><td>140</td><td>2024-03-21</td></tr><tr><td>a4522c8a-9978-4f6d-946e-61d02b744326</td><td>Katherine Wright</td><td>Tablet </td><td>0.0</td><td>North </td><td>364</td><td>2024-02-29</td></tr><tr><td>6f15509e-ab1a-4d7a-98a4-45ec378a0192</td><td>Erin Snyder</td><td>Laptop</td><td>1.0</td><td>West</td><td>248.0</td><td>2024-05-16</td></tr><tr><td>bb9f3d4f-f4ce-4412-aaf5-fe5420ace73b</td><td>Jessica Huffman</td><td>Laptop</td><td>2.0</td><td>West</td><td>105</td><td>2024-03-01</td></tr><tr><td>ab7e6e8d-3de8-4c6f-a1a8-ce7c900bfbbd</td><td>Johnathan Cain</td><td>Laptop </td><td>4.0</td><td>South</td><td>326</td><td>2024-10-04</td></tr><tr><td>97e5b7d3-01c6-404a-b7f0-425346a2a4f0</td><td>Linda Summers</td><td>Tablet</td><td>9.0</td><td>East </td><td>352</td><td>2024-08-12</td></tr><tr><td>d8212ec3-6e8b-4116-aaf9-525c7ab2bdf4</td><td>Brenda Wolfe</td><td>Laptop</td><td>0.0</td><td>North</td><td>271</td><td>2024-08-04</td></tr><tr><td>6b3482ab-2487-410d-b453-d8370415f78a</td><td>Jacob Kelly</td><td>Tablet</td><td>0.0</td><td>East</td><td>327</td><td>2024-09-30</td></tr><tr><td>8c876e75-efde-4036-a8d4-8af30a45bd3f</td><td>Andrea Taylor</td><td>Laptop </td><td>1.0</td><td>South </td><td>121.0</td><td>2024-09-24</td></tr><tr><td>2a092da0-c13f-4f0e-8e04-464839f0b5d1</td><td>Stephen Smith</td><td>Laptop </td><td>8.0</td><td>East </td><td>460</td><td>2024-11-09</td></tr><tr><td>323ce06c-96b9-4a0f-8d6f-120cb214e828</td><td>Gerald Park</td><td>Tablet</td><td>2.0</td><td>West </td><td>291.0</td><td>2024-02-20</td></tr><tr><td>6c8fd853-a203-4a61-b5c0-2c499ed9edb8</td><td>Christopher Nelson</td><td>Tablet </td><td>8.0</td><td>West</td><td>130</td><td>2024-05-13</td></tr><tr><td>0141fa3c-b04a-4b31-836a-0eef021aad2f</td><td>Thomas Clayton</td><td>Laptop </td><td>3.0</td><td>North </td><td>329.0</td><td>2024-11-02</td></tr><tr><td>4828255e-25ec-41ac-8390-90ac920c32ea</td><td>Danny Lee</td><td>Tablet</td><td>0.0</td><td>East </td><td>468</td><td>2024-11-05</td></tr><tr><td>6dd4873c-d1f7-4910-8833-fbf33b627a45</td><td>Mark Jones</td><td>Laptop</td><td>6.0</td><td>East </td><td>349.0</td><td>2024-05-22</td></tr><tr><td>a82f02c8-6048-4dcb-9693-520bcbbfa4e8</td><td>Vincent Steele Jr.</td><td>Tablet</td><td>7.0</td><td>East</td><td>193</td><td>2024-03-12</td></tr><tr><td>30d33ebd-3e79-47a3-b246-ab3a92fd376b</td><td>Chase Washington</td><td>Laptop</td><td>3.0</td><td>South</td><td>415</td><td>2024-04-05</td></tr><tr><td>003b7acc-d4d4-4385-99cf-5b1a7137bd3e</td><td>Brandon Johnson</td><td>Laptop</td><td>0.0</td><td>West </td><td>319</td><td>2024-11-23</td></tr><tr><td>4895baa8-c634-4250-9c12-ed836fdee69f</td><td>Mary Logan DVM</td><td>Laptop</td><td>7.0</td><td>North</td><td>488</td><td>2024-06-20</td></tr><tr><td>c3ffeecf-3041-4389-8f36-e2754d47d314</td><td>Nicole Dawson</td><td>Tablet</td><td>0.0</td><td>East </td><td>246</td><td>2024-06-27</td></tr><tr><td>fee3e6f8-d80b-4a69-b559-d2c8929c8df4</td><td>Jeffrey Horton</td><td>Tablet</td><td>3.0</td><td>North</td><td>287.0</td><td>2024-10-09</td></tr><tr><td>ea3864be-7b7d-4ad4-b59a-7e1ba2dfe785</td><td>Ryan Simpson</td><td>Tablet</td><td>0.0</td><td>North </td><td>92.0</td><td>2024-08-28</td></tr><tr><td>f4ecb27e-1eeb-41a6-a6a0-c2f5e5fafb0a</td><td>Michael Jones</td><td>Tablet </td><td>8.0</td><td>South</td><td>229</td><td>2024-04-15</td></tr><tr><td>101fa00f-a49e-455b-8e31-1550563078e0</td><td>Paul Hodges</td><td>Laptop </td><td>0.0</td><td>East</td><td>371</td><td>2024-07-05</td></tr><tr><td>87847a11-1711-4f5f-a91e-0454a9ad80f0</td><td>Christopher Curtis</td><td>Laptop</td><td>4.0</td><td>East</td><td>389.0</td><td>2024-10-15</td></tr><tr><td>7ca82747-caef-416f-a07e-abd09b595196</td><td>Cathy Thomas</td><td>Laptop</td><td>0.0</td><td>North </td><td>410.0</td><td>2024-01-18</td></tr><tr><td>9ac77cbe-382f-4a56-9f58-c812f4d24c26</td><td>Amanda Thomas</td><td>Laptop</td><td>1.0</td><td>North</td><td>73</td><td>2024-04-12</td></tr><tr><td>782d80bc-f5c0-42fd-b72c-850795d949af</td><td>Mario Ford</td><td>Laptop</td><td>0.0</td><td>East</td><td>499</td><td>2024-03-13</td></tr><tr><td>80512132-f226-4347-accf-ad7878a16fed</td><td>Edward Bond</td><td>Tablet</td><td>0.0</td><td>East</td><td>186</td><td>2024-01-17</td></tr><tr><td>41b98e56-276e-4b12-a532-7ed77c39aa8d</td><td>Daniel Martinez</td><td>Laptop</td><td>5.0</td><td>West</td><td>332</td><td>2024-02-12</td></tr><tr><td>dcf93957-7886-4f7f-b412-c125d1a662a0</td><td>Sara Ramirez</td><td>Laptop</td><td>0.0</td><td>East</td><td>127</td><td>2024-02-19</td></tr><tr><td>9ced51b7-a0e0-4219-91bb-b6f9f839870d</td><td>Kenneth Ellis</td><td>Laptop</td><td>1.0</td><td>West </td><td>393</td><td>2024-05-17</td></tr><tr><td>bdac9f79-a06c-4e7c-b249-6cc8351d0353</td><td>Mariah Anderson</td><td>Tablet</td><td>5.0</td><td>West</td><td>255</td><td>2024-06-18</td></tr><tr><td>c6f8e471-9fa9-47f8-b7ae-32d24bb45634</td><td>Dalton Austin</td><td>Laptop</td><td>0.0</td><td>South </td><td>153</td><td>2024-01-23</td></tr><tr><td>e0f9d657-b898-4b5a-9481-4a3577ce644a</td><td>Scott Moore</td><td>Laptop </td><td>3.0</td><td>West</td><td>409</td><td>2024-11-04</td></tr><tr><td>5449f262-7965-408a-a9e1-a0caa375d52e</td><td>Stephen Williamson</td><td>Laptop </td><td>1.0</td><td>East</td><td>118.0</td><td>2024-08-12</td></tr><tr><td>3a40ec1e-51a4-4fa8-a126-fb86458235fd</td><td>Kelly Beard</td><td>Laptop</td><td>1.0</td><td>North</td><td>67</td><td>2024-04-01</td></tr><tr><td>7340fc8a-92c4-4490-90a6-52af72ef58e7</td><td>Glen Alvarado</td><td>Laptop</td><td>6.0</td><td>West </td><td>61</td><td>2024-03-04</td></tr><tr><td>9ca5dd2b-5a4e-4143-bcc2-ce2ecb34e9f1</td><td>George Gray</td><td>Laptop </td><td>0.0</td><td>North</td><td>130</td><td>2024-04-30</td></tr><tr><td>03138bf0-8b70-478c-bafe-166c3268162b</td><td>Mrs. Mary Blankenship</td><td>Laptop</td><td>8.0</td><td>North</td><td>307</td><td>2024-02-26</td></tr><tr><td>4829e024-e9e8-4a5b-82de-f9ae5a6f86de</td><td>Sierra Waters</td><td>Laptop </td><td>0.0</td><td>East</td><td>273</td><td>2024-04-15</td></tr><tr><td>0931c839-d9a6-4b51-9715-30a7520a9dbf</td><td>Derek Hernandez</td><td>Laptop</td><td>10.0</td><td>North</td><td>327</td><td>2024-01-31</td></tr><tr><td>7e7ce8e5-feb4-4947-9869-2547ba405574</td><td>Dr. Daniel King DDS</td><td>Laptop</td><td>5.0</td><td>West </td><td>107</td><td>2024-08-28</td></tr><tr><td>bbed0c20-8fe6-4c08-ba10-0464b7567847</td><td>Carl Moore</td><td>Tablet</td><td>0.0</td><td>South </td><td>173</td><td>2024-08-02</td></tr><tr><td>85c68336-9177-4074-939e-a51dec3cb714</td><td>Ryan Harrington</td><td>Tablet</td><td>0.0</td><td>East</td><td>131</td><td>2024-07-28</td></tr><tr><td>0121d08b-b639-4519-9360-8e919b0a739c</td><td>Gina Banks</td><td>Laptop</td><td>4.0</td><td>West </td><td>147.0</td><td>2024-06-06</td></tr><tr><td>5cbca593-e412-4dec-8bed-a2f83774e4f1</td><td>William Travis</td><td>Laptop</td><td>1.0</td><td>West</td><td>166</td><td>2024-02-26</td></tr><tr><td>76e73fcc-4337-4b24-91ca-428d4fa5eb19</td><td>Keith Carter</td><td>Laptop </td><td>5.0</td><td>East </td><td>426.0</td><td>2024-03-31</td></tr><tr><td>9c4ab30a-6374-4b75-b9df-4bfec710c7a6</td><td>Linda Mckinney</td><td>Laptop</td><td>0.0</td><td>West </td><td>66.0</td><td>2024-01-22</td></tr><tr><td>0723cbd9-33d7-4f94-b01b-3289688cec5c</td><td>Betty Anderson</td><td>Tablet</td><td>0.0</td><td>North </td><td>254.0</td><td>2024-01-25</td></tr><tr><td>8a279289-0087-4d74-a8a4-ccd7e8b08add</td><td>John Burke</td><td>Tablet</td><td>0.0</td><td>North</td><td>249.0</td><td>2024-04-27</td></tr><tr><td>bca3b088-9e29-4ab2-a13a-798f54d708c2</td><td>Brandon Short</td><td>Tablet</td><td>3.0</td><td>South </td><td>400.0</td><td>2024-01-23</td></tr><tr><td>94cc574b-0ddd-421f-9662-f47ee1e311ff</td><td>Bryan Hopkins</td><td>Laptop</td><td>0.0</td><td>West </td><td>96.0</td><td>2024-08-02</td></tr><tr><td>d186ae10-b1f0-48f2-a3a9-c9106ebd4eb2</td><td>Kim Cooper</td><td>Tablet</td><td>4.0</td><td>West </td><td>89</td><td>2024-11-18</td></tr><tr><td>7815230e-61da-40ae-abc4-89cf8e8038f5</td><td>Cynthia Rich</td><td>Laptop </td><td>0.0</td><td>East</td><td>269.0</td><td>2024-04-05</td></tr><tr><td>fab86cca-0598-4bca-b229-979d5dfd758e</td><td>Ryan Dunn</td><td>Tablet </td><td>6.0</td><td>East</td><td>126.0</td><td>2024-07-15</td></tr><tr><td>df293035-020d-4df4-9783-109b63ca633b</td><td>Amber Brady</td><td>Laptop </td><td>3.0</td><td>North </td><td>320</td><td>2024-06-12</td></tr><tr><td>1899a1e0-d8da-45b8-8342-651917a172bc</td><td>Kyle Byrd</td><td>Tablet </td><td>3.0</td><td>West</td><td>471</td><td>2024-03-31</td></tr><tr><td>b20e3522-43f7-4ff8-afab-69121d7f18c6</td><td>Dawn Johnston</td><td>Laptop</td><td>0.0</td><td>East</td><td>188</td><td>2024-07-20</td></tr><tr><td>48dd31eb-5282-46a8-a8b2-b447be194134</td><td>Steven Clark</td><td>Laptop </td><td>0.0</td><td>South</td><td>162</td><td>2024-05-10</td></tr><tr><td>3e6ea67d-781d-49f1-98e8-3afd1e7ee078</td><td>Kelsey Murphy</td><td>Laptop</td><td>0.0</td><td>East </td><td>293</td><td>2024-04-21</td></tr><tr><td>14c19ad4-50e9-404b-b1d5-1142be1ad5ff</td><td>Vanessa Mendoza</td><td>Tablet</td><td>3.0</td><td>East</td><td>360</td><td>2024-10-14</td></tr><tr><td>49f9dc43-f703-4de4-a87f-96915db513ed</td><td>Mia Benton</td><td>Laptop</td><td>3.0</td><td>East</td><td>200</td><td>2024-05-22</td></tr><tr><td>004ce647-0b78-406d-a1ed-0172aebbbcf5</td><td>Mr. Jason Good</td><td>Laptop </td><td>0.0</td><td>South</td><td>298</td><td>2024-08-07</td></tr><tr><td>c9ee33b3-9650-48da-be63-5433b922a2eb</td><td>Corey Garner</td><td>Laptop</td><td>7.0</td><td>North</td><td>478</td><td>2024-08-16</td></tr><tr><td>ba0c1ac1-fb71-44b0-a76b-d6b322641f0d</td><td>Brian Cherry</td><td>Laptop </td><td>0.0</td><td>South </td><td>475</td><td>2024-09-15</td></tr><tr><td>5a96d15b-3432-420d-913d-d24d04325be3</td><td>Brett Thompson</td><td>Laptop</td><td>2.0</td><td>South </td><td>304.0</td><td>2024-09-14</td></tr><tr><td>5c46e5bb-198a-4f4d-a22d-6cf066f93ecd</td><td>Chelsey Romero</td><td>Tablet</td><td>1.0</td><td>South </td><td>293</td><td>2024-04-07</td></tr><tr><td>25d7711d-2932-41e1-8679-6d9578666866</td><td>Sara Peters</td><td>Tablet</td><td>0.0</td><td>West</td><td>479.0</td><td>2024-07-23</td></tr><tr><td>076be842-4974-4b14-9263-84e4268aa6bd</td><td>Stephanie Oneill</td><td>Laptop</td><td>4.0</td><td>East</td><td>260.0</td><td>2024-04-07</td></tr><tr><td>f236da6d-84b7-485e-bc62-c491829140ee</td><td>Eric Spears</td><td>Laptop</td><td>0.0</td><td>South</td><td>309.0</td><td>2024-08-12</td></tr><tr><td>5eedd5c2-7b89-455e-bc7c-d77af2f9ba8f</td><td>Courtney Dodson</td><td>Tablet </td><td>5.0</td><td>North </td><td>468.0</td><td>2024-01-08</td></tr><tr><td>a84f24a8-ff1e-4fd1-88ac-ffecd292cf80</td><td>Raymond Smith</td><td>Laptop</td><td>4.0</td><td>East</td><td>300.0</td><td>2024-07-14</td></tr><tr><td>99022f4f-30f0-4530-8585-266c45fbb4ad</td><td>Michelle Obrien</td><td>Laptop</td><td>0.0</td><td>North </td><td>373.0</td><td>2024-01-15</td></tr><tr><td>b32c4ed2-5830-4085-b60e-41a042bb9a82</td><td>John Johnson</td><td>Laptop</td><td>4.0</td><td>North</td><td>173.0</td><td>2024-10-03</td></tr><tr><td>e434087a-6f97-4cef-8871-2974eb6b5476</td><td>Marisa Patton</td><td>Tablet</td><td>1.0</td><td>North</td><td>407</td><td>2024-04-28</td></tr><tr><td>7baec9cf-9e41-4aa1-9a73-1ea9260c92c7</td><td>Justin Mcdowell</td><td>Laptop</td><td>0.0</td><td>South</td><td>251</td><td>2024-03-25</td></tr><tr><td>4c41f044-2f2a-42c2-ae42-36206f3db711</td><td>David Beck</td><td>Laptop </td><td>10.0</td><td>East </td><td>493</td><td>2024-05-01</td></tr><tr><td>a1c624cd-d425-4fb6-815b-78ae389a69e2</td><td>Sandra Davis</td><td>Laptop </td><td>10.0</td><td>West </td><td>379</td><td>2024-05-29</td></tr><tr><td>4c52508a-694b-4a01-a4a3-0d85f036cb5f</td><td>Lauren Johnson</td><td>Tablet</td><td>0.0</td><td>West</td><td>344</td><td>2024-05-31</td></tr><tr><td>1bc46a84-7564-4380-ab1d-832d7a371ef4</td><td>Jordan Coleman</td><td>Laptop</td><td>0.0</td><td>North</td><td>346</td><td>2024-06-05</td></tr><tr><td>e6eb5efe-e0d7-4f8a-928f-94a17c1bb735</td><td>Cynthia Poole</td><td>Laptop</td><td>1.0</td><td>East</td><td>110</td><td>2024-07-10</td></tr><tr><td>7c46af09-ff18-456d-8d04-7cc1582639ba</td><td>Brady Sosa</td><td>Laptop</td><td>2.0</td><td>North </td><td>304</td><td>2024-04-14</td></tr><tr><td>48c80378-9576-42bb-8c58-79a9b13e01bd</td><td>Michael Kelly</td><td>Tablet </td><td>0.0</td><td>North </td><td>154</td><td>2024-03-11</td></tr></tbody></table></div>"
      ]
     },
     "metadata": {
      "application/vnd.databricks.v1+output": {
       "addedWidgets": {},
       "aggData": [],
       "aggError": "",
       "aggOverflow": false,
       "aggSchema": [],
       "aggSeriesLimitReached": false,
       "aggType": "",
       "arguments": {},
       "columnCustomDisplayInfos": {},
       "data": [
        [
         "c36c12af-d6ef-485d-b81a-4dfd5016acba",
         "Darlene House",
         "Laptop ",
         10.0,
         "South",
         "372.0",
         "2024-03-01"
        ],
        [
         "6e0af861-fe73-43ff-8611-4eb004720893",
         "Stuart Barron",
         "Laptop",
         0.0,
         "North",
         "481",
         "2024-04-21"
        ],
        [
         "a359713b-cad7-4e1a-8e9d-312ac06e65d8",
         "Maureen Lyons",
         "Tablet ",
         2.0,
         "East ",
         "490.0",
         "2024-06-03"
        ],
        [
         "fed09892-d3e8-492e-a064-2e727579b5ac",
         "John Lee",
         "Laptop",
         0.0,
         "South",
         "345",
         "2024-04-03"
        ],
        [
         "998d01e2-7be6-4456-9513-954309839c04",
         "Daniel Walls",
         "Laptop",
         7.0,
         "South ",
         "223",
         "2024-06-09"
        ],
        [
         "0c0c249a-20f3-422d-9699-532eee6d8874",
         "Nicholas Cruz",
         "Laptop",
         1.0,
         "North",
         "384",
         "2024-10-10"
        ],
        [
         "8ec976ad-bd94-4694-983f-8f31d3dd5fbd",
         "Andrea Morales",
         "Laptop",
         3.0,
         "East ",
         "361",
         "2024-06-24"
        ],
        [
         "c8576bd0-0b3c-4d63-b963-67bbcf1674a8",
         "Ethan Thomas",
         "Laptop",
         0.0,
         "South",
         "340.0",
         "2024-09-29"
        ],
        [
         "b01682d6-8b67-4156-bfee-5142b19ffae7",
         "Ann Thomas",
         "Laptop ",
         1.0,
         "East ",
         "379.0",
         "2024-07-26"
        ],
        [
         "dfd452cd-0a75-43d9-91f6-b7f2002af969",
         "Paul Smith",
         "Tablet ",
         0.0,
         "West",
         "127.0",
         "2024-03-25"
        ],
        [
         "e56b692d-0096-4e4c-9145-bcc22a8481b8",
         "Todd Sandoval",
         "Laptop",
         0.0,
         "North ",
         "246.0",
         "2024-06-08"
        ],
        [
         "778154ce-86c4-460b-b3e4-20a065837331",
         "Colton Cole",
         "Laptop",
         0.0,
         "East",
         "419",
         "2024-06-02"
        ],
        [
         "450bb9ce-5f67-4c9f-9569-9847a97641dd",
         "Erica Nichols",
         "Laptop ",
         0.0,
         "North ",
         "63.0",
         "2024-11-30"
        ],
        [
         "ae8ea305-06b2-428e-8bf9-c2c606d07170",
         "Lisa Fowler",
         "Laptop ",
         9.0,
         "North",
         "295",
         "2024-11-11"
        ],
        [
         "34be067d-e014-43a4-a40b-80a88483cf91",
         "Christy Garcia",
         "Laptop",
         3.0,
         "North ",
         "103",
         "2024-10-12"
        ],
        [
         "f116a929-0210-4c4a-818d-6486816b892b",
         "Monica Lawson",
         "Tablet",
         1.0,
         "North",
         "496.0",
         "2024-06-12"
        ],
        [
         "c0869c82-9d9d-4374-b14a-ca8430def93e",
         "Brandon Parker",
         "Laptop",
         4.0,
         "North",
         "140",
         "2024-03-21"
        ],
        [
         "a4522c8a-9978-4f6d-946e-61d02b744326",
         "Katherine Wright",
         "Tablet ",
         0.0,
         "North ",
         "364",
         "2024-02-29"
        ],
        [
         "6f15509e-ab1a-4d7a-98a4-45ec378a0192",
         "Erin Snyder",
         "Laptop",
         1.0,
         "West",
         "248.0",
         "2024-05-16"
        ],
        [
         "bb9f3d4f-f4ce-4412-aaf5-fe5420ace73b",
         "Jessica Huffman",
         "Laptop",
         2.0,
         "West",
         "105",
         "2024-03-01"
        ],
        [
         "ab7e6e8d-3de8-4c6f-a1a8-ce7c900bfbbd",
         "Johnathan Cain",
         "Laptop ",
         4.0,
         "South",
         "326",
         "2024-10-04"
        ],
        [
         "97e5b7d3-01c6-404a-b7f0-425346a2a4f0",
         "Linda Summers",
         "Tablet",
         9.0,
         "East ",
         "352",
         "2024-08-12"
        ],
        [
         "d8212ec3-6e8b-4116-aaf9-525c7ab2bdf4",
         "Brenda Wolfe",
         "Laptop",
         0.0,
         "North",
         "271",
         "2024-08-04"
        ],
        [
         "6b3482ab-2487-410d-b453-d8370415f78a",
         "Jacob Kelly",
         "Tablet",
         0.0,
         "East",
         "327",
         "2024-09-30"
        ],
        [
         "8c876e75-efde-4036-a8d4-8af30a45bd3f",
         "Andrea Taylor",
         "Laptop ",
         1.0,
         "South ",
         "121.0",
         "2024-09-24"
        ],
        [
         "2a092da0-c13f-4f0e-8e04-464839f0b5d1",
         "Stephen Smith",
         "Laptop ",
         8.0,
         "East ",
         "460",
         "2024-11-09"
        ],
        [
         "323ce06c-96b9-4a0f-8d6f-120cb214e828",
         "Gerald Park",
         "Tablet",
         2.0,
         "West ",
         "291.0",
         "2024-02-20"
        ],
        [
         "6c8fd853-a203-4a61-b5c0-2c499ed9edb8",
         "Christopher Nelson",
         "Tablet ",
         8.0,
         "West",
         "130",
         "2024-05-13"
        ],
        [
         "0141fa3c-b04a-4b31-836a-0eef021aad2f",
         "Thomas Clayton",
         "Laptop ",
         3.0,
         "North ",
         "329.0",
         "2024-11-02"
        ],
        [
         "4828255e-25ec-41ac-8390-90ac920c32ea",
         "Danny Lee",
         "Tablet",
         0.0,
         "East ",
         "468",
         "2024-11-05"
        ],
        [
         "6dd4873c-d1f7-4910-8833-fbf33b627a45",
         "Mark Jones",
         "Laptop",
         6.0,
         "East ",
         "349.0",
         "2024-05-22"
        ],
        [
         "a82f02c8-6048-4dcb-9693-520bcbbfa4e8",
         "Vincent Steele Jr.",
         "Tablet",
         7.0,
         "East",
         "193",
         "2024-03-12"
        ],
        [
         "30d33ebd-3e79-47a3-b246-ab3a92fd376b",
         "Chase Washington",
         "Laptop",
         3.0,
         "South",
         "415",
         "2024-04-05"
        ],
        [
         "003b7acc-d4d4-4385-99cf-5b1a7137bd3e",
         "Brandon Johnson",
         "Laptop",
         0.0,
         "West ",
         "319",
         "2024-11-23"
        ],
        [
         "4895baa8-c634-4250-9c12-ed836fdee69f",
         "Mary Logan DVM",
         "Laptop",
         7.0,
         "North",
         "488",
         "2024-06-20"
        ],
        [
         "c3ffeecf-3041-4389-8f36-e2754d47d314",
         "Nicole Dawson",
         "Tablet",
         0.0,
         "East ",
         "246",
         "2024-06-27"
        ],
        [
         "fee3e6f8-d80b-4a69-b559-d2c8929c8df4",
         "Jeffrey Horton",
         "Tablet",
         3.0,
         "North",
         "287.0",
         "2024-10-09"
        ],
        [
         "ea3864be-7b7d-4ad4-b59a-7e1ba2dfe785",
         "Ryan Simpson",
         "Tablet",
         0.0,
         "North ",
         "92.0",
         "2024-08-28"
        ],
        [
         "f4ecb27e-1eeb-41a6-a6a0-c2f5e5fafb0a",
         "Michael Jones",
         "Tablet ",
         8.0,
         "South",
         "229",
         "2024-04-15"
        ],
        [
         "101fa00f-a49e-455b-8e31-1550563078e0",
         "Paul Hodges",
         "Laptop ",
         0.0,
         "East",
         "371",
         "2024-07-05"
        ],
        [
         "87847a11-1711-4f5f-a91e-0454a9ad80f0",
         "Christopher Curtis",
         "Laptop",
         4.0,
         "East",
         "389.0",
         "2024-10-15"
        ],
        [
         "7ca82747-caef-416f-a07e-abd09b595196",
         "Cathy Thomas",
         "Laptop",
         0.0,
         "North ",
         "410.0",
         "2024-01-18"
        ],
        [
         "9ac77cbe-382f-4a56-9f58-c812f4d24c26",
         "Amanda Thomas",
         "Laptop",
         1.0,
         "North",
         "73",
         "2024-04-12"
        ],
        [
         "782d80bc-f5c0-42fd-b72c-850795d949af",
         "Mario Ford",
         "Laptop",
         0.0,
         "East",
         "499",
         "2024-03-13"
        ],
        [
         "80512132-f226-4347-accf-ad7878a16fed",
         "Edward Bond",
         "Tablet",
         0.0,
         "East",
         "186",
         "2024-01-17"
        ],
        [
         "41b98e56-276e-4b12-a532-7ed77c39aa8d",
         "Daniel Martinez",
         "Laptop",
         5.0,
         "West",
         "332",
         "2024-02-12"
        ],
        [
         "dcf93957-7886-4f7f-b412-c125d1a662a0",
         "Sara Ramirez",
         "Laptop",
         0.0,
         "East",
         "127",
         "2024-02-19"
        ],
        [
         "9ced51b7-a0e0-4219-91bb-b6f9f839870d",
         "Kenneth Ellis",
         "Laptop",
         1.0,
         "West ",
         "393",
         "2024-05-17"
        ],
        [
         "bdac9f79-a06c-4e7c-b249-6cc8351d0353",
         "Mariah Anderson",
         "Tablet",
         5.0,
         "West",
         "255",
         "2024-06-18"
        ],
        [
         "c6f8e471-9fa9-47f8-b7ae-32d24bb45634",
         "Dalton Austin",
         "Laptop",
         0.0,
         "South ",
         "153",
         "2024-01-23"
        ],
        [
         "e0f9d657-b898-4b5a-9481-4a3577ce644a",
         "Scott Moore",
         "Laptop ",
         3.0,
         "West",
         "409",
         "2024-11-04"
        ],
        [
         "5449f262-7965-408a-a9e1-a0caa375d52e",
         "Stephen Williamson",
         "Laptop ",
         1.0,
         "East",
         "118.0",
         "2024-08-12"
        ],
        [
         "3a40ec1e-51a4-4fa8-a126-fb86458235fd",
         "Kelly Beard",
         "Laptop",
         1.0,
         "North",
         "67",
         "2024-04-01"
        ],
        [
         "7340fc8a-92c4-4490-90a6-52af72ef58e7",
         "Glen Alvarado",
         "Laptop",
         6.0,
         "West ",
         "61",
         "2024-03-04"
        ],
        [
         "9ca5dd2b-5a4e-4143-bcc2-ce2ecb34e9f1",
         "George Gray",
         "Laptop ",
         0.0,
         "North",
         "130",
         "2024-04-30"
        ],
        [
         "03138bf0-8b70-478c-bafe-166c3268162b",
         "Mrs. Mary Blankenship",
         "Laptop",
         8.0,
         "North",
         "307",
         "2024-02-26"
        ],
        [
         "4829e024-e9e8-4a5b-82de-f9ae5a6f86de",
         "Sierra Waters",
         "Laptop ",
         0.0,
         "East",
         "273",
         "2024-04-15"
        ],
        [
         "0931c839-d9a6-4b51-9715-30a7520a9dbf",
         "Derek Hernandez",
         "Laptop",
         10.0,
         "North",
         "327",
         "2024-01-31"
        ],
        [
         "7e7ce8e5-feb4-4947-9869-2547ba405574",
         "Dr. Daniel King DDS",
         "Laptop",
         5.0,
         "West ",
         "107",
         "2024-08-28"
        ],
        [
         "bbed0c20-8fe6-4c08-ba10-0464b7567847",
         "Carl Moore",
         "Tablet",
         0.0,
         "South ",
         "173",
         "2024-08-02"
        ],
        [
         "85c68336-9177-4074-939e-a51dec3cb714",
         "Ryan Harrington",
         "Tablet",
         0.0,
         "East",
         "131",
         "2024-07-28"
        ],
        [
         "0121d08b-b639-4519-9360-8e919b0a739c",
         "Gina Banks",
         "Laptop",
         4.0,
         "West ",
         "147.0",
         "2024-06-06"
        ],
        [
         "5cbca593-e412-4dec-8bed-a2f83774e4f1",
         "William Travis",
         "Laptop",
         1.0,
         "West",
         "166",
         "2024-02-26"
        ],
        [
         "76e73fcc-4337-4b24-91ca-428d4fa5eb19",
         "Keith Carter",
         "Laptop ",
         5.0,
         "East ",
         "426.0",
         "2024-03-31"
        ],
        [
         "9c4ab30a-6374-4b75-b9df-4bfec710c7a6",
         "Linda Mckinney",
         "Laptop",
         0.0,
         "West ",
         "66.0",
         "2024-01-22"
        ],
        [
         "0723cbd9-33d7-4f94-b01b-3289688cec5c",
         "Betty Anderson",
         "Tablet",
         0.0,
         "North ",
         "254.0",
         "2024-01-25"
        ],
        [
         "8a279289-0087-4d74-a8a4-ccd7e8b08add",
         "John Burke",
         "Tablet",
         0.0,
         "North",
         "249.0",
         "2024-04-27"
        ],
        [
         "bca3b088-9e29-4ab2-a13a-798f54d708c2",
         "Brandon Short",
         "Tablet",
         3.0,
         "South ",
         "400.0",
         "2024-01-23"
        ],
        [
         "94cc574b-0ddd-421f-9662-f47ee1e311ff",
         "Bryan Hopkins",
         "Laptop",
         0.0,
         "West ",
         "96.0",
         "2024-08-02"
        ],
        [
         "d186ae10-b1f0-48f2-a3a9-c9106ebd4eb2",
         "Kim Cooper",
         "Tablet",
         4.0,
         "West ",
         "89",
         "2024-11-18"
        ],
        [
         "7815230e-61da-40ae-abc4-89cf8e8038f5",
         "Cynthia Rich",
         "Laptop ",
         0.0,
         "East",
         "269.0",
         "2024-04-05"
        ],
        [
         "fab86cca-0598-4bca-b229-979d5dfd758e",
         "Ryan Dunn",
         "Tablet ",
         6.0,
         "East",
         "126.0",
         "2024-07-15"
        ],
        [
         "df293035-020d-4df4-9783-109b63ca633b",
         "Amber Brady",
         "Laptop ",
         3.0,
         "North ",
         "320",
         "2024-06-12"
        ],
        [
         "1899a1e0-d8da-45b8-8342-651917a172bc",
         "Kyle Byrd",
         "Tablet ",
         3.0,
         "West",
         "471",
         "2024-03-31"
        ],
        [
         "b20e3522-43f7-4ff8-afab-69121d7f18c6",
         "Dawn Johnston",
         "Laptop",
         0.0,
         "East",
         "188",
         "2024-07-20"
        ],
        [
         "48dd31eb-5282-46a8-a8b2-b447be194134",
         "Steven Clark",
         "Laptop ",
         0.0,
         "South",
         "162",
         "2024-05-10"
        ],
        [
         "3e6ea67d-781d-49f1-98e8-3afd1e7ee078",
         "Kelsey Murphy",
         "Laptop",
         0.0,
         "East ",
         "293",
         "2024-04-21"
        ],
        [
         "14c19ad4-50e9-404b-b1d5-1142be1ad5ff",
         "Vanessa Mendoza",
         "Tablet",
         3.0,
         "East",
         "360",
         "2024-10-14"
        ],
        [
         "49f9dc43-f703-4de4-a87f-96915db513ed",
         "Mia Benton",
         "Laptop",
         3.0,
         "East",
         "200",
         "2024-05-22"
        ],
        [
         "004ce647-0b78-406d-a1ed-0172aebbbcf5",
         "Mr. Jason Good",
         "Laptop ",
         0.0,
         "South",
         "298",
         "2024-08-07"
        ],
        [
         "c9ee33b3-9650-48da-be63-5433b922a2eb",
         "Corey Garner",
         "Laptop",
         7.0,
         "North",
         "478",
         "2024-08-16"
        ],
        [
         "ba0c1ac1-fb71-44b0-a76b-d6b322641f0d",
         "Brian Cherry",
         "Laptop ",
         0.0,
         "South ",
         "475",
         "2024-09-15"
        ],
        [
         "5a96d15b-3432-420d-913d-d24d04325be3",
         "Brett Thompson",
         "Laptop",
         2.0,
         "South ",
         "304.0",
         "2024-09-14"
        ],
        [
         "5c46e5bb-198a-4f4d-a22d-6cf066f93ecd",
         "Chelsey Romero",
         "Tablet",
         1.0,
         "South ",
         "293",
         "2024-04-07"
        ],
        [
         "25d7711d-2932-41e1-8679-6d9578666866",
         "Sara Peters",
         "Tablet",
         0.0,
         "West",
         "479.0",
         "2024-07-23"
        ],
        [
         "076be842-4974-4b14-9263-84e4268aa6bd",
         "Stephanie Oneill",
         "Laptop",
         4.0,
         "East",
         "260.0",
         "2024-04-07"
        ],
        [
         "f236da6d-84b7-485e-bc62-c491829140ee",
         "Eric Spears",
         "Laptop",
         0.0,
         "South",
         "309.0",
         "2024-08-12"
        ],
        [
         "5eedd5c2-7b89-455e-bc7c-d77af2f9ba8f",
         "Courtney Dodson",
         "Tablet ",
         5.0,
         "North ",
         "468.0",
         "2024-01-08"
        ],
        [
         "a84f24a8-ff1e-4fd1-88ac-ffecd292cf80",
         "Raymond Smith",
         "Laptop",
         4.0,
         "East",
         "300.0",
         "2024-07-14"
        ],
        [
         "99022f4f-30f0-4530-8585-266c45fbb4ad",
         "Michelle Obrien",
         "Laptop",
         0.0,
         "North ",
         "373.0",
         "2024-01-15"
        ],
        [
         "b32c4ed2-5830-4085-b60e-41a042bb9a82",
         "John Johnson",
         "Laptop",
         4.0,
         "North",
         "173.0",
         "2024-10-03"
        ],
        [
         "e434087a-6f97-4cef-8871-2974eb6b5476",
         "Marisa Patton",
         "Tablet",
         1.0,
         "North",
         "407",
         "2024-04-28"
        ],
        [
         "7baec9cf-9e41-4aa1-9a73-1ea9260c92c7",
         "Justin Mcdowell",
         "Laptop",
         0.0,
         "South",
         "251",
         "2024-03-25"
        ],
        [
         "4c41f044-2f2a-42c2-ae42-36206f3db711",
         "David Beck",
         "Laptop ",
         10.0,
         "East ",
         "493",
         "2024-05-01"
        ],
        [
         "a1c624cd-d425-4fb6-815b-78ae389a69e2",
         "Sandra Davis",
         "Laptop ",
         10.0,
         "West ",
         "379",
         "2024-05-29"
        ],
        [
         "4c52508a-694b-4a01-a4a3-0d85f036cb5f",
         "Lauren Johnson",
         "Tablet",
         0.0,
         "West",
         "344",
         "2024-05-31"
        ],
        [
         "1bc46a84-7564-4380-ab1d-832d7a371ef4",
         "Jordan Coleman",
         "Laptop",
         0.0,
         "North",
         "346",
         "2024-06-05"
        ],
        [
         "e6eb5efe-e0d7-4f8a-928f-94a17c1bb735",
         "Cynthia Poole",
         "Laptop",
         1.0,
         "East",
         "110",
         "2024-07-10"
        ],
        [
         "7c46af09-ff18-456d-8d04-7cc1582639ba",
         "Brady Sosa",
         "Laptop",
         2.0,
         "North ",
         "304",
         "2024-04-14"
        ],
        [
         "48c80378-9576-42bb-8c58-79a9b13e01bd",
         "Michael Kelly",
         "Tablet ",
         0.0,
         "North ",
         "154",
         "2024-03-11"
        ]
       ],
       "datasetInfos": [],
       "dbfsResultPath": null,
       "isJsonSchema": true,
       "metadata": {},
       "overflow": false,
       "plotOptions": {
        "customPlotOptions": {},
        "displayType": "table",
        "pivotAggregation": null,
        "pivotColumns": null,
        "xColumns": null,
        "yColumns": null
       },
       "removedWidgets": [],
       "schema": [
        {
         "metadata": "{}",
         "name": "TransactionID",
         "type": "\"string\""
        },
        {
         "metadata": "{}",
         "name": "CustomerName",
         "type": "\"string\""
        },
        {
         "metadata": "{}",
         "name": "Product",
         "type": "\"string\""
        },
        {
         "metadata": "{}",
         "name": "Quantity",
         "type": "\"double\""
        },
        {
         "metadata": "{}",
         "name": "Region",
         "type": "\"string\""
        },
        {
         "metadata": "{}",
         "name": "UnitPrice",
         "type": "\"string\""
        },
        {
         "metadata": "{}",
         "name": "TransactionDate",
         "type": "\"date\""
        }
       ],
       "type": "table"
      }
     },
     "output_type": "display_data"
    }
   ],
   "source": [
    "from pyspark.sql import SparkSession\n",
    "df=df.withColumnRenamed(\"Transaction ID\", \"TransactionID\").withColumnRenamed(\"Customer Name\", \"CustomerName\")\n",
    "display(df)"
   ]
  },
  {
   "cell_type": "code",
   "execution_count": 0,
   "metadata": {
    "application/vnd.databricks.v1+cell": {
     "cellMetadata": {
      "byteLimit": 2048000,
      "rowLimit": 10000
     },
     "inputWidgets": {},
     "nuid": "17dfb3f6-3293-4691-89c1-c813fbf52888",
     "showTitle": false,
     "tableResultSettingsMap": {},
     "title": ""
    }
   },
   "outputs": [],
   "source": [
    "# Step 1: Write the DataFrame to the directory\n",
    "df.coalesce(1).write.format(\"csv\").mode(\"overwrite\").option(\"header\", \"true\").save(\"abfss://processed@rawstorage123.dfs.core.windows.net/processeddata\")\n",
    "\n",
    "\n"
   ]
  },
  {
   "cell_type": "code",
   "execution_count": 0,
   "metadata": {
    "application/vnd.databricks.v1+cell": {
     "cellMetadata": {
      "byteLimit": 2048000,
      "rowLimit": 10000
     },
     "inputWidgets": {},
     "nuid": "541d33c8-0dbd-4191-a60a-3e217124f673",
     "showTitle": false,
     "tableResultSettingsMap": {},
     "title": ""
    }
   },
   "outputs": [],
   "source": [
    "# Step 2: Define the paths\n",
    "source_path = \"abfss://processed@rawstorage123.dfs.core.windows.net/processeddata/\"\n",
    "destination_path = \"abfss://processed@rawstorage123.dfs.core.windows.net/processed_renamed/processed_sales_data.csv\"\n",
    "\n",
    "# Step 3: List the files in the source directory\n",
    "files = dbutils.fs.ls(source_path)\n",
    "\n",
    "# Step 4: Find the file that matches the pattern\n",
    "source_file_path = None\n",
    "for file in files:\n",
    "    if \"part-00000\" in file.name:\n",
    "        source_file_path = file.path\n",
    "        break\n",
    "\n",
    "# Step 5: Rename the part file to the desired name\n",
    "if source_file_path:\n",
    "    dbutils.fs.mv(source_file_path, destination_path)\n",
    "else:\n",
    "    raise FileNotFoundError(\"The specified file part-00000 was not found in the source directory.\")\n"
   ]
  }
 ],
 "metadata": {
  "application/vnd.databricks.v1+notebook": {
   "computePreferences": null,
   "dashboards": [],
   "environmentMetadata": {
    "base_environment": "",
    "client": "1"
   },
   "language": "python",
   "notebookMetadata": {
    "pythonIndentUnit": 4
   },
   "notebookName": "curated",
   "widgets": {}
  },
  "language_info": {
   "name": "python"
  }
 },
 "nbformat": 4,
 "nbformat_minor": 0
}