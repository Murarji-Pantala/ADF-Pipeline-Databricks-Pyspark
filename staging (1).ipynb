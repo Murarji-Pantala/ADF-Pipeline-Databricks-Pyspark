{
 "cells": [
  {
   "cell_type": "code",
   "execution_count": 0,
   "metadata": {
    "application/vnd.databricks.v1+cell": {
     "cellMetadata": {
      "byteLimit": 2048000,
      "rowLimit": 10000
     },
     "inputWidgets": {},
     "nuid": "75f77c03-6461-4e53-9942-13369e592c70",
     "showTitle": false,
     "tableResultSettingsMap": {},
     "title": ""
    }
   },
   "outputs": [],
   "source": [
    "application_id=\"257f1bbb-d8da-46ed-9dc1-a417530e9324\"\n",
    "directory_id=\"654ad10e-3170-4844-bb2d-b2c7a9ae5a8d\"\n",
    "service_credential = dbutils.secrets.get('blob-scope-rawstorage123','service-credential-project')\n",
    "\n",
    "spark.conf.set(\"fs.azure.account.auth.type.rawstorage123.dfs.core.windows.net\", \"OAuth\")\n",
    "spark.conf.set(\"fs.azure.account.oauth.provider.type.rawstorage123.dfs.core.windows.net\", \"org.apache.hadoop.fs.azurebfs.oauth2.ClientCredsTokenProvider\")\n",
    "spark.conf.set(\"fs.azure.account.oauth2.client.id.rawstorage123.dfs.core.windows.net\", application_id)\n",
    "spark.conf.set(\"fs.azure.account.oauth2.client.secret.rawstorage123.dfs.core.windows.net\", service_credential)\n",
    "spark.conf.set(\"fs.azure.account.oauth2.client.endpoint.rawstorage123.dfs.core.windows.net\", f\"https://login.microsoftonline.com/{directory_id}/oauth2/token\")"
   ]
  },
  {
   "cell_type": "code",
   "execution_count": 0,
   "metadata": {
    "application/vnd.databricks.v1+cell": {
     "cellMetadata": {
      "byteLimit": 2048000,
      "rowLimit": 10000
     },
     "inputWidgets": {},
     "nuid": "69379d92-9c97-4bf8-b483-31eddbcee37c",
     "showTitle": false,
     "tableResultSettingsMap": {},
     "title": ""
    }
   },
   "outputs": [
    {
     "output_type": "display_data",
     "data": {
      "text/html": [
       "<style scoped>\n",
       "  .table-result-container {\n",
       "    max-height: 300px;\n",
       "    overflow: auto;\n",
       "  }\n",
       "  table, th, td {\n",
       "    border: 1px solid black;\n",
       "    border-collapse: collapse;\n",
       "  }\n",
       "  th, td {\n",
       "    padding: 5px;\n",
       "  }\n",
       "  th {\n",
       "    text-align: left;\n",
       "  }\n",
       "</style><div class='table-result-container'><table class='table-result'><thead style='background-color: white'><tr><th>path</th><th>name</th><th>size</th><th>modificationTime</th></tr></thead><tbody><tr><td>abfss://processed@rawstorage123.dfs.core.windows.net/processed_renamed/processed_sales_data.csv</td><td>processed_sales_data.csv</td><td>8381</td><td>1733317256000</td></tr></tbody></table></div>"
      ]
     },
     "metadata": {
      "application/vnd.databricks.v1+output": {
       "addedWidgets": {},
       "aggData": [],
       "aggError": "",
       "aggOverflow": false,
       "aggSchema": [],
       "aggSeriesLimitReached": false,
       "aggType": "",
       "arguments": {},
       "columnCustomDisplayInfos": {},
       "data": [
        [
         "abfss://processed@rawstorage123.dfs.core.windows.net/processed_renamed/processed_sales_data.csv",
         "processed_sales_data.csv",
         8381,
         1733317256000
        ]
       ],
       "datasetInfos": [],
       "dbfsResultPath": null,
       "isJsonSchema": true,
       "metadata": {},
       "overflow": false,
       "plotOptions": {
        "customPlotOptions": {},
        "displayType": "table",
        "pivotAggregation": null,
        "pivotColumns": null,
        "xColumns": null,
        "yColumns": null
       },
       "removedWidgets": [],
       "schema": [
        {
         "metadata": "{}",
         "name": "path",
         "type": "\"string\""
        },
        {
         "metadata": "{}",
         "name": "name",
         "type": "\"string\""
        },
        {
         "metadata": "{}",
         "name": "size",
         "type": "\"long\""
        },
        {
         "metadata": "{}",
         "name": "modificationTime",
         "type": "\"long\""
        }
       ],
       "type": "table"
      }
     },
     "output_type": "display_data"
    }
   ],
   "source": [
    "display(dbutils.fs.ls(\"abfss://processed@rawstorage123.dfs.core.windows.net/processed_renamed\"))"
   ]
  },
  {
   "cell_type": "code",
   "execution_count": 0,
   "metadata": {
    "application/vnd.databricks.v1+cell": {
     "cellMetadata": {
      "byteLimit": 2048000,
      "rowLimit": 10000
     },
     "inputWidgets": {},
     "nuid": "ac921c4c-0cff-4372-9221-b0c4df0e320f",
     "showTitle": false,
     "tableResultSettingsMap": {},
     "title": ""
    }
   },
   "outputs": [
    {
     "output_type": "stream",
     "name": "stdout",
     "output_type": "stream",
     "text": [
      "root\n |-- TransactionID: string (nullable = true)\n |-- CustomerName: string (nullable = true)\n |-- Product: string (nullable = true)\n |-- Quantity: double (nullable = true)\n |-- Region: string (nullable = true)\n |-- UnitPrice: double (nullable = true)\n |-- TransactionDate: date (nullable = true)\n |-- TotalAmount: integer (nullable = true)\n\n"
     ]
    }
   ],
   "source": [
    "from pyspark.sql import functions as F\n",
    "from pyspark.sql.types import *\n",
    "\n",
    "sales_schema = StructType([\n",
    "    StructField(\"TransactionID\",StringType(), True),\n",
    "    StructField(\"CustomerName\",StringType(), True),\n",
    "    StructField(\"Product\", StringType(), True),\n",
    "    StructField(\"Quantity\",DoubleType(), True),\n",
    "    StructField(\"Region\", StringType(), True),\n",
    "    StructField(\"UnitPrice\", DoubleType(), True),\n",
    "    StructField(\"TransactionDate\", DateType(), True),\n",
    "    StructField(\"TotalAmount\", IntegerType(), True),\n",
    "])\n",
    "\n",
    "df = spark.read.csv(\n",
    "    \"abfss://processed@rawstorage123.dfs.core.windows.net/processed_renamed/processed_sales_data.csv\",\n",
    "    header=True,\n",
    "    schema=sales_schema\n",
    ")\n",
    "df.printSchema()"
   ]
  },
  {
   "cell_type": "code",
   "execution_count": 0,
   "metadata": {
    "application/vnd.databricks.v1+cell": {
     "cellMetadata": {
      "byteLimit": 2048000,
      "rowLimit": 10000
     },
     "inputWidgets": {},
     "nuid": "b46bbec5-ba4f-4db0-9efe-f7907f05e820",
     "showTitle": false,
     "tableResultSettingsMap": {},
     "title": ""
    }
   },
   "outputs": [
    {
     "output_type": "stream",
     "name": "stdout",
     "output_type": "stream",
     "text": [
      "+--------------------+----------------+-------+--------+------+---------+---------------+-----------+--------------------+\n|       TransactionID|    CustomerName|Product|Quantity|Region|UnitPrice|TransactionDate|TotalAmount|           TimeStamp|\n+--------------------+----------------+-------+--------+------+---------+---------------+-----------+--------------------+\n|c36c12af-d6ef-485...|   Darlene House| Laptop|    10.0| South|    372.0|     2024-03-01|       NULL|2024-12-09 12:19:...|\n|6e0af861-fe73-43f...|   Stuart Barron| Laptop|     0.0| North|    481.0|     2024-04-21|       NULL|2024-12-09 12:19:...|\n|a359713b-cad7-4e1...|   Maureen Lyons| Tablet|     2.0|  East|    490.0|     2024-06-03|       NULL|2024-12-09 12:19:...|\n|fed09892-d3e8-492...|        John Lee| Laptop|     0.0| South|    345.0|     2024-04-03|       NULL|2024-12-09 12:19:...|\n|998d01e2-7be6-445...|    Daniel Walls| Laptop|     7.0| South|    223.0|     2024-06-09|       NULL|2024-12-09 12:19:...|\n|0c0c249a-20f3-422...|   Nicholas Cruz| Laptop|     1.0| North|    384.0|     2024-10-10|       NULL|2024-12-09 12:19:...|\n|8ec976ad-bd94-469...|  Andrea Morales| Laptop|     3.0|  East|    361.0|     2024-06-24|       NULL|2024-12-09 12:19:...|\n|c8576bd0-0b3c-4d6...|    Ethan Thomas| Laptop|     0.0| South|    340.0|     2024-09-29|       NULL|2024-12-09 12:19:...|\n|b01682d6-8b67-415...|      Ann Thomas| Laptop|     1.0|  East|    379.0|     2024-07-26|       NULL|2024-12-09 12:19:...|\n|dfd452cd-0a75-43d...|      Paul Smith| Tablet|     0.0|  West|    127.0|     2024-03-25|       NULL|2024-12-09 12:19:...|\n|e56b692d-0096-4e4...|   Todd Sandoval| Laptop|     0.0| North|    246.0|     2024-06-08|       NULL|2024-12-09 12:19:...|\n|778154ce-86c4-460...|     Colton Cole| Laptop|     0.0|  East|    419.0|     2024-06-02|       NULL|2024-12-09 12:19:...|\n|450bb9ce-5f67-4c9...|   Erica Nichols| Laptop|     0.0| North|     63.0|     2024-11-30|       NULL|2024-12-09 12:19:...|\n|ae8ea305-06b2-428...|     Lisa Fowler| Laptop|     9.0| North|    295.0|     2024-11-11|       NULL|2024-12-09 12:19:...|\n|34be067d-e014-43a...|  Christy Garcia| Laptop|     3.0| North|    103.0|     2024-10-12|       NULL|2024-12-09 12:19:...|\n|f116a929-0210-4c4...|   Monica Lawson| Tablet|     1.0| North|    496.0|     2024-06-12|       NULL|2024-12-09 12:19:...|\n|c0869c82-9d9d-437...|  Brandon Parker| Laptop|     4.0| North|    140.0|     2024-03-21|       NULL|2024-12-09 12:19:...|\n|a4522c8a-9978-4f6...|Katherine Wright| Tablet|     0.0| North|    364.0|     2024-02-29|       NULL|2024-12-09 12:19:...|\n|6f15509e-ab1a-4d7...|     Erin Snyder| Laptop|     1.0|  West|    248.0|     2024-05-16|       NULL|2024-12-09 12:19:...|\n|bb9f3d4f-f4ce-441...| Jessica Huffman| Laptop|     2.0|  West|    105.0|     2024-03-01|       NULL|2024-12-09 12:19:...|\n+--------------------+----------------+-------+--------+------+---------+---------------+-----------+--------------------+\nonly showing top 20 rows\n\n"
     ]
    }
   ],
   "source": [
    "from pyspark.sql.functions import current_timestamp\n",
    "\n",
    "#df.withColumn(\"TransactionDate\", current_timestamp()).write.mode(\"overwrite\").option(\"mergeSchema\", \"true\").option(\"overwriteSchema\", \"true\").format(\"delta\").save(\"abfss://staging@rawstorage123.dfs.core.windows.net/processed_sales_data\").show()\n",
    "\n",
    "df.withColumn(\"TimeStamp\", current_timestamp()).show()"
   ]
  },
  {
   "cell_type": "code",
   "execution_count": 0,
   "metadata": {
    "application/vnd.databricks.v1+cell": {
     "cellMetadata": {
      "byteLimit": 2048000,
      "rowLimit": 10000
     },
     "inputWidgets": {},
     "nuid": "193bb15f-c4d6-4330-8023-fbad622bb5d6",
     "showTitle": false,
     "tableResultSettingsMap": {},
     "title": ""
    }
   },
   "outputs": [
    {
     "output_type": "display_data",
     "data": {
      "text/html": [
       "<style scoped>\n",
       "  .table-result-container {\n",
       "    max-height: 300px;\n",
       "    overflow: auto;\n",
       "  }\n",
       "  table, th, td {\n",
       "    border: 1px solid black;\n",
       "    border-collapse: collapse;\n",
       "  }\n",
       "  th, td {\n",
       "    padding: 5px;\n",
       "  }\n",
       "  th {\n",
       "    text-align: left;\n",
       "  }\n",
       "</style><div class='table-result-container'><table class='table-result'><thead style='background-color: white'><tr><th>TransactionID</th><th>CustomerName</th><th>Product</th><th>Quantity</th><th>Region</th><th>UnitPrice</th><th>TransactionDate</th><th>TotalAmount</th><th>DiscountedAmount</th></tr></thead><tbody><tr><td>c36c12af-d6ef-485d-b81a-4dfd5016acba</td><td>Darlene House</td><td>Laptop</td><td>10.0</td><td>South</td><td>372.0</td><td>2024-03-01</td><td>null</td><td>null</td></tr><tr><td>a359713b-cad7-4e1a-8e9d-312ac06e65d8</td><td>Maureen Lyons</td><td>Tablet</td><td>2.0</td><td>East</td><td>490.0</td><td>2024-06-03</td><td>null</td><td>null</td></tr><tr><td>998d01e2-7be6-4456-9513-954309839c04</td><td>Daniel Walls</td><td>Laptop</td><td>7.0</td><td>South</td><td>223.0</td><td>2024-06-09</td><td>null</td><td>null</td></tr><tr><td>0c0c249a-20f3-422d-9699-532eee6d8874</td><td>Nicholas Cruz</td><td>Laptop</td><td>1.0</td><td>North</td><td>384.0</td><td>2024-10-10</td><td>null</td><td>null</td></tr><tr><td>8ec976ad-bd94-4694-983f-8f31d3dd5fbd</td><td>Andrea Morales</td><td>Laptop</td><td>3.0</td><td>East</td><td>361.0</td><td>2024-06-24</td><td>null</td><td>null</td></tr><tr><td>b01682d6-8b67-4156-bfee-5142b19ffae7</td><td>Ann Thomas</td><td>Laptop</td><td>1.0</td><td>East</td><td>379.0</td><td>2024-07-26</td><td>null</td><td>null</td></tr><tr><td>ae8ea305-06b2-428e-8bf9-c2c606d07170</td><td>Lisa Fowler</td><td>Laptop</td><td>9.0</td><td>North</td><td>295.0</td><td>2024-11-11</td><td>null</td><td>null</td></tr><tr><td>34be067d-e014-43a4-a40b-80a88483cf91</td><td>Christy Garcia</td><td>Laptop</td><td>3.0</td><td>North</td><td>103.0</td><td>2024-10-12</td><td>null</td><td>null</td></tr><tr><td>f116a929-0210-4c4a-818d-6486816b892b</td><td>Monica Lawson</td><td>Tablet</td><td>1.0</td><td>North</td><td>496.0</td><td>2024-06-12</td><td>null</td><td>null</td></tr><tr><td>c0869c82-9d9d-4374-b14a-ca8430def93e</td><td>Brandon Parker</td><td>Laptop</td><td>4.0</td><td>North</td><td>140.0</td><td>2024-03-21</td><td>null</td><td>null</td></tr><tr><td>6f15509e-ab1a-4d7a-98a4-45ec378a0192</td><td>Erin Snyder</td><td>Laptop</td><td>1.0</td><td>West</td><td>248.0</td><td>2024-05-16</td><td>null</td><td>null</td></tr><tr><td>bb9f3d4f-f4ce-4412-aaf5-fe5420ace73b</td><td>Jessica Huffman</td><td>Laptop</td><td>2.0</td><td>West</td><td>105.0</td><td>2024-03-01</td><td>null</td><td>null</td></tr><tr><td>ab7e6e8d-3de8-4c6f-a1a8-ce7c900bfbbd</td><td>Johnathan Cain</td><td>Laptop</td><td>4.0</td><td>South</td><td>326.0</td><td>2024-10-04</td><td>null</td><td>null</td></tr><tr><td>97e5b7d3-01c6-404a-b7f0-425346a2a4f0</td><td>Linda Summers</td><td>Tablet</td><td>9.0</td><td>East</td><td>352.0</td><td>2024-08-12</td><td>null</td><td>null</td></tr><tr><td>8c876e75-efde-4036-a8d4-8af30a45bd3f</td><td>Andrea Taylor</td><td>Laptop</td><td>1.0</td><td>South</td><td>121.0</td><td>2024-09-24</td><td>null</td><td>null</td></tr><tr><td>2a092da0-c13f-4f0e-8e04-464839f0b5d1</td><td>Stephen Smith</td><td>Laptop</td><td>8.0</td><td>East</td><td>460.0</td><td>2024-11-09</td><td>null</td><td>null</td></tr><tr><td>323ce06c-96b9-4a0f-8d6f-120cb214e828</td><td>Gerald Park</td><td>Tablet</td><td>2.0</td><td>West</td><td>291.0</td><td>2024-02-20</td><td>null</td><td>null</td></tr><tr><td>6c8fd853-a203-4a61-b5c0-2c499ed9edb8</td><td>Christopher Nelson</td><td>Tablet</td><td>8.0</td><td>West</td><td>130.0</td><td>2024-05-13</td><td>null</td><td>null</td></tr><tr><td>0141fa3c-b04a-4b31-836a-0eef021aad2f</td><td>Thomas Clayton</td><td>Laptop</td><td>3.0</td><td>North</td><td>329.0</td><td>2024-11-02</td><td>null</td><td>null</td></tr><tr><td>6dd4873c-d1f7-4910-8833-fbf33b627a45</td><td>Mark Jones</td><td>Laptop</td><td>6.0</td><td>East</td><td>349.0</td><td>2024-05-22</td><td>null</td><td>null</td></tr><tr><td>a82f02c8-6048-4dcb-9693-520bcbbfa4e8</td><td>Vincent Steele Jr.</td><td>Tablet</td><td>7.0</td><td>East</td><td>193.0</td><td>2024-03-12</td><td>null</td><td>null</td></tr><tr><td>30d33ebd-3e79-47a3-b246-ab3a92fd376b</td><td>Chase Washington</td><td>Laptop</td><td>3.0</td><td>South</td><td>415.0</td><td>2024-04-05</td><td>null</td><td>null</td></tr><tr><td>4895baa8-c634-4250-9c12-ed836fdee69f</td><td>Mary Logan DVM</td><td>Laptop</td><td>7.0</td><td>North</td><td>488.0</td><td>2024-06-20</td><td>null</td><td>null</td></tr><tr><td>fee3e6f8-d80b-4a69-b559-d2c8929c8df4</td><td>Jeffrey Horton</td><td>Tablet</td><td>3.0</td><td>North</td><td>287.0</td><td>2024-10-09</td><td>null</td><td>null</td></tr><tr><td>f4ecb27e-1eeb-41a6-a6a0-c2f5e5fafb0a</td><td>Michael Jones</td><td>Tablet</td><td>8.0</td><td>South</td><td>229.0</td><td>2024-04-15</td><td>null</td><td>null</td></tr><tr><td>87847a11-1711-4f5f-a91e-0454a9ad80f0</td><td>Christopher Curtis</td><td>Laptop</td><td>4.0</td><td>East</td><td>389.0</td><td>2024-10-15</td><td>null</td><td>null</td></tr><tr><td>9ac77cbe-382f-4a56-9f58-c812f4d24c26</td><td>Amanda Thomas</td><td>Laptop</td><td>1.0</td><td>North</td><td>73.0</td><td>2024-04-12</td><td>null</td><td>null</td></tr><tr><td>41b98e56-276e-4b12-a532-7ed77c39aa8d</td><td>Daniel Martinez</td><td>Laptop</td><td>5.0</td><td>West</td><td>332.0</td><td>2024-02-12</td><td>null</td><td>null</td></tr><tr><td>9ced51b7-a0e0-4219-91bb-b6f9f839870d</td><td>Kenneth Ellis</td><td>Laptop</td><td>1.0</td><td>West</td><td>393.0</td><td>2024-05-17</td><td>null</td><td>null</td></tr><tr><td>bdac9f79-a06c-4e7c-b249-6cc8351d0353</td><td>Mariah Anderson</td><td>Tablet</td><td>5.0</td><td>West</td><td>255.0</td><td>2024-06-18</td><td>null</td><td>null</td></tr><tr><td>e0f9d657-b898-4b5a-9481-4a3577ce644a</td><td>Scott Moore</td><td>Laptop</td><td>3.0</td><td>West</td><td>409.0</td><td>2024-11-04</td><td>null</td><td>null</td></tr><tr><td>5449f262-7965-408a-a9e1-a0caa375d52e</td><td>Stephen Williamson</td><td>Laptop</td><td>1.0</td><td>East</td><td>118.0</td><td>2024-08-12</td><td>null</td><td>null</td></tr><tr><td>3a40ec1e-51a4-4fa8-a126-fb86458235fd</td><td>Kelly Beard</td><td>Laptop</td><td>1.0</td><td>North</td><td>67.0</td><td>2024-04-01</td><td>null</td><td>null</td></tr><tr><td>7340fc8a-92c4-4490-90a6-52af72ef58e7</td><td>Glen Alvarado</td><td>Laptop</td><td>6.0</td><td>West</td><td>61.0</td><td>2024-03-04</td><td>null</td><td>null</td></tr><tr><td>03138bf0-8b70-478c-bafe-166c3268162b</td><td>Mrs. Mary Blankenship</td><td>Laptop</td><td>8.0</td><td>North</td><td>307.0</td><td>2024-02-26</td><td>null</td><td>null</td></tr><tr><td>0931c839-d9a6-4b51-9715-30a7520a9dbf</td><td>Derek Hernandez</td><td>Laptop</td><td>10.0</td><td>North</td><td>327.0</td><td>2024-01-31</td><td>null</td><td>null</td></tr><tr><td>7e7ce8e5-feb4-4947-9869-2547ba405574</td><td>Dr. Daniel King DDS</td><td>Laptop</td><td>5.0</td><td>West</td><td>107.0</td><td>2024-08-28</td><td>null</td><td>null</td></tr><tr><td>0121d08b-b639-4519-9360-8e919b0a739c</td><td>Gina Banks</td><td>Laptop</td><td>4.0</td><td>West</td><td>147.0</td><td>2024-06-06</td><td>null</td><td>null</td></tr><tr><td>5cbca593-e412-4dec-8bed-a2f83774e4f1</td><td>William Travis</td><td>Laptop</td><td>1.0</td><td>West</td><td>166.0</td><td>2024-02-26</td><td>null</td><td>null</td></tr><tr><td>76e73fcc-4337-4b24-91ca-428d4fa5eb19</td><td>Keith Carter</td><td>Laptop</td><td>5.0</td><td>East</td><td>426.0</td><td>2024-03-31</td><td>null</td><td>null</td></tr><tr><td>bca3b088-9e29-4ab2-a13a-798f54d708c2</td><td>Brandon Short</td><td>Tablet</td><td>3.0</td><td>South</td><td>400.0</td><td>2024-01-23</td><td>null</td><td>null</td></tr><tr><td>d186ae10-b1f0-48f2-a3a9-c9106ebd4eb2</td><td>Kim Cooper</td><td>Tablet</td><td>4.0</td><td>West</td><td>89.0</td><td>2024-11-18</td><td>null</td><td>null</td></tr><tr><td>fab86cca-0598-4bca-b229-979d5dfd758e</td><td>Ryan Dunn</td><td>Tablet</td><td>6.0</td><td>East</td><td>126.0</td><td>2024-07-15</td><td>null</td><td>null</td></tr><tr><td>df293035-020d-4df4-9783-109b63ca633b</td><td>Amber Brady</td><td>Laptop</td><td>3.0</td><td>North</td><td>320.0</td><td>2024-06-12</td><td>null</td><td>null</td></tr><tr><td>1899a1e0-d8da-45b8-8342-651917a172bc</td><td>Kyle Byrd</td><td>Tablet</td><td>3.0</td><td>West</td><td>471.0</td><td>2024-03-31</td><td>null</td><td>null</td></tr><tr><td>14c19ad4-50e9-404b-b1d5-1142be1ad5ff</td><td>Vanessa Mendoza</td><td>Tablet</td><td>3.0</td><td>East</td><td>360.0</td><td>2024-10-14</td><td>null</td><td>null</td></tr><tr><td>49f9dc43-f703-4de4-a87f-96915db513ed</td><td>Mia Benton</td><td>Laptop</td><td>3.0</td><td>East</td><td>200.0</td><td>2024-05-22</td><td>null</td><td>null</td></tr><tr><td>c9ee33b3-9650-48da-be63-5433b922a2eb</td><td>Corey Garner</td><td>Laptop</td><td>7.0</td><td>North</td><td>478.0</td><td>2024-08-16</td><td>null</td><td>null</td></tr><tr><td>5a96d15b-3432-420d-913d-d24d04325be3</td><td>Brett Thompson</td><td>Laptop</td><td>2.0</td><td>South</td><td>304.0</td><td>2024-09-14</td><td>null</td><td>null</td></tr><tr><td>5c46e5bb-198a-4f4d-a22d-6cf066f93ecd</td><td>Chelsey Romero</td><td>Tablet</td><td>1.0</td><td>South</td><td>293.0</td><td>2024-04-07</td><td>null</td><td>null</td></tr><tr><td>076be842-4974-4b14-9263-84e4268aa6bd</td><td>Stephanie Oneill</td><td>Laptop</td><td>4.0</td><td>East</td><td>260.0</td><td>2024-04-07</td><td>null</td><td>null</td></tr><tr><td>5eedd5c2-7b89-455e-bc7c-d77af2f9ba8f</td><td>Courtney Dodson</td><td>Tablet</td><td>5.0</td><td>North</td><td>468.0</td><td>2024-01-08</td><td>null</td><td>null</td></tr><tr><td>a84f24a8-ff1e-4fd1-88ac-ffecd292cf80</td><td>Raymond Smith</td><td>Laptop</td><td>4.0</td><td>East</td><td>300.0</td><td>2024-07-14</td><td>null</td><td>null</td></tr><tr><td>b32c4ed2-5830-4085-b60e-41a042bb9a82</td><td>John Johnson</td><td>Laptop</td><td>4.0</td><td>North</td><td>173.0</td><td>2024-10-03</td><td>null</td><td>null</td></tr><tr><td>e434087a-6f97-4cef-8871-2974eb6b5476</td><td>Marisa Patton</td><td>Tablet</td><td>1.0</td><td>North</td><td>407.0</td><td>2024-04-28</td><td>null</td><td>null</td></tr><tr><td>4c41f044-2f2a-42c2-ae42-36206f3db711</td><td>David Beck</td><td>Laptop</td><td>10.0</td><td>East</td><td>493.0</td><td>2024-05-01</td><td>null</td><td>null</td></tr><tr><td>a1c624cd-d425-4fb6-815b-78ae389a69e2</td><td>Sandra Davis</td><td>Laptop</td><td>10.0</td><td>West</td><td>379.0</td><td>2024-05-29</td><td>null</td><td>null</td></tr><tr><td>e6eb5efe-e0d7-4f8a-928f-94a17c1bb735</td><td>Cynthia Poole</td><td>Laptop</td><td>1.0</td><td>East</td><td>110.0</td><td>2024-07-10</td><td>null</td><td>null</td></tr><tr><td>7c46af09-ff18-456d-8d04-7cc1582639ba</td><td>Brady Sosa</td><td>Laptop</td><td>2.0</td><td>North</td><td>304.0</td><td>2024-04-14</td><td>null</td><td>null</td></tr></tbody></table></div>"
      ]
     },
     "metadata": {
      "application/vnd.databricks.v1+output": {
       "addedWidgets": {},
       "aggData": [],
       "aggError": "",
       "aggOverflow": false,
       "aggSchema": [],
       "aggSeriesLimitReached": false,
       "aggType": "",
       "arguments": {},
       "columnCustomDisplayInfos": {},
       "data": [
        [
         "c36c12af-d6ef-485d-b81a-4dfd5016acba",
         "Darlene House",
         "Laptop",
         10.0,
         "South",
         372.0,
         "2024-03-01",
         null,
         null
        ],
        [
         "a359713b-cad7-4e1a-8e9d-312ac06e65d8",
         "Maureen Lyons",
         "Tablet",
         2.0,
         "East",
         490.0,
         "2024-06-03",
         null,
         null
        ],
        [
         "998d01e2-7be6-4456-9513-954309839c04",
         "Daniel Walls",
         "Laptop",
         7.0,
         "South",
         223.0,
         "2024-06-09",
         null,
         null
        ],
        [
         "0c0c249a-20f3-422d-9699-532eee6d8874",
         "Nicholas Cruz",
         "Laptop",
         1.0,
         "North",
         384.0,
         "2024-10-10",
         null,
         null
        ],
        [
         "8ec976ad-bd94-4694-983f-8f31d3dd5fbd",
         "Andrea Morales",
         "Laptop",
         3.0,
         "East",
         361.0,
         "2024-06-24",
         null,
         null
        ],
        [
         "b01682d6-8b67-4156-bfee-5142b19ffae7",
         "Ann Thomas",
         "Laptop",
         1.0,
         "East",
         379.0,
         "2024-07-26",
         null,
         null
        ],
        [
         "ae8ea305-06b2-428e-8bf9-c2c606d07170",
         "Lisa Fowler",
         "Laptop",
         9.0,
         "North",
         295.0,
         "2024-11-11",
         null,
         null
        ],
        [
         "34be067d-e014-43a4-a40b-80a88483cf91",
         "Christy Garcia",
         "Laptop",
         3.0,
         "North",
         103.0,
         "2024-10-12",
         null,
         null
        ],
        [
         "f116a929-0210-4c4a-818d-6486816b892b",
         "Monica Lawson",
         "Tablet",
         1.0,
         "North",
         496.0,
         "2024-06-12",
         null,
         null
        ],
        [
         "c0869c82-9d9d-4374-b14a-ca8430def93e",
         "Brandon Parker",
         "Laptop",
         4.0,
         "North",
         140.0,
         "2024-03-21",
         null,
         null
        ],
        [
         "6f15509e-ab1a-4d7a-98a4-45ec378a0192",
         "Erin Snyder",
         "Laptop",
         1.0,
         "West",
         248.0,
         "2024-05-16",
         null,
         null
        ],
        [
         "bb9f3d4f-f4ce-4412-aaf5-fe5420ace73b",
         "Jessica Huffman",
         "Laptop",
         2.0,
         "West",
         105.0,
         "2024-03-01",
         null,
         null
        ],
        [
         "ab7e6e8d-3de8-4c6f-a1a8-ce7c900bfbbd",
         "Johnathan Cain",
         "Laptop",
         4.0,
         "South",
         326.0,
         "2024-10-04",
         null,
         null
        ],
        [
         "97e5b7d3-01c6-404a-b7f0-425346a2a4f0",
         "Linda Summers",
         "Tablet",
         9.0,
         "East",
         352.0,
         "2024-08-12",
         null,
         null
        ],
        [
         "8c876e75-efde-4036-a8d4-8af30a45bd3f",
         "Andrea Taylor",
         "Laptop",
         1.0,
         "South",
         121.0,
         "2024-09-24",
         null,
         null
        ],
        [
         "2a092da0-c13f-4f0e-8e04-464839f0b5d1",
         "Stephen Smith",
         "Laptop",
         8.0,
         "East",
         460.0,
         "2024-11-09",
         null,
         null
        ],
        [
         "323ce06c-96b9-4a0f-8d6f-120cb214e828",
         "Gerald Park",
         "Tablet",
         2.0,
         "West",
         291.0,
         "2024-02-20",
         null,
         null
        ],
        [
         "6c8fd853-a203-4a61-b5c0-2c499ed9edb8",
         "Christopher Nelson",
         "Tablet",
         8.0,
         "West",
         130.0,
         "2024-05-13",
         null,
         null
        ],
        [
         "0141fa3c-b04a-4b31-836a-0eef021aad2f",
         "Thomas Clayton",
         "Laptop",
         3.0,
         "North",
         329.0,
         "2024-11-02",
         null,
         null
        ],
        [
         "6dd4873c-d1f7-4910-8833-fbf33b627a45",
         "Mark Jones",
         "Laptop",
         6.0,
         "East",
         349.0,
         "2024-05-22",
         null,
         null
        ],
        [
         "a82f02c8-6048-4dcb-9693-520bcbbfa4e8",
         "Vincent Steele Jr.",
         "Tablet",
         7.0,
         "East",
         193.0,
         "2024-03-12",
         null,
         null
        ],
        [
         "30d33ebd-3e79-47a3-b246-ab3a92fd376b",
         "Chase Washington",
         "Laptop",
         3.0,
         "South",
         415.0,
         "2024-04-05",
         null,
         null
        ],
        [
         "4895baa8-c634-4250-9c12-ed836fdee69f",
         "Mary Logan DVM",
         "Laptop",
         7.0,
         "North",
         488.0,
         "2024-06-20",
         null,
         null
        ],
        [
         "fee3e6f8-d80b-4a69-b559-d2c8929c8df4",
         "Jeffrey Horton",
         "Tablet",
         3.0,
         "North",
         287.0,
         "2024-10-09",
         null,
         null
        ],
        [
         "f4ecb27e-1eeb-41a6-a6a0-c2f5e5fafb0a",
         "Michael Jones",
         "Tablet",
         8.0,
         "South",
         229.0,
         "2024-04-15",
         null,
         null
        ],
        [
         "87847a11-1711-4f5f-a91e-0454a9ad80f0",
         "Christopher Curtis",
         "Laptop",
         4.0,
         "East",
         389.0,
         "2024-10-15",
         null,
         null
        ],
        [
         "9ac77cbe-382f-4a56-9f58-c812f4d24c26",
         "Amanda Thomas",
         "Laptop",
         1.0,
         "North",
         73.0,
         "2024-04-12",
         null,
         null
        ],
        [
         "41b98e56-276e-4b12-a532-7ed77c39aa8d",
         "Daniel Martinez",
         "Laptop",
         5.0,
         "West",
         332.0,
         "2024-02-12",
         null,
         null
        ],
        [
         "9ced51b7-a0e0-4219-91bb-b6f9f839870d",
         "Kenneth Ellis",
         "Laptop",
         1.0,
         "West",
         393.0,
         "2024-05-17",
         null,
         null
        ],
        [
         "bdac9f79-a06c-4e7c-b249-6cc8351d0353",
         "Mariah Anderson",
         "Tablet",
         5.0,
         "West",
         255.0,
         "2024-06-18",
         null,
         null
        ],
        [
         "e0f9d657-b898-4b5a-9481-4a3577ce644a",
         "Scott Moore",
         "Laptop",
         3.0,
         "West",
         409.0,
         "2024-11-04",
         null,
         null
        ],
        [
         "5449f262-7965-408a-a9e1-a0caa375d52e",
         "Stephen Williamson",
         "Laptop",
         1.0,
         "East",
         118.0,
         "2024-08-12",
         null,
         null
        ],
        [
         "3a40ec1e-51a4-4fa8-a126-fb86458235fd",
         "Kelly Beard",
         "Laptop",
         1.0,
         "North",
         67.0,
         "2024-04-01",
         null,
         null
        ],
        [
         "7340fc8a-92c4-4490-90a6-52af72ef58e7",
         "Glen Alvarado",
         "Laptop",
         6.0,
         "West",
         61.0,
         "2024-03-04",
         null,
         null
        ],
        [
         "03138bf0-8b70-478c-bafe-166c3268162b",
         "Mrs. Mary Blankenship",
         "Laptop",
         8.0,
         "North",
         307.0,
         "2024-02-26",
         null,
         null
        ],
        [
         "0931c839-d9a6-4b51-9715-30a7520a9dbf",
         "Derek Hernandez",
         "Laptop",
         10.0,
         "North",
         327.0,
         "2024-01-31",
         null,
         null
        ],
        [
         "7e7ce8e5-feb4-4947-9869-2547ba405574",
         "Dr. Daniel King DDS",
         "Laptop",
         5.0,
         "West",
         107.0,
         "2024-08-28",
         null,
         null
        ],
        [
         "0121d08b-b639-4519-9360-8e919b0a739c",
         "Gina Banks",
         "Laptop",
         4.0,
         "West",
         147.0,
         "2024-06-06",
         null,
         null
        ],
        [
         "5cbca593-e412-4dec-8bed-a2f83774e4f1",
         "William Travis",
         "Laptop",
         1.0,
         "West",
         166.0,
         "2024-02-26",
         null,
         null
        ],
        [
         "76e73fcc-4337-4b24-91ca-428d4fa5eb19",
         "Keith Carter",
         "Laptop",
         5.0,
         "East",
         426.0,
         "2024-03-31",
         null,
         null
        ],
        [
         "bca3b088-9e29-4ab2-a13a-798f54d708c2",
         "Brandon Short",
         "Tablet",
         3.0,
         "South",
         400.0,
         "2024-01-23",
         null,
         null
        ],
        [
         "d186ae10-b1f0-48f2-a3a9-c9106ebd4eb2",
         "Kim Cooper",
         "Tablet",
         4.0,
         "West",
         89.0,
         "2024-11-18",
         null,
         null
        ],
        [
         "fab86cca-0598-4bca-b229-979d5dfd758e",
         "Ryan Dunn",
         "Tablet",
         6.0,
         "East",
         126.0,
         "2024-07-15",
         null,
         null
        ],
        [
         "df293035-020d-4df4-9783-109b63ca633b",
         "Amber Brady",
         "Laptop",
         3.0,
         "North",
         320.0,
         "2024-06-12",
         null,
         null
        ],
        [
         "1899a1e0-d8da-45b8-8342-651917a172bc",
         "Kyle Byrd",
         "Tablet",
         3.0,
         "West",
         471.0,
         "2024-03-31",
         null,
         null
        ],
        [
         "14c19ad4-50e9-404b-b1d5-1142be1ad5ff",
         "Vanessa Mendoza",
         "Tablet",
         3.0,
         "East",
         360.0,
         "2024-10-14",
         null,
         null
        ],
        [
         "49f9dc43-f703-4de4-a87f-96915db513ed",
         "Mia Benton",
         "Laptop",
         3.0,
         "East",
         200.0,
         "2024-05-22",
         null,
         null
        ],
        [
         "c9ee33b3-9650-48da-be63-5433b922a2eb",
         "Corey Garner",
         "Laptop",
         7.0,
         "North",
         478.0,
         "2024-08-16",
         null,
         null
        ],
        [
         "5a96d15b-3432-420d-913d-d24d04325be3",
         "Brett Thompson",
         "Laptop",
         2.0,
         "South",
         304.0,
         "2024-09-14",
         null,
         null
        ],
        [
         "5c46e5bb-198a-4f4d-a22d-6cf066f93ecd",
         "Chelsey Romero",
         "Tablet",
         1.0,
         "South",
         293.0,
         "2024-04-07",
         null,
         null
        ],
        [
         "076be842-4974-4b14-9263-84e4268aa6bd",
         "Stephanie Oneill",
         "Laptop",
         4.0,
         "East",
         260.0,
         "2024-04-07",
         null,
         null
        ],
        [
         "5eedd5c2-7b89-455e-bc7c-d77af2f9ba8f",
         "Courtney Dodson",
         "Tablet",
         5.0,
         "North",
         468.0,
         "2024-01-08",
         null,
         null
        ],
        [
         "a84f24a8-ff1e-4fd1-88ac-ffecd292cf80",
         "Raymond Smith",
         "Laptop",
         4.0,
         "East",
         300.0,
         "2024-07-14",
         null,
         null
        ],
        [
         "b32c4ed2-5830-4085-b60e-41a042bb9a82",
         "John Johnson",
         "Laptop",
         4.0,
         "North",
         173.0,
         "2024-10-03",
         null,
         null
        ],
        [
         "e434087a-6f97-4cef-8871-2974eb6b5476",
         "Marisa Patton",
         "Tablet",
         1.0,
         "North",
         407.0,
         "2024-04-28",
         null,
         null
        ],
        [
         "4c41f044-2f2a-42c2-ae42-36206f3db711",
         "David Beck",
         "Laptop",
         10.0,
         "East",
         493.0,
         "2024-05-01",
         null,
         null
        ],
        [
         "a1c624cd-d425-4fb6-815b-78ae389a69e2",
         "Sandra Davis",
         "Laptop",
         10.0,
         "West",
         379.0,
         "2024-05-29",
         null,
         null
        ],
        [
         "e6eb5efe-e0d7-4f8a-928f-94a17c1bb735",
         "Cynthia Poole",
         "Laptop",
         1.0,
         "East",
         110.0,
         "2024-07-10",
         null,
         null
        ],
        [
         "7c46af09-ff18-456d-8d04-7cc1582639ba",
         "Brady Sosa",
         "Laptop",
         2.0,
         "North",
         304.0,
         "2024-04-14",
         null,
         null
        ]
       ],
       "datasetInfos": [],
       "dbfsResultPath": null,
       "isJsonSchema": true,
       "metadata": {},
       "overflow": false,
       "plotOptions": {
        "customPlotOptions": {},
        "displayType": "table",
        "pivotAggregation": null,
        "pivotColumns": null,
        "xColumns": null,
        "yColumns": null
       },
       "removedWidgets": [],
       "schema": [
        {
         "metadata": "{}",
         "name": "TransactionID",
         "type": "\"string\""
        },
        {
         "metadata": "{}",
         "name": "CustomerName",
         "type": "\"string\""
        },
        {
         "metadata": "{}",
         "name": "Product",
         "type": "\"string\""
        },
        {
         "metadata": "{}",
         "name": "Quantity",
         "type": "\"double\""
        },
        {
         "metadata": "{}",
         "name": "Region",
         "type": "\"string\""
        },
        {
         "metadata": "{}",
         "name": "UnitPrice",
         "type": "\"double\""
        },
        {
         "metadata": "{}",
         "name": "TransactionDate",
         "type": "\"date\""
        },
        {
         "metadata": "{}",
         "name": "TotalAmount",
         "type": "\"integer\""
        },
        {
         "metadata": "{}",
         "name": "DiscountedAmount",
         "type": "\"double\""
        }
       ],
       "type": "table"
      }
     },
     "output_type": "display_data"
    }
   ],
   "source": [
    "from pyspark.sql.functions import expr, year,col\n",
    "\n",
    "# Clean Price Per Unit and derive Total Amount\n",
    "#df = df.withColumn(\"TotalAmount\", col(\"Quantity\") * col(\"UnitPrice\"))\n",
    "df = df.withColumn(\"DiscountedAmount\", col(\"TotalAmount\") * 0.9)\n",
    "\n",
    "df = df.filter(col(\"Quantity\") > 0)\n",
    "\n",
    "# Add Transaction Year\n",
    "#df = df.withColumn(\"TransactionYear\", year(col(\"TransactionDate\")))\n",
    "\n",
    "# Write to Delta Lake\n",
    "#df.write.format(\"csv\").mode(\"overwrite\").option(\"header\", \"true\").save(\"abfss://staging@rawstorage123.dfs.core.windows.net/processed_sales_data.csv\")\n",
    "\n",
    "#output_path = \"abfss://staging@rawstorage123.dfs.core.windows.net/processed_sales_data.csv\"  # Replace with your desired output path\n",
    "\n",
    "df.write.mode(\"overwrite\").partitionBy(\"Region\").format(\"csv\").option(\"header\", \"true\").save(\"abfss://staging@rawstorage123.dfs.core.windows.net/processed_sales_data.csv\")\n",
    "\n",
    "display(df)"
   ]
  },
  {
   "cell_type": "markdown",
   "metadata": {
    "application/vnd.databricks.v1+cell": {
     "cellMetadata": {},
     "inputWidgets": {},
     "nuid": "5fcdc5f3-c23e-449a-a5d2-70807d1a50fd",
     "showTitle": false,
     "tableResultSettingsMap": {},
     "title": ""
    }
   },
   "source": [
    "Day 1"
   ]
  },
  {
   "cell_type": "code",
   "execution_count": 0,
   "metadata": {
    "application/vnd.databricks.v1+cell": {
     "cellMetadata": {
      "byteLimit": 2048000,
      "rowLimit": 10000
     },
     "inputWidgets": {},
     "nuid": "770ecd60-c45a-4458-a0ba-07506f709235",
     "showTitle": false,
     "tableResultSettingsMap": {},
     "title": ""
    }
   },
   "outputs": [],
   "source": [
    "from pyspark.sql.functions import current_timestamp\n",
    "\n",
    "# Add a new column with the current timestamp\n",
    "df_with_date = df.withColumn(\"TransactionDate\", current_timestamp())\n",
    "\n",
    "# Write the DataFrame to Delta format with schema merge enabled\n",
    "df_with_date.write.mode(\"overwrite\").option(\"mergeSchema\", \"true\").option(\"overwriteSchema\", \"true\").format(\"delta\").save(\"abfss://staging@rawstorage123.dfs.core.windows.net/processed_sales_data/\")\n",
    "\n",
    "\n",
    "#df.write.mode(\"overwrite\").mode(\"overwrite\").format(\"delta\").save(\"abfss://staging@rawstorage123.dfs.core.windows.net/processed_sales_data\")"
   ]
  },
  {
   "cell_type": "markdown",
   "metadata": {
    "application/vnd.databricks.v1+cell": {
     "cellMetadata": {},
     "inputWidgets": {},
     "nuid": "d126ada7-fdc7-48b8-951f-06ec3e606824",
     "showTitle": false,
     "tableResultSettingsMap": {},
     "title": ""
    }
   },
   "source": [
    "Day 2"
   ]
  },
  {
   "cell_type": "code",
   "execution_count": 0,
   "metadata": {
    "application/vnd.databricks.v1+cell": {
     "cellMetadata": {
      "byteLimit": 2048000,
      "rowLimit": 10000
     },
     "inputWidgets": {},
     "nuid": "37d3ba36-2d33-4fe1-86a0-373f310cb6ee",
     "showTitle": false,
     "tableResultSettingsMap": {},
     "title": ""
    }
   },
   "outputs": [
    {
     "output_type": "display_data",
     "data": {
      "text/plain": [
       "\u001B[0;31m---------------------------------------------------------------------------\u001B[0m\n",
       "\u001B[0;31mAnalysisException\u001B[0m                         Traceback (most recent call last)\n",
       "File \u001B[0;32m<command-2153813398806621>, line 5\u001B[0m\n",
       "\u001B[1;32m      1\u001B[0m \u001B[38;5;28;01mfrom\u001B[39;00m \u001B[38;5;21;01mdelta\u001B[39;00m\u001B[38;5;21;01m.\u001B[39;00m\u001B[38;5;21;01mtables\u001B[39;00m \u001B[38;5;28;01mimport\u001B[39;00m DeltaTable\n",
       "\u001B[1;32m      3\u001B[0m existing_data \u001B[38;5;241m=\u001B[39m DeltaTable\u001B[38;5;241m.\u001B[39mforPath(spark, \u001B[38;5;124m\"\u001B[39m\u001B[38;5;124mabfss://staging@rawstorage123.dfs.core.windows.net/processed_sales_data/\u001B[39m\u001B[38;5;124m\"\u001B[39m)\n",
       "\u001B[0;32m----> 5\u001B[0m existing_data\u001B[38;5;241m.\u001B[39malias(\u001B[38;5;124m\"\u001B[39m\u001B[38;5;124mexisting\u001B[39m\u001B[38;5;124m\"\u001B[39m)\u001B[38;5;241m.\u001B[39mmerge(df\u001B[38;5;241m.\u001B[39malias(\u001B[38;5;124m\"\u001B[39m\u001B[38;5;124mnew\u001B[39m\u001B[38;5;124m\"\u001B[39m),\u001B[38;5;124m\"\u001B[39m\u001B[38;5;124mexisting.OrderID=new.OrderID\u001B[39m\u001B[38;5;124m\"\u001B[39m)\u001B[38;5;241m.\u001B[39mwhenMatchedUpdateAll()\u001B[38;5;241m.\u001B[39mwhenNotMatchedInsertAll()\u001B[38;5;241m.\u001B[39mexecute()\n",
       "\n",
       "File \u001B[0;32m/databricks/spark/python/delta/tables.py:1230\u001B[0m, in \u001B[0;36mDeltaMergeBuilder.execute\u001B[0;34m(self)\u001B[0m\n",
       "\u001B[1;32m   1223\u001B[0m \u001B[38;5;129m@since\u001B[39m(\u001B[38;5;241m0.4\u001B[39m)  \u001B[38;5;66;03m# type: ignore[arg-type]\u001B[39;00m\n",
       "\u001B[1;32m   1224\u001B[0m \u001B[38;5;28;01mdef\u001B[39;00m \u001B[38;5;21mexecute\u001B[39m(\u001B[38;5;28mself\u001B[39m) \u001B[38;5;241m-\u001B[39m\u001B[38;5;241m>\u001B[39m \u001B[38;5;28;01mNone\u001B[39;00m:\n",
       "\u001B[1;32m   1225\u001B[0m \u001B[38;5;250m    \u001B[39m\u001B[38;5;124;03m\"\"\"\u001B[39;00m\n",
       "\u001B[1;32m   1226\u001B[0m \u001B[38;5;124;03m    Execute the merge operation based on the built matched and not matched actions.\u001B[39;00m\n",
       "\u001B[1;32m   1227\u001B[0m \n",
       "\u001B[1;32m   1228\u001B[0m \u001B[38;5;124;03m    See :py:class:`~delta.tables.DeltaMergeBuilder` for complete usage details.\u001B[39;00m\n",
       "\u001B[1;32m   1229\u001B[0m \u001B[38;5;124;03m    \"\"\"\u001B[39;00m\n",
       "\u001B[0;32m-> 1230\u001B[0m     \u001B[38;5;28mself\u001B[39m\u001B[38;5;241m.\u001B[39m_jbuilder\u001B[38;5;241m.\u001B[39mexecute()\n",
       "\n",
       "File \u001B[0;32m/databricks/spark/python/lib/py4j-0.10.9.7-src.zip/py4j/java_gateway.py:1355\u001B[0m, in \u001B[0;36mJavaMember.__call__\u001B[0;34m(self, *args)\u001B[0m\n",
       "\u001B[1;32m   1349\u001B[0m command \u001B[38;5;241m=\u001B[39m proto\u001B[38;5;241m.\u001B[39mCALL_COMMAND_NAME \u001B[38;5;241m+\u001B[39m\\\n",
       "\u001B[1;32m   1350\u001B[0m     \u001B[38;5;28mself\u001B[39m\u001B[38;5;241m.\u001B[39mcommand_header \u001B[38;5;241m+\u001B[39m\\\n",
       "\u001B[1;32m   1351\u001B[0m     args_command \u001B[38;5;241m+\u001B[39m\\\n",
       "\u001B[1;32m   1352\u001B[0m     proto\u001B[38;5;241m.\u001B[39mEND_COMMAND_PART\n",
       "\u001B[1;32m   1354\u001B[0m answer \u001B[38;5;241m=\u001B[39m \u001B[38;5;28mself\u001B[39m\u001B[38;5;241m.\u001B[39mgateway_client\u001B[38;5;241m.\u001B[39msend_command(command)\n",
       "\u001B[0;32m-> 1355\u001B[0m return_value \u001B[38;5;241m=\u001B[39m get_return_value(\n",
       "\u001B[1;32m   1356\u001B[0m     answer, \u001B[38;5;28mself\u001B[39m\u001B[38;5;241m.\u001B[39mgateway_client, \u001B[38;5;28mself\u001B[39m\u001B[38;5;241m.\u001B[39mtarget_id, \u001B[38;5;28mself\u001B[39m\u001B[38;5;241m.\u001B[39mname)\n",
       "\u001B[1;32m   1358\u001B[0m \u001B[38;5;28;01mfor\u001B[39;00m temp_arg \u001B[38;5;129;01min\u001B[39;00m temp_args:\n",
       "\u001B[1;32m   1359\u001B[0m     \u001B[38;5;28;01mif\u001B[39;00m \u001B[38;5;28mhasattr\u001B[39m(temp_arg, \u001B[38;5;124m\"\u001B[39m\u001B[38;5;124m_detach\u001B[39m\u001B[38;5;124m\"\u001B[39m):\n",
       "\n",
       "File \u001B[0;32m/databricks/spark/python/pyspark/errors/exceptions/captured.py:261\u001B[0m, in \u001B[0;36mcapture_sql_exception.<locals>.deco\u001B[0;34m(*a, **kw)\u001B[0m\n",
       "\u001B[1;32m    257\u001B[0m converted \u001B[38;5;241m=\u001B[39m convert_exception(e\u001B[38;5;241m.\u001B[39mjava_exception)\n",
       "\u001B[1;32m    258\u001B[0m \u001B[38;5;28;01mif\u001B[39;00m \u001B[38;5;129;01mnot\u001B[39;00m \u001B[38;5;28misinstance\u001B[39m(converted, UnknownException):\n",
       "\u001B[1;32m    259\u001B[0m     \u001B[38;5;66;03m# Hide where the exception came from that shows a non-Pythonic\u001B[39;00m\n",
       "\u001B[1;32m    260\u001B[0m     \u001B[38;5;66;03m# JVM exception message.\u001B[39;00m\n",
       "\u001B[0;32m--> 261\u001B[0m     \u001B[38;5;28;01mraise\u001B[39;00m converted \u001B[38;5;28;01mfrom\u001B[39;00m \u001B[38;5;28;01mNone\u001B[39;00m\n",
       "\u001B[1;32m    262\u001B[0m \u001B[38;5;28;01melse\u001B[39;00m:\n",
       "\u001B[1;32m    263\u001B[0m     \u001B[38;5;28;01mraise\u001B[39;00m\n",
       "\n",
       "\u001B[0;31mAnalysisException\u001B[0m: [DELTA_MERGE_UNRESOLVED_EXPRESSION] Cannot resolve existing.OrderID in search condition given columns existing.TransactionID, existing.CustomerName, existing.Product, existing.Quantity, existing.Region, existing.UnitPrice, existing.TransactionDate, existing.TotalAmount, existing.DiscountedAmount, new.TransactionID, new.CustomerName, new.Product, new.Quantity, new.Region, new.UnitPrice, new.TransactionDate, new.TotalAmount, new.DiscountedAmount.; line 1 pos 0"
      ]
     },
     "metadata": {
      "application/vnd.databricks.v1+output": {
       "addedWidgets": {},
       "arguments": {},
       "datasetInfos": [],
       "jupyterProps": {
        "ename": "AnalysisException",
        "evalue": "[DELTA_MERGE_UNRESOLVED_EXPRESSION] Cannot resolve existing.OrderID in search condition given columns existing.TransactionID, existing.CustomerName, existing.Product, existing.Quantity, existing.Region, existing.UnitPrice, existing.TransactionDate, existing.TotalAmount, existing.DiscountedAmount, new.TransactionID, new.CustomerName, new.Product, new.Quantity, new.Region, new.UnitPrice, new.TransactionDate, new.TotalAmount, new.DiscountedAmount.; line 1 pos 0"
       },
       "metadata": {
        "errorSummary": "[DELTA_MERGE_UNRESOLVED_EXPRESSION] Cannot resolve existing.OrderID in search condition given columns existing.TransactionID, existing.CustomerName, existing.Product, existing.Quantity, existing.Region, existing.UnitPrice, existing.TransactionDate, existing.TotalAmount, existing.DiscountedAmount, new.TransactionID, new.CustomerName, new.Product, new.Quantity, new.Region, new.UnitPrice, new.TransactionDate, new.TotalAmount, new.DiscountedAmount. SQLSTATE: 42601"
       },
       "removedWidgets": [],
       "sqlProps": {
        "errorClass": "DELTA_MERGE_UNRESOLVED_EXPRESSION",
        "pysparkCallSite": null,
        "pysparkFragment": null,
        "sqlState": "42601",
        "stackTrace": null,
        "startIndex": 0,
        "stopIndex": 15
       },
       "stackFrames": [
        "\u001B[0;31m---------------------------------------------------------------------------\u001B[0m",
        "\u001B[0;31mAnalysisException\u001B[0m                         Traceback (most recent call last)",
        "File \u001B[0;32m<command-2153813398806621>, line 5\u001B[0m\n\u001B[1;32m      1\u001B[0m \u001B[38;5;28;01mfrom\u001B[39;00m \u001B[38;5;21;01mdelta\u001B[39;00m\u001B[38;5;21;01m.\u001B[39;00m\u001B[38;5;21;01mtables\u001B[39;00m \u001B[38;5;28;01mimport\u001B[39;00m DeltaTable\n\u001B[1;32m      3\u001B[0m existing_data \u001B[38;5;241m=\u001B[39m DeltaTable\u001B[38;5;241m.\u001B[39mforPath(spark, \u001B[38;5;124m\"\u001B[39m\u001B[38;5;124mabfss://staging@rawstorage123.dfs.core.windows.net/processed_sales_data/\u001B[39m\u001B[38;5;124m\"\u001B[39m)\n\u001B[0;32m----> 5\u001B[0m existing_data\u001B[38;5;241m.\u001B[39malias(\u001B[38;5;124m\"\u001B[39m\u001B[38;5;124mexisting\u001B[39m\u001B[38;5;124m\"\u001B[39m)\u001B[38;5;241m.\u001B[39mmerge(df\u001B[38;5;241m.\u001B[39malias(\u001B[38;5;124m\"\u001B[39m\u001B[38;5;124mnew\u001B[39m\u001B[38;5;124m\"\u001B[39m),\u001B[38;5;124m\"\u001B[39m\u001B[38;5;124mexisting.OrderID=new.OrderID\u001B[39m\u001B[38;5;124m\"\u001B[39m)\u001B[38;5;241m.\u001B[39mwhenMatchedUpdateAll()\u001B[38;5;241m.\u001B[39mwhenNotMatchedInsertAll()\u001B[38;5;241m.\u001B[39mexecute()\n",
        "File \u001B[0;32m/databricks/spark/python/delta/tables.py:1230\u001B[0m, in \u001B[0;36mDeltaMergeBuilder.execute\u001B[0;34m(self)\u001B[0m\n\u001B[1;32m   1223\u001B[0m \u001B[38;5;129m@since\u001B[39m(\u001B[38;5;241m0.4\u001B[39m)  \u001B[38;5;66;03m# type: ignore[arg-type]\u001B[39;00m\n\u001B[1;32m   1224\u001B[0m \u001B[38;5;28;01mdef\u001B[39;00m \u001B[38;5;21mexecute\u001B[39m(\u001B[38;5;28mself\u001B[39m) \u001B[38;5;241m-\u001B[39m\u001B[38;5;241m>\u001B[39m \u001B[38;5;28;01mNone\u001B[39;00m:\n\u001B[1;32m   1225\u001B[0m \u001B[38;5;250m    \u001B[39m\u001B[38;5;124;03m\"\"\"\u001B[39;00m\n\u001B[1;32m   1226\u001B[0m \u001B[38;5;124;03m    Execute the merge operation based on the built matched and not matched actions.\u001B[39;00m\n\u001B[1;32m   1227\u001B[0m \n\u001B[1;32m   1228\u001B[0m \u001B[38;5;124;03m    See :py:class:`~delta.tables.DeltaMergeBuilder` for complete usage details.\u001B[39;00m\n\u001B[1;32m   1229\u001B[0m \u001B[38;5;124;03m    \"\"\"\u001B[39;00m\n\u001B[0;32m-> 1230\u001B[0m     \u001B[38;5;28mself\u001B[39m\u001B[38;5;241m.\u001B[39m_jbuilder\u001B[38;5;241m.\u001B[39mexecute()\n",
        "File \u001B[0;32m/databricks/spark/python/lib/py4j-0.10.9.7-src.zip/py4j/java_gateway.py:1355\u001B[0m, in \u001B[0;36mJavaMember.__call__\u001B[0;34m(self, *args)\u001B[0m\n\u001B[1;32m   1349\u001B[0m command \u001B[38;5;241m=\u001B[39m proto\u001B[38;5;241m.\u001B[39mCALL_COMMAND_NAME \u001B[38;5;241m+\u001B[39m\\\n\u001B[1;32m   1350\u001B[0m     \u001B[38;5;28mself\u001B[39m\u001B[38;5;241m.\u001B[39mcommand_header \u001B[38;5;241m+\u001B[39m\\\n\u001B[1;32m   1351\u001B[0m     args_command \u001B[38;5;241m+\u001B[39m\\\n\u001B[1;32m   1352\u001B[0m     proto\u001B[38;5;241m.\u001B[39mEND_COMMAND_PART\n\u001B[1;32m   1354\u001B[0m answer \u001B[38;5;241m=\u001B[39m \u001B[38;5;28mself\u001B[39m\u001B[38;5;241m.\u001B[39mgateway_client\u001B[38;5;241m.\u001B[39msend_command(command)\n\u001B[0;32m-> 1355\u001B[0m return_value \u001B[38;5;241m=\u001B[39m get_return_value(\n\u001B[1;32m   1356\u001B[0m     answer, \u001B[38;5;28mself\u001B[39m\u001B[38;5;241m.\u001B[39mgateway_client, \u001B[38;5;28mself\u001B[39m\u001B[38;5;241m.\u001B[39mtarget_id, \u001B[38;5;28mself\u001B[39m\u001B[38;5;241m.\u001B[39mname)\n\u001B[1;32m   1358\u001B[0m \u001B[38;5;28;01mfor\u001B[39;00m temp_arg \u001B[38;5;129;01min\u001B[39;00m temp_args:\n\u001B[1;32m   1359\u001B[0m     \u001B[38;5;28;01mif\u001B[39;00m \u001B[38;5;28mhasattr\u001B[39m(temp_arg, \u001B[38;5;124m\"\u001B[39m\u001B[38;5;124m_detach\u001B[39m\u001B[38;5;124m\"\u001B[39m):\n",
        "File \u001B[0;32m/databricks/spark/python/pyspark/errors/exceptions/captured.py:261\u001B[0m, in \u001B[0;36mcapture_sql_exception.<locals>.deco\u001B[0;34m(*a, **kw)\u001B[0m\n\u001B[1;32m    257\u001B[0m converted \u001B[38;5;241m=\u001B[39m convert_exception(e\u001B[38;5;241m.\u001B[39mjava_exception)\n\u001B[1;32m    258\u001B[0m \u001B[38;5;28;01mif\u001B[39;00m \u001B[38;5;129;01mnot\u001B[39;00m \u001B[38;5;28misinstance\u001B[39m(converted, UnknownException):\n\u001B[1;32m    259\u001B[0m     \u001B[38;5;66;03m# Hide where the exception came from that shows a non-Pythonic\u001B[39;00m\n\u001B[1;32m    260\u001B[0m     \u001B[38;5;66;03m# JVM exception message.\u001B[39;00m\n\u001B[0;32m--> 261\u001B[0m     \u001B[38;5;28;01mraise\u001B[39;00m converted \u001B[38;5;28;01mfrom\u001B[39;00m \u001B[38;5;28;01mNone\u001B[39;00m\n\u001B[1;32m    262\u001B[0m \u001B[38;5;28;01melse\u001B[39;00m:\n\u001B[1;32m    263\u001B[0m     \u001B[38;5;28;01mraise\u001B[39;00m\n",
        "\u001B[0;31mAnalysisException\u001B[0m: [DELTA_MERGE_UNRESOLVED_EXPRESSION] Cannot resolve existing.OrderID in search condition given columns existing.TransactionID, existing.CustomerName, existing.Product, existing.Quantity, existing.Region, existing.UnitPrice, existing.TransactionDate, existing.TotalAmount, existing.DiscountedAmount, new.TransactionID, new.CustomerName, new.Product, new.Quantity, new.Region, new.UnitPrice, new.TransactionDate, new.TotalAmount, new.DiscountedAmount.; line 1 pos 0"
       ],
       "type": "baseError"
      }
     },
     "output_type": "display_data"
    }
   ],
   "source": [
    "from delta.tables import DeltaTable\n",
    "\n",
    "existing_data = DeltaTable.forPath(spark, \"abfss://staging@rawstorage123.dfs.core.windows.net/processed_sales_data/\")\n",
    "\n",
    "existing_data.alias(\"existing\").merge(df.alias(\"new\"),\"existing.OrderID=new.OrderID\").whenMatchedUpdateAll().whenNotMatchedInsertAll().execute()"
   ]
  }
 ],
 "metadata": {
  "application/vnd.databricks.v1+notebook": {
   "computePreferences": null,
   "dashboards": [],
   "environmentMetadata": {
    "base_environment": "",
    "client": "1"
   },
   "language": "python",
   "notebookMetadata": {
    "pythonIndentUnit": 4
   },
   "notebookName": "staging",
   "widgets": {}
  },
  "language_info": {
   "name": "python"
  }
 },
 "nbformat": 4,
 "nbformat_minor": 0
}